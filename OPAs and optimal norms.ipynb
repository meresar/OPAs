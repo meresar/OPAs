{
 "cells": [
  {
   "cell_type": "code",
   "execution_count": 1,
   "metadata": {
    "collapsed": false
   },
   "outputs": [
   ],
   "source": [
    "#setup; don't mess with this\n",
    "Q.<z1,z2>=PolynomialRing(QQ,order='negdeglex') #\n",
    "def buildmonoms(howmany): #important to build the monomials in the right order so our OPAs will be in a reasonable order\n",
    "    Q.<z1,z2>=PolynomialRing(QQ,order='negdeglex')\n",
    "    monomslist=[]\n",
    "    m=0\n",
    "    for totaldeg in range(0,howmany+1):\n",
    "        k=0;l=totaldeg;\n",
    "        while k<=totaldeg and m<=howmany:\n",
    "            monomslist.append(sage_eval('z1^'+str(l)+'*z2^'+str(k),locals=vars()))#so it's not just strings\n",
    "            #print (k,l),newcoefs[(k, l)]\n",
    "            m=m+1\n",
    "            k=k+1\n",
    "            l=l-1\n",
    "    return monomslist\n",
    "def multideg(monom): #take a monomial in z1 and z2 and return an ordered pair with its multidegree \n",
    "                    #(there's probably a way to do this more generally)\n",
    "    Q.<z1,z2>=PolynomialRing(QQ,order='negdeglex')\n",
    "    z1deg=monom.degree(z1)\n",
    "    z2deg=monom.degree(z2)\n",
    "    return (z1deg,z2deg)\n",
    "def coeffdict(poly,monomslist): #takes a polynomial (as an expression) and a pregenerated list of monomials and returns a dictionary\n",
    "                                # keys are ordered pairs of degrees of a monomial, entries are coefficients\n",
    "    polydict={}\n",
    "    for monom in monomslist:\n",
    "        multi=multideg(monom)\n",
    "        #print(multi)\n",
    "        d={z1:multi[0],z2:multi[1]}\n",
    "        #print(d)\n",
    "        polydict.update({multideg(monom):poly.coefficient(d)})\n",
    "    return polydict\n",
    "#inner product\n",
    "def InnerProd(f,g,monomslist):\n",
    "    cfsf=coeffdict(f,monomslist)#the coefficients paired into a dictionary with the multi-indices\n",
    "    cfsg=coeffdict(g,monomslist)\n",
    "    #print cfsf\n",
    "    #print cfsg\n",
    "    pairs=list(set(list(cfsf.keys())+list(cfsg.keys())))\n",
    "    ip=0\n",
    "    for alpha in pairs:\n",
    "        term=cfsf[alpha]*conjugate(cfsg[alpha])\n",
    "        ip=ip+term\n",
    "    return ip\n",
    "#\n",
    "def buildMatrix(monomslist,fcn,whichpn):\n",
    "    M=matrix(QQ,whichpn+1,lambda x,y: InnerProd(monomslist[x]*fcn,monomslist[y]*fcn,monomslist))\n",
    "    return M\n",
    "def RHSmateq(f,whichpn):\n",
    "    fcn(z1,z2)=f\n",
    "    RHSveclist=[conjugate(f(0,0))]\n",
    "    for n in range(whichpn):\n",
    "        RHSveclist=RHSveclist+[0]\n",
    "    return vector(RHSveclist)\n",
    "# puts the coefficients from a list into the polynomial\n",
    "def coeffpoly(optimal_list,whichOA,monomslist):\n",
    "    thepoly='0'\n",
    "    for coef in range(0,whichOA+1):\n",
    "            thepoly=thepoly+'+'+str(optimal_list[coef])+'*'+str(monomslist[coef])\n",
    "            #print (k,l),newcoefs[(k, l)]\n",
    "    return sage_eval(thepoly,locals={'z1':z1,'z2':z2})"
   ]
  },
  {
   "cell_type": "code",
   "execution_count": 2,
   "metadata": {
    "collapsed": false
   },
   "outputs": [
    {
     "name": "stdout",
     "output_type": "stream",
     "text": [
      "[1, z1, z2, z1^2, z1*z2, z2^2, z1^3, z1^2*z2, z1*z2^2, z2^3, z1^4, z1^3*z2, z1^2*z2^2, z1*z2^3, z2^4, z1^5, z1^4*z2, z1^3*z2^2, z1^2*z2^3, z1*z2^4, z2^5, z1^6, z1^5*z2, z1^4*z2^2, z1^3*z2^3, z1^2*z2^4, z1*z2^5, z2^6, z1^7, z1^6*z2, z1^5*z2^2, z1^4*z2^3, z1^3*z2^4, z1^2*z2^5, z1*z2^6, z2^7, z1^8, z1^7*z2, z1^6*z2^2, z1^5*z2^3, z1^4*z2^4, z1^3*z2^5, z1^2*z2^6, z1*z2^7, z2^8, z1^9, z1^8*z2, z1^7*z2^2, z1^6*z2^3, z1^5*z2^4, z1^4*z2^5]\n"
     ]
    }
   ],
   "source": [
    "#getting a list of monomials\n",
    "mlist=buildmonoms(50) #you need to have at least as many monomials as optimal approximants, make sure you understand why\n",
    "print(mlist)"
   ]
  },
  {
   "cell_type": "code",
   "execution_count": 3,
   "metadata": {
    "collapsed": false
   },
   "outputs": [
   ],
   "source": [
    "#Function zoo #fill in the other functions we discussed\n",
    "p1=1-(z1+z2)/2\n",
    "p2=4 - 3*z1 - z2 - z1*z2 +z1^2\n",
    "p3=2*z1*z2 + (-1+i)*(z1+z2) - 2*i\n",
    "p4=(z1+1)*p1"
   ]
  },
  {
   "cell_type": "code",
   "execution_count": 8,
   "metadata": {
    "collapsed": false
   },
   "outputs": [
   ],
   "source": [
    "#Computing the OPAs and optimal norms\n",
    "f=p1\n",
    "howmany=15 #how many optimal approximants you need to compute\n",
    "opa=[]\n",
    "OptNorms=[]\n",
    "for whichOA in range(0,howmany):\n",
    "    JAMmat=buildMatrix(mlist,f,whichOA)\n",
    "    #print(JAMmat)\n",
    "    optimal_coeffs=list(JAMmat.solve_right(RHSmateq(f,whichOA)))\n",
    "    #print optimal_coeffs\n",
    "    Q.<z1,z2>=PolynomialRing(QQ,order='negdeglex')\n",
    "    q=coeffpoly(optimal_coeffs,whichOA,mlist)\n",
    "    opa=opa+[q]\n",
    "    tonorm=q*f-1\n",
    "    optimaldistsq=InnerProd(tonorm,tonorm,mlist)\n",
    "    OptNorms=OptNorms+[optimaldistsq]"
   ]
  },
  {
   "cell_type": "code",
   "execution_count": 11,
   "metadata": {
    "collapsed": false
   },
   "outputs": [
    {
     "data": {
      "text/html": [
       "<html><script type=\"math/tex; mode=display\">\\newcommand{\\Bold}[1]{\\mathbf{#1}}\\frac{2}{3}</script></html>"
      ],
      "text/latex": [
       "\\begin{math}\n",
       "\\newcommand{\\Bold}[1]{\\mathbf{#1}}\\frac{2}{3}\n",
       "\\end{math}"
      ],
      "text/plain": [
       "2/3"
      ]
     },
     "execution_count": 11,
     "metadata": {
     },
     "output_type": "execute_result"
    },
    {
     "data": {
      "text/html": [
       "<html><script type=\"math/tex; mode=display\">\\newcommand{\\Bold}[1]{\\mathbf{#1}}\\frac{3}{4} + \\frac{1}{4} z_{1}</script></html>"
      ],
      "text/latex": [
       "\\begin{math}\n",
       "\\newcommand{\\Bold}[1]{\\mathbf{#1}}\\frac{3}{4} + \\frac{1}{4} z_{1}\n",
       "\\end{math}"
      ],
      "text/plain": [
       "3/4 + 1/4*z1"
      ]
     },
     "execution_count": 11,
     "metadata": {
     },
     "output_type": "execute_result"
    },
    {
     "data": {
      "text/html": [
       "<html><script type=\"math/tex; mode=display\">\\newcommand{\\Bold}[1]{\\mathbf{#1}}\\frac{14}{17} + \\frac{4}{17} z_{1} + \\frac{4}{17} z_{2}</script></html>"
      ],
      "text/latex": [
       "\\begin{math}\n",
       "\\newcommand{\\Bold}[1]{\\mathbf{#1}}\\frac{14}{17} + \\frac{4}{17} z_{1} + \\frac{4}{17} z_{2}\n",
       "\\end{math}"
      ],
      "text/plain": [
       "14/17 + 4/17*z1 + 4/17*z2"
      ]
     },
     "execution_count": 11,
     "metadata": {
     },
     "output_type": "execute_result"
    },
    {
     "data": {
      "text/html": [
       "<html><script type=\"math/tex; mode=display\">\\newcommand{\\Bold}[1]{\\mathbf{#1}}\\frac{186}{223} + \\frac{60}{223} z_{1} + \\frac{52}{223} z_{2} + \\frac{20}{223} z_{1}^{2}</script></html>"
      ],
      "text/latex": [
       "\\begin{math}\n",
       "\\newcommand{\\Bold}[1]{\\mathbf{#1}}\\frac{186}{223} + \\frac{60}{223} z_{1} + \\frac{52}{223} z_{2} + \\frac{20}{223} z_{1}^{2}\n",
       "\\end{math}"
      ],
      "text/plain": [
       "186/223 + 60/223*z1 + 52/223*z2 + 20/223*z1^2"
      ]
     },
     "execution_count": 11,
     "metadata": {
     },
     "output_type": "execute_result"
    },
    {
     "data": {
      "text/html": [
       "<html><script type=\"math/tex; mode=display\">\\newcommand{\\Bold}[1]{\\mathbf{#1}}\\frac{1794}{2039} + \\frac{684}{2039} z_{1} + \\frac{620}{2039} z_{2} + \\frac{160}{2039} z_{1}^{2} + \\frac{408}{2039} z_{1} z_{2}</script></html>"
      ],
      "text/latex": [
       "\\begin{math}\n",
       "\\newcommand{\\Bold}[1]{\\mathbf{#1}}\\frac{1794}{2039} + \\frac{684}{2039} z_{1} + \\frac{620}{2039} z_{2} + \\frac{160}{2039} z_{1}^{2} + \\frac{408}{2039} z_{1} z_{2}\n",
       "\\end{math}"
      ],
      "text/plain": [
       "1794/2039 + 684/2039*z1 + 620/2039*z2 + 160/2039*z1^2 + 408/2039*z1*z2"
      ]
     },
     "execution_count": 11,
     "metadata": {
     },
     "output_type": "execute_result"
    },
    {
     "data": {
      "text/html": [
       "<html><script type=\"math/tex; mode=display\">\\newcommand{\\Bold}[1]{\\mathbf{#1}}\\frac{182}{205} + \\frac{68}{205} z_{1} + \\frac{68}{205} z_{2} + \\frac{16}{205} z_{1}^{2} + \\frac{8}{41} z_{1} z_{2} + \\frac{16}{205} z_{2}^{2}</script></html>"
      ],
      "text/latex": [
       "\\begin{math}\n",
       "\\newcommand{\\Bold}[1]{\\mathbf{#1}}\\frac{182}{205} + \\frac{68}{205} z_{1} + \\frac{68}{205} z_{2} + \\frac{16}{205} z_{1}^{2} + \\frac{8}{41} z_{1} z_{2} + \\frac{16}{205} z_{2}^{2}\n",
       "\\end{math}"
      ],
      "text/plain": [
       "182/205 + 68/205*z1 + 68/205*z2 + 16/205*z1^2 + 8/41*z1*z2 + 16/205*z2^2"
      ]
     },
     "execution_count": 11,
     "metadata": {
     },
     "output_type": "execute_result"
    },
    {
     "data": {
      "text/html": [
       "<html><script type=\"math/tex; mode=display\">\\newcommand{\\Bold}[1]{\\mathbf{#1}}\\frac{12402}{13951} + \\frac{4684}{13951} z_{1} + \\frac{660}{1993} z_{2} + \\frac{1248}{13951} z_{1}^{2} + \\frac{2712}{13951} z_{1} z_{2} + \\frac{1088}{13951} z_{2}^{2} + \\frac{416}{13951} z_{1}^{3}</script></html>"
      ],
      "text/latex": [
       "\\begin{math}\n",
       "\\newcommand{\\Bold}[1]{\\mathbf{#1}}\\frac{12402}{13951} + \\frac{4684}{13951} z_{1} + \\frac{660}{1993} z_{2} + \\frac{1248}{13951} z_{1}^{2} + \\frac{2712}{13951} z_{1} z_{2} + \\frac{1088}{13951} z_{2}^{2} + \\frac{416}{13951} z_{1}^{3}\n",
       "\\end{math}"
      ],
      "text/plain": [
       "12402/13951 + 4684/13951*z1 + 660/1993*z2 + 1248/13951*z1^2 + 2712/13951*z1*z2 + 1088/13951*z2^2 + 416/13951*z1^3"
      ]
     },
     "execution_count": 11,
     "metadata": {
     },
     "output_type": "execute_result"
    },
    {
     "data": {
      "text/html": [
       "<html><script type=\"math/tex; mode=display\">\\newcommand{\\Bold}[1]{\\mathbf{#1}}\\frac{56062}{61929} + \\frac{22852}{61929} z_{1} + \\frac{3068}{8847} z_{2} + \\frac{8072}{61929} z_{1}^{2} + \\frac{15160}{61929} z_{1} z_{2} + \\frac{1544}{20643} z_{2}^{2} + \\frac{160}{6881} z_{1}^{3} + \\frac{1072}{8847} z_{1}^{2} z_{2}</script></html>"
      ],
      "text/latex": [
       "\\begin{math}\n",
       "\\newcommand{\\Bold}[1]{\\mathbf{#1}}\\frac{56062}{61929} + \\frac{22852}{61929} z_{1} + \\frac{3068}{8847} z_{2} + \\frac{8072}{61929} z_{1}^{2} + \\frac{15160}{61929} z_{1} z_{2} + \\frac{1544}{20643} z_{2}^{2} + \\frac{160}{6881} z_{1}^{3} + \\frac{1072}{8847} z_{1}^{2} z_{2}\n",
       "\\end{math}"
      ],
      "text/plain": [
       "56062/61929 + 22852/61929*z1 + 3068/8847*z2 + 8072/61929*z1^2 + 15160/61929*z1*z2 + 1544/20643*z2^2 + 160/6881*z1^3 + 1072/8847*z1^2*z2"
      ]
     },
     "execution_count": 11,
     "metadata": {
     },
     "output_type": "execute_result"
    },
    {
     "data": {
      "text/html": [
       "<html><script type=\"math/tex; mode=display\">\\newcommand{\\Bold}[1]{\\mathbf{#1}}\\frac{31654}{34393} + \\frac{13144}{34393} z_{1} + \\frac{13032}{34393} z_{2} + \\frac{4294}{34393} z_{1}^{2} + \\frac{10000}{34393} z_{1} z_{2} + \\frac{4014}{34393} z_{2}^{2} + \\frac{770}{34393} z_{1}^{3} + \\frac{3968}{34393} z_{1}^{2} z_{2} + \\frac{4010}{34393} z_{1} z_{2}^{2}</script></html>"
      ],
      "text/latex": [
       "\\begin{math}\n",
       "\\newcommand{\\Bold}[1]{\\mathbf{#1}}\\frac{31654}{34393} + \\frac{13144}{34393} z_{1} + \\frac{13032}{34393} z_{2} + \\frac{4294}{34393} z_{1}^{2} + \\frac{10000}{34393} z_{1} z_{2} + \\frac{4014}{34393} z_{2}^{2} + \\frac{770}{34393} z_{1}^{3} + \\frac{3968}{34393} z_{1}^{2} z_{2} + \\frac{4010}{34393} z_{1} z_{2}^{2}\n",
       "\\end{math}"
      ],
      "text/plain": [
       "31654/34393 + 13144/34393*z1 + 13032/34393*z2 + 4294/34393*z1^2 + 10000/34393*z1*z2 + 4014/34393*z2^2 + 770/34393*z1^3 + 3968/34393*z1^2*z2 + 4010/34393*z1*z2^2"
      ]
     },
     "execution_count": 11,
     "metadata": {
     },
     "output_type": "execute_result"
    },
    {
     "data": {
      "text/html": [
       "<html><script type=\"math/tex; mode=display\">\\newcommand{\\Bold}[1]{\\mathbf{#1}}\\frac{4606}{5001} + \\frac{636}{1667} z_{1} + \\frac{636}{1667} z_{2} + \\frac{208}{1667} z_{1}^{2} + \\frac{1448}{5001} z_{1} z_{2} + \\frac{208}{1667} z_{2}^{2} + \\frac{112}{5001} z_{1}^{3} + \\frac{192}{1667} z_{1}^{2} z_{2} + \\frac{192}{1667} z_{1} z_{2}^{2} + \\frac{112}{5001} z_{2}^{3}</script></html>"
      ],
      "text/latex": [
       "\\begin{math}\n",
       "\\newcommand{\\Bold}[1]{\\mathbf{#1}}\\frac{4606}{5001} + \\frac{636}{1667} z_{1} + \\frac{636}{1667} z_{2} + \\frac{208}{1667} z_{1}^{2} + \\frac{1448}{5001} z_{1} z_{2} + \\frac{208}{1667} z_{2}^{2} + \\frac{112}{5001} z_{1}^{3} + \\frac{192}{1667} z_{1}^{2} z_{2} + \\frac{192}{1667} z_{1} z_{2}^{2} + \\frac{112}{5001} z_{2}^{3}\n",
       "\\end{math}"
      ],
      "text/plain": [
       "4606/5001 + 636/1667*z1 + 636/1667*z2 + 208/1667*z1^2 + 1448/5001*z1*z2 + 208/1667*z2^2 + 112/5001*z1^3 + 192/1667*z1^2*z2 + 192/1667*z1*z2^2 + 112/5001*z2^3"
      ]
     },
     "execution_count": 11,
     "metadata": {
     },
     "output_type": "execute_result"
    },
    {
     "data": {
      "text/html": [
       "<html><script type=\"math/tex; mode=display\">\\newcommand{\\Bold}[1]{\\mathbf{#1}}\\frac{3459302}{3755573} + \\frac{1434276}{3755573} z_{1} + \\frac{1432484}{3755573} z_{2} + \\frac{473040}{3755573} z_{1}^{2} + \\frac{1086728}{3755573} z_{1} z_{2} + \\frac{468560}{3755573} z_{2}^{2} + \\frac{96432}{3755573} z_{1}^{3} + \\frac{431776}{3755573} z_{1}^{2} z_{2} + \\frac{432448}{3755573} z_{1} z_{2}^{2} + \\frac{84112}{3755573} z_{2}^{3} + \\frac{32144}{3755573} z_{1}^{4}</script></html>"
      ],
      "text/latex": [
       "\\begin{math}\n",
       "\\newcommand{\\Bold}[1]{\\mathbf{#1}}\\frac{3459302}{3755573} + \\frac{1434276}{3755573} z_{1} + \\frac{1432484}{3755573} z_{2} + \\frac{473040}{3755573} z_{1}^{2} + \\frac{1086728}{3755573} z_{1} z_{2} + \\frac{468560}{3755573} z_{2}^{2} + \\frac{96432}{3755573} z_{1}^{3} + \\frac{431776}{3755573} z_{1}^{2} z_{2} + \\frac{432448}{3755573} z_{1} z_{2}^{2} + \\frac{84112}{3755573} z_{2}^{3} + \\frac{32144}{3755573} z_{1}^{4}\n",
       "\\end{math}"
      ],
      "text/plain": [
       "3459302/3755573 + 1434276/3755573*z1 + 1432484/3755573*z2 + 473040/3755573*z1^2 + 1086728/3755573*z1*z2 + 468560/3755573*z2^2 + 96432/3755573*z1^3 + 431776/3755573*z1^2*z2 + 432448/3755573*z1*z2^2 + 84112/3755573*z2^3 + 32144/3755573*z1^4"
      ]
     },
     "execution_count": 11,
     "metadata": {
     },
     "output_type": "execute_result"
    },
    {
     "data": {
      "text/html": [
       "<html><script type=\"math/tex; mode=display\">\\newcommand{\\Bold}[1]{\\mathbf{#1}}\\frac{30662182}{33136597} + \\frac{12989988}{33136597} z_{1} + \\frac{12723364}{33136597} z_{2} + \\frac{4755024}{33136597} z_{1}^{2} + \\frac{9914440}{33136597} z_{1} z_{2} + \\frac{4088464}{33136597} z_{2}^{2} + \\frac{1544304}{33136597} z_{1}^{3} + \\frac{4688000}{33136597} z_{1}^{2} z_{2} + \\frac{3763712}{33136597} z_{1} z_{2}^{2} + \\frac{735536}{33136597} z_{2}^{3} + \\frac{173344}{33136597} z_{1}^{4} + \\frac{2048544}{33136597} z_{1}^{3} z_{2}</script></html>"
      ],
      "text/latex": [
       "\\begin{math}\n",
       "\\newcommand{\\Bold}[1]{\\mathbf{#1}}\\frac{30662182}{33136597} + \\frac{12989988}{33136597} z_{1} + \\frac{12723364}{33136597} z_{2} + \\frac{4755024}{33136597} z_{1}^{2} + \\frac{9914440}{33136597} z_{1} z_{2} + \\frac{4088464}{33136597} z_{2}^{2} + \\frac{1544304}{33136597} z_{1}^{3} + \\frac{4688000}{33136597} z_{1}^{2} z_{2} + \\frac{3763712}{33136597} z_{1} z_{2}^{2} + \\frac{735536}{33136597} z_{2}^{3} + \\frac{173344}{33136597} z_{1}^{4} + \\frac{2048544}{33136597} z_{1}^{3} z_{2}\n",
       "\\end{math}"
      ],
      "text/plain": [
       "30662182/33136597 + 12989988/33136597*z1 + 12723364/33136597*z2 + 4755024/33136597*z1^2 + 9914440/33136597*z1*z2 + 4088464/33136597*z2^2 + 1544304/33136597*z1^3 + 4688000/33136597*z1^2*z2 + 3763712/33136597*z1*z2^2 + 735536/33136597*z2^3 + 173344/33136597*z1^4 + 2048544/33136597*z1^3*z2"
      ]
     },
     "execution_count": 11,
     "metadata": {
     },
     "output_type": "execute_result"
    },
    {
     "data": {
      "text/html": [
       "<html><script type=\"math/tex; mode=display\">\\newcommand{\\Bold}[1]{\\mathbf{#1}}\\frac{6634066}{7079471} + \\frac{2897900}{7079471} z_{1} + \\frac{2845356}{7079471} z_{2} + \\frac{1103600}{7079471} z_{1}^{2} + \\frac{339816}{1011353} z_{1} z_{2} + \\frac{972240}{7079471} z_{2}^{2} + \\frac{295424}{7079471} z_{1}^{3} + \\frac{1306832}{7079471} z_{1}^{2} z_{2} + \\frac{1123968}{7079471} z_{1} z_{2}^{2} + \\frac{19536}{1011353} z_{2}^{3} + \\frac{30952}{7079471} z_{1}^{4} + \\frac{405136}{7079471} z_{1}^{3} z_{2} + \\frac{742744}{7079471} z_{1}^{2} z_{2}^{2}</script></html>"
      ],
      "text/latex": [
       "\\begin{math}\n",
       "\\newcommand{\\Bold}[1]{\\mathbf{#1}}\\frac{6634066}{7079471} + \\frac{2897900}{7079471} z_{1} + \\frac{2845356}{7079471} z_{2} + \\frac{1103600}{7079471} z_{1}^{2} + \\frac{339816}{1011353} z_{1} z_{2} + \\frac{972240}{7079471} z_{2}^{2} + \\frac{295424}{7079471} z_{1}^{3} + \\frac{1306832}{7079471} z_{1}^{2} z_{2} + \\frac{1123968}{7079471} z_{1} z_{2}^{2} + \\frac{19536}{1011353} z_{2}^{3} + \\frac{30952}{7079471} z_{1}^{4} + \\frac{405136}{7079471} z_{1}^{3} z_{2} + \\frac{742744}{7079471} z_{1}^{2} z_{2}^{2}\n",
       "\\end{math}"
      ],
      "text/plain": [
       "6634066/7079471 + 2897900/7079471*z1 + 2845356/7079471*z2 + 1103600/7079471*z1^2 + 339816/1011353*z1*z2 + 972240/7079471*z2^2 + 295424/7079471*z1^3 + 1306832/7079471*z1^2*z2 + 1123968/7079471*z1*z2^2 + 19536/1011353*z2^3 + 30952/7079471*z1^4 + 405136/7079471*z1^3*z2 + 742744/7079471*z1^2*z2^2"
      ]
     },
     "execution_count": 11,
     "metadata": {
     },
     "output_type": "execute_result"
    },
    {
     "data": {
      "text/html": [
       "<html><script type=\"math/tex; mode=display\">\\newcommand{\\Bold}[1]{\\mathbf{#1}}\\frac{588327882}{625443187} + \\frac{257113916}{625443187} z_{1} + \\frac{256983356}{625443187} z_{2} + \\frac{96373968}{625443187} z_{1}^{2} + \\frac{215131576}{625443187} z_{1} z_{2} + \\frac{96047568}{625443187} z_{2}^{2} + \\frac{25887120}{625443187} z_{1}^{3} + \\frac{113686656}{625443187} z_{1}^{2} z_{2} + \\frac{113821568}{625443187} z_{1} z_{2}^{2} + \\frac{24903568}{625443187} z_{2}^{3} + \\frac{2728704}{625443187} z_{1}^{4} + \\frac{35402016}{625443187} z_{1}^{3} z_{2} + \\frac{64006752}{625443187} z_{1}^{2} z_{2}^{2} + \\frac{35573920}{625443187} z_{1} z_{2}^{3}</script></html>"
      ],
      "text/latex": [
       "\\begin{math}\n",
       "\\newcommand{\\Bold}[1]{\\mathbf{#1}}\\frac{588327882}{625443187} + \\frac{257113916}{625443187} z_{1} + \\frac{256983356}{625443187} z_{2} + \\frac{96373968}{625443187} z_{1}^{2} + \\frac{215131576}{625443187} z_{1} z_{2} + \\frac{96047568}{625443187} z_{2}^{2} + \\frac{25887120}{625443187} z_{1}^{3} + \\frac{113686656}{625443187} z_{1}^{2} z_{2} + \\frac{113821568}{625443187} z_{1} z_{2}^{2} + \\frac{24903568}{625443187} z_{2}^{3} + \\frac{2728704}{625443187} z_{1}^{4} + \\frac{35402016}{625443187} z_{1}^{3} z_{2} + \\frac{64006752}{625443187} z_{1}^{2} z_{2}^{2} + \\frac{35573920}{625443187} z_{1} z_{2}^{3}\n",
       "\\end{math}"
      ],
      "text/plain": [
       "588327882/625443187 + 257113916/625443187*z1 + 256983356/625443187*z2 + 96373968/625443187*z1^2 + 215131576/625443187*z1*z2 + 96047568/625443187*z2^2 + 25887120/625443187*z1^3 + 113686656/625443187*z1^2*z2 + 113821568/625443187*z1*z2^2 + 24903568/625443187*z2^3 + 2728704/625443187*z1^4 + 35402016/625443187*z1^3*z2 + 64006752/625443187*z1^2*z2^2 + 35573920/625443187*z1*z2^3"
      ]
     },
     "execution_count": 11,
     "metadata": {
     },
     "output_type": "execute_result"
    },
    {
     "data": {
      "text/html": [
       "<html><script type=\"math/tex; mode=display\">\\newcommand{\\Bold}[1]{\\mathbf{#1}}\\frac{234530}{249319} + \\frac{102476}{249319} z_{1} + \\frac{102476}{249319} z_{2} + \\frac{5488}{35617} z_{1}^{2} + \\frac{85720}{249319} z_{1} z_{2} + \\frac{5488}{35617} z_{2}^{2} + \\frac{10320}{249319} z_{1}^{3} + \\frac{45312}{249319} z_{1}^{2} z_{2} + \\frac{45312}{249319} z_{1} z_{2}^{2} + \\frac{10320}{249319} z_{2}^{3} + \\frac{1088}{249319} z_{1}^{4} + \\frac{2016}{35617} z_{1}^{3} z_{2} + \\frac{25504}{249319} z_{1}^{2} z_{2}^{2} + \\frac{2016}{35617} z_{1} z_{2}^{3} + \\frac{1088}{249319} z_{2}^{4}</script></html>"
      ],
      "text/latex": [
       "\\begin{math}\n",
       "\\newcommand{\\Bold}[1]{\\mathbf{#1}}\\frac{234530}{249319} + \\frac{102476}{249319} z_{1} + \\frac{102476}{249319} z_{2} + \\frac{5488}{35617} z_{1}^{2} + \\frac{85720}{249319} z_{1} z_{2} + \\frac{5488}{35617} z_{2}^{2} + \\frac{10320}{249319} z_{1}^{3} + \\frac{45312}{249319} z_{1}^{2} z_{2} + \\frac{45312}{249319} z_{1} z_{2}^{2} + \\frac{10320}{249319} z_{2}^{3} + \\frac{1088}{249319} z_{1}^{4} + \\frac{2016}{35617} z_{1}^{3} z_{2} + \\frac{25504}{249319} z_{1}^{2} z_{2}^{2} + \\frac{2016}{35617} z_{1} z_{2}^{3} + \\frac{1088}{249319} z_{2}^{4}\n",
       "\\end{math}"
      ],
      "text/plain": [
       "234530/249319 + 102476/249319*z1 + 102476/249319*z2 + 5488/35617*z1^2 + 85720/249319*z1*z2 + 5488/35617*z2^2 + 10320/249319*z1^3 + 45312/249319*z1^2*z2 + 45312/249319*z1*z2^2 + 10320/249319*z2^3 + 1088/249319*z1^4 + 2016/35617*z1^3*z2 + 25504/249319*z1^2*z2^2 + 2016/35617*z1*z2^3 + 1088/249319*z2^4"
      ]
     },
     "execution_count": 11,
     "metadata": {
     },
     "output_type": "execute_result"
    }
   ],
   "source": [
    "#displays the OPAs and optimal norms prettily\n",
    "for counter in range(0,len(opa)):\n",
    "    show(opa[counter])"
   ]
  },
  {
   "cell_type": "code",
   "execution_count": 10,
   "metadata": {
    "collapsed": false
   },
   "outputs": [
    {
     "name": "stdout",
     "output_type": "stream",
     "text": [
      "~~~~~~~~~~~~~~~~~~~~~~~~~~~~~~~~~\n",
      "~~~~~~~~~~~~~~~~~~~~~~~~~~~~~~~~~\n",
      "~~~~~~~~~~~~~~~~~~~~~~~~~~~~~~~~~\n",
      "1/3\n",
      "1/4\n",
      "3/17\n",
      "37/223\n",
      "245/2039\n",
      "23/205\n",
      "1549/13951\n",
      "5867/61929\n",
      "2739/34393\n",
      "395/5001\n",
      "296271/3755573\n",
      "2474415/33136597\n",
      "445405/7079471\n",
      "37115305/625443187\n",
      "14789/249319\n"
     ]
    }
   ],
   "source": [
    "#displays the optimal norms prettily and then as a list that could be easily copy pasted\n",
    "#for counter in range(0,len(OptNorms)):\n",
    "    #show(OptNorms[counter]) #comment this out if you just want the copy-pastable version\n",
    "print(\"~~~~~~~~~~~~~~~~~~~~~~~~~~~~~~~~~\")\n",
    "print(\"~~~~~~~~~~~~~~~~~~~~~~~~~~~~~~~~~\")\n",
    "print(\"~~~~~~~~~~~~~~~~~~~~~~~~~~~~~~~~~\")\n",
    "for counter in range(0,len(OptNorms)):\n",
    "    print(OptNorms[counter])"
   ]
  },
  {
   "cell_type": "code",
   "execution_count": 10,
   "metadata": {
    "collapsed": false
   },
   "outputs": [
    {
     "name": "stdout",
     "output_type": "stream",
     "text": [
      "test function\n",
      "\\begin{equation*}\n",
      "\\scalebox{2}{\\ensuremath{f= 1 - \\frac{1}{2} z_{1} - \\frac{1}{2} z_{2} }}\n",
      "\\end{equation*}\n",
      "\\begin{align*}\n",
      "p_{ 0 }&= \\frac{2}{3} \\\\\n",
      "p_{ 1 }&= \\frac{3}{4} + \\frac{1}{4} z_{1} \\\\\n",
      "%%%%%%%%%%%%%%%%%%%\n",
      "p_{ 2 }&= \\frac{14}{17} + \\frac{4}{17} z_{1} + \\frac{4}{17} z_{2} \\\\\n",
      "%%%%%%%%%%%%%%%%%%%\n",
      "p_{ 3 }&= \\frac{186}{223} + \\frac{60}{223} z_{1} + \\frac{52}{223} z_{2} + \\frac{20}{223} z_{1}^{2} \\\\\n",
      "%%%%%%%%%%%%%%%%%%%\n",
      "p_{ 4 }&= \\frac{1794}{2039} + \\frac{684}{2039} z_{1} + \\frac{620}{2039} z_{2} + \\frac{160}{2039} z_{1}^{2} + \\frac{408}{2039} z_{1} z_{2} \\\\\n",
      "%%%%%%%%%%%%%%%%%%%\n",
      "p_{ 5 }&= \\frac{182}{205} + \\frac{68}{205} z_{1} + \\frac{68}{205} z_{2} + \\frac{16}{205} z_{1}^{2} + \\frac{8}{41} z_{1} z_{2} + \\frac{16}{205} z_{2}^{2} \\\\\n",
      "%%%%%%%%%%%%%%%%%%%\n",
      "p_{ 6 }&= \\frac{12402}{13951} + \\frac{4684}{13951} z_{1} + \\frac{660}{1993} z_{2} + \\frac{1248}{13951} z_{1}^{2} + \\frac{2712}{13951} z_{1} z_{2} + \\frac{1088}{13951} z_{2}^{2} + \\frac{416}{13951} z_{1}^{3} \\\\\n",
      "%%%%%%%%%%%%%%%%%%%\n",
      "p_{ 7 }&= \\frac{56062}{61929} + \\frac{22852}{61929} z_{1} + \\frac{3068}{8847} z_{2} + \\frac{8072}{61929} z_{1}^{2} + \\frac{15160}{61929} z_{1} z_{2} + \\frac{1544}{20643} z_{2}^{2} + \\frac{160}{6881} z_{1}^{3} + \\frac{1072}{8847} z_{1}^{2} z_{2} \\\\\n",
      "%%%%%%%%%%%%%%%%%%%\n",
      "p_{ 8 }&= \\frac{31654}{34393} + \\frac{13144}{34393} z_{1} + \\frac{13032}{34393} z_{2} + \\frac{4294}{34393} z_{1}^{2} + \\frac{10000}{34393} z_{1} z_{2} + \\frac{4014}{34393} z_{2}^{2} + \\frac{770}{34393} z_{1}^{3} + \\frac{3968}{34393} z_{1}^{2} z_{2} + \\frac{4010}{34393} z_{1} z_{2}^{2} \\\\\n",
      "%%%%%%%%%%%%%%%%%%%\n",
      "p_{ 9 }&= \\frac{4606}{5001} + \\frac{636}{1667} z_{1} + \\frac{636}{1667} z_{2} + \\frac{208}{1667} z_{1}^{2} + \\frac{1448}{5001} z_{1} z_{2} + \\frac{208}{1667} z_{2}^{2} + \\frac{112}{5001} z_{1}^{3} + \\frac{192}{1667} z_{1}^{2} z_{2} + \\frac{192}{1667} z_{1} z_{2}^{2} + \\frac{112}{5001} z_{2}^{3} \\\\\n",
      "%%%%%%%%%%%%%%%%%%%\n",
      "p_{ 10 }&= \\frac{3459302}{3755573} + \\frac{1434276}{3755573} z_{1} + \\frac{1432484}{3755573} z_{2} + \\frac{473040}{3755573} z_{1}^{2} + \\frac{1086728}{3755573} z_{1} z_{2} + \\frac{468560}{3755573} z_{2}^{2} + \\frac{96432}{3755573} z_{1}^{3} + \\frac{431776}{3755573} z_{1}^{2} z_{2} + \\frac{432448}{3755573} z_{1} z_{2}^{2} + \\frac{84112}{3755573} z_{2}^{3} + \\frac{32144}{3755573} z_{1}^{4} \\\\\n",
      "%%%%%%%%%%%%%%%%%%%\n",
      "p_{ 11 }&= \\frac{30662182}{33136597} + \\frac{12989988}{33136597} z_{1} + \\frac{12723364}{33136597} z_{2} + \\frac{4755024}{33136597} z_{1}^{2} + \\frac{9914440}{33136597} z_{1} z_{2} + \\frac{4088464}{33136597} z_{2}^{2} + \\frac{1544304}{33136597} z_{1}^{3} + \\frac{4688000}{33136597} z_{1}^{2} z_{2} + \\frac{3763712}{33136597} z_{1} z_{2}^{2} + \\frac{735536}{33136597} z_{2}^{3} + \\frac{173344}{33136597} z_{1}^{4} + \\frac{2048544}{33136597} z_{1}^{3} z_{2} \\\\\n",
      "%%%%%%%%%%%%%%%%%%%\n",
      "p_{ 12 }&= \\frac{6634066}{7079471} + \\frac{2897900}{7079471} z_{1} + \\frac{2845356}{7079471} z_{2} + \\frac{1103600}{7079471} z_{1}^{2} + \\frac{339816}{1011353} z_{1} z_{2} + \\frac{972240}{7079471} z_{2}^{2} + \\frac{295424}{7079471} z_{1}^{3} + \\frac{1306832}{7079471} z_{1}^{2} z_{2} + \\frac{1123968}{7079471} z_{1} z_{2}^{2} + \\frac{19536}{1011353} z_{2}^{3} + \\frac{30952}{7079471} z_{1}^{4} + \\frac{405136}{7079471} z_{1}^{3} z_{2} + \\frac{742744}{7079471} z_{1}^{2} z_{2}^{2} \\\\\n",
      "%%%%%%%%%%%%%%%%%%%\n",
      "p_{ 13 }&= \\frac{588327882}{625443187} + \\frac{257113916}{625443187} z_{1} + \\frac{256983356}{625443187} z_{2} + \\frac{96373968}{625443187} z_{1}^{2} + \\frac{215131576}{625443187} z_{1} z_{2} + \\frac{96047568}{625443187} z_{2}^{2} + \\frac{25887120}{625443187} z_{1}^{3} + \\frac{113686656}{625443187} z_{1}^{2} z_{2} + \\frac{113821568}{625443187} z_{1} z_{2}^{2} + \\frac{24903568}{625443187} z_{2}^{3} + \\frac{2728704}{625443187} z_{1}^{4} + \\frac{35402016}{625443187} z_{1}^{3} z_{2} + \\frac{64006752}{625443187} z_{1}^{2} z_{2}^{2} + \\frac{35573920}{625443187} z_{1} z_{2}^{3} \\\\\n",
      "%%%%%%%%%%%%%%%%%%%\n",
      "p_{ 14 }&= \\frac{234530}{249319} + \\frac{102476}{249319} z_{1} + \\frac{102476}{249319} z_{2} + \\frac{5488}{35617} z_{1}^{2} + \\frac{85720}{249319} z_{1} z_{2} + \\frac{5488}{35617} z_{2}^{2} + \\frac{10320}{249319} z_{1}^{3} + \\frac{45312}{249319} z_{1}^{2} z_{2} + \\frac{45312}{249319} z_{1} z_{2}^{2} + \\frac{10320}{249319} z_{2}^{3} + \\frac{1088}{249319} z_{1}^{4} + \\frac{2016}{35617} z_{1}^{3} z_{2} + \\frac{25504}{249319} z_{1}^{2} z_{2}^{2} + \\frac{2016}{35617} z_{1} z_{2}^{3} + \\frac{1088}{249319} z_{2}^{4} \\\\\n",
      "%%%%%%%%%%%%%%%%%%%\n",
      "\\end{align*}\n",
      "\n"
     ]
    }
   ],
   "source": [
    "#gives LaTeX output for the OPAs; you should be able to just copy paste this into Overleaf if you want\n",
    "print(\"test function\")\n",
    "print(\"\\\\begin{equation*}\")\n",
    "print(\"\\\\scalebox{2}{\\\\ensuremath{f=\",latex(f),\"}}\")\n",
    "print(\"\\\\end{equation*}\")\n",
    "deg=0\n",
    "print(\"\\\\begin{align*}\")\n",
    "print('p_{',deg,'}&=',latex(opa[0]),'\\\\\\\\')\n",
    "for deg in range(1,len(opa)):\n",
    "    print('p_{',deg,'}&=',latex(opa[deg]),'\\\\\\\\')\n",
    "    print('%%%%%%%%%%%%%%%%%%%')\n",
    "print(\"\\\\end{align*}\")\n",
    "print(\"\")"
   ]
  },
  {
   "cell_type": "code",
   "execution_count": 12,
   "metadata": {
    "collapsed": false
   },
   "outputs": [
    {
     "name": "stdout",
     "output_type": "stream",
     "text": [
      "\\begin{align*}\n",
      "\\nu_{ 0 }^2&= \\frac{1}{2} \\\\\n",
      "%%%%%%%%%%%%%%%%%%%\n",
      "\\nu_{ 1 }^2&= \\frac{7}{15} \\\\\n",
      "%%%%%%%%%%%%%%%%%%%\n",
      "\\nu_{ 2 }^2&= \\frac{19}{51} \\\\\n",
      "%%%%%%%%%%%%%%%%%%%\n",
      "\\nu_{ 3 }^2&= \\frac{26}{85} \\\\\n",
      "%%%%%%%%%%%%%%%%%%%\n",
      "\\nu_{ 4 }^2&= \\frac{1304}{4297} \\\\\n",
      "%%%%%%%%%%%%%%%%%%%\n",
      "\\nu_{ 5 }^2&= \\frac{8119}{28391} \\\\\n",
      "%%%%%%%%%%%%%%%%%%%\n",
      "\\nu_{ 6 }^2&= \\frac{1295}{5039} \\\\\n",
      "%%%%%%%%%%%%%%%%%%%\n",
      "\\nu_{ 7 }^2&= \\frac{2267}{9419} \\\\\n",
      "%%%%%%%%%%%%%%%%%%%\n",
      "\\nu_{ 8 }^2&= \\frac{45083}{193133} \\\\\n",
      "%%%%%%%%%%%%%%%%%%%\n",
      "\\nu_{ 9 }^2&= \\frac{9370007}{40620743} \\\\\n",
      "%%%%%%%%%%%%%%%%%%%\n",
      "\\nu_{ 10 }^2&= \\frac{12970817}{62676400} \\\\\n",
      "%%%%%%%%%%%%%%%%%%%\n",
      "\\nu_{ 11 }^2&= \\frac{69395257}{336202393} \\\\\n",
      "%%%%%%%%%%%%%%%%%%%\n",
      "\\nu_{ 12 }^2&= \\frac{44771027}{225804307} \\\\\n",
      "%%%%%%%%%%%%%%%%%%%\n",
      "\\nu_{ 13 }^2&= \\frac{2807418853}{14476473773} \\\\\n",
      "%%%%%%%%%%%%%%%%%%%\n",
      "\\nu_{ 14 }^2&= \\frac{2300652517}{11882656247} \\\\\n",
      "%%%%%%%%%%%%%%%%%%%\n",
      "\\nu_{ 15 }^2&= \\frac{18962181745}{107475653897} \\\\\n",
      "%%%%%%%%%%%%%%%%%%%\n",
      "\\nu_{ 16 }^2&= \\frac{48324650941}{278942177533} \\\\\n",
      "%%%%%%%%%%%%%%%%%%%\n",
      "\\nu_{ 17 }^2&= \\frac{492328886155}{2857869422667} \\\\\n",
      "%%%%%%%%%%%%%%%%%%%\n",
      "\\nu_{ 18 }^2&= \\frac{1692384312013}{10096725962133} \\\\\n",
      "%%%%%%%%%%%%%%%%%%%\n",
      "\\nu_{ 19 }^2&= \\frac{6698187668873}{40339390733865} \\\\\n",
      "%%%%%%%%%%%%%%%%%%%\n",
      "\\nu_{ 20 }^2&= \\frac{879451693883}{5296955887899} \\\\\n",
      "%%%%%%%%%%%%%%%%%%%\n",
      "\\nu_{ 21 }^2&= \\frac{4284067694242}{28020134846295} \\\\\n",
      "%%%%%%%%%%%%%%%%%%%\n",
      "\\nu_{ 22 }^2&= \\frac{387485469615704}{2556326690577765} \\\\\n",
      "%%%%%%%%%%%%%%%%%%%\n",
      "\\nu_{ 23 }^2&= \\frac{13336402248139709}{88762777043116365} \\\\\n",
      "%%%%%%%%%%%%%%%%%%%\n",
      "\\nu_{ 24 }^2&= \\frac{132286871060797037}{893917280801055645} \\\\\n",
      "%%%%%%%%%%%%%%%%%%%\n",
      "\\nu_{ 25 }^2&= \\frac{10102389173701059}{69337402861151719} \\\\\n",
      "%%%%%%%%%%%%%%%%%%%\n",
      "\\nu_{ 26 }^2&= \\frac{8205255250457000111}{56471911146286000251} \\\\\n",
      "%%%%%%%%%%%%%%%%%%%\n",
      "\\nu_{ 27 }^2&= \\frac{53869379005096915177}{370751639340022667481} \\\\\n",
      "%%%%%%%%%%%%%%%%%%%\n",
      "\\nu_{ 28 }^2&= \\frac{72951157633006915135}{541621551832885630927} \\\\\n",
      "%%%%%%%%%%%%%%%%%%%\n",
      "\\nu_{ 29 }^2&= \\frac{120052264072457306965}{899769980852334615493} \\\\\n",
      "%%%%%%%%%%%%%%%%%%%\n",
      "\\nu_{ 30 }^2&= \\frac{15563435356060091498}{116645140531436522435} \\\\\n",
      "%%%%%%%%%%%%%%%%%%%\n",
      "\\nu_{ 31 }^2&= \\frac{11213900868632721468331}{84904599519617969303995} \\\\\n",
      "%%%%%%%%%%%%%%%%%%%\n",
      "\\nu_{ 32 }^2&= \\frac{13791244779445086148403}{106112599684657008633731} \\\\\n",
      "%%%%%%%%%%%%%%%%%%%\n",
      "\\nu_{ 33 }^2&= \\frac{87501723026084162708767}{679075230535966036935991} \\\\\n",
      "%%%%%%%%%%%%%%%%%%%\n",
      "\\nu_{ 34 }^2&= \\frac{332481060921798947147129}{2587177170880368783043217} \\\\\n",
      "%%%%%%%%%%%%%%%%%%%\n",
      "\\nu_{ 35 }^2&= \\frac{3052540547448913782669427}{23753301184535338789939963} \\\\\n",
      "%%%%%%%%%%%%%%%%%%%\n",
      "\\nu_{ 36 }^2&= \\frac{5182480635257619962866643}{44891860501788485609920673} \\\\\n",
      "%%%%%%%%%%%%%%%%%%%\n",
      "\\nu_{ 37 }^2&= \\frac{14542848804167704933016993}{126115547634214192382638726} \\\\\n",
      "%%%%%%%%%%%%%%%%%%%\n",
      "\\nu_{ 38 }^2&= \\frac{37125823758948598787020559}{322473301746642505950015675} \\\\\n",
      "%%%%%%%%%%%%%%%%%%%\n",
      "\\nu_{ 39 }^2&= \\frac{366902818832253773793240077}{3209225987630772163175851601} \\\\\n",
      "%%%%%%%%%%%%%%%%%%%\n",
      "\\nu_{ 40 }^2&= \\frac{1576681082305576388550541}{14264826723436827062223869} \\\\\n",
      "%%%%%%%%%%%%%%%%%%%\n",
      "\\nu_{ 41 }^2&= \\frac{91830028165019043714751959}{903746360621438290999002205} \\\\\n",
      "%%%%%%%%%%%%%%%%%%%\n",
      "\\nu_{ 42 }^2&= \\frac{21012420424478164792890055}{208008318626375516641076197} \\\\\n",
      "%%%%%%%%%%%%%%%%%%%\n",
      "\\nu_{ 43 }^2&= \\frac{26330171044240406099941511}{261371774963058480341218205} \\\\\n",
      "%%%%%%%%%%%%%%%%%%%\n",
      "\\nu_{ 44 }^2&= \\frac{1237753923261459064459823}{12286844199335037480622421} \\\\\n",
      "%%%%%%%%%%%%%%%%%%%\n",
      "\\nu_{ 45 }^2&= \\frac{105229224939167128665}{5291586332079750472579} \\\\\n",
      "%%%%%%%%%%%%%%%%%%%\n",
      "\\nu_{ 46 }^2&= \\frac{26884869649146261}{2428235436100800599} \\\\\n",
      "%%%%%%%%%%%%%%%%%%%\n",
      "\\nu_{ 47 }^2&= \\frac{1861169395437}{173202303355535} \\\\\n",
      "%%%%%%%%%%%%%%%%%%%\n",
      "\\nu_{ 48 }^2&= \\frac{64820709}{7455973459} \\\\\n",
      "%%%%%%%%%%%%%%%%%%%\n",
      "\\nu_{ 49 }^2&= \\frac{1089}{232961} \\\\\n",
      "%%%%%%%%%%%%%%%%%%%\n",
      "\\end{align*}\n"
     ]
    }
   ],
   "source": [
    "#LaTeX output for the optimal norms\n",
    "print(\"\\\\begin{align*}\")\n",
    "for deg in range(0,len(OptNorms)):\n",
    "    print('\\\\nu_{',deg,'}^2&=',latex(OptNorms[deg]),'\\\\\\\\')\n",
    "    print('%%%%%%%%%%%%%%%%%%%')\n",
    "print(\"\\\\end{align*}\")"
   ]
  },
  {
   "cell_type": "code",
   "execution_count": 0,
   "metadata": {
    "collapsed": false
   },
   "outputs": [
   ],
   "source": [
   ]
  },
  {
   "cell_type": "code",
   "execution_count": 0,
   "metadata": {
    "collapsed": false
   },
   "outputs": [
   ],
   "source": [
   ]
  },
  {
   "cell_type": "code",
   "execution_count": 0,
   "metadata": {
    "collapsed": false
   },
   "outputs": [
   ],
   "source": [
   ]
  }
 ],
 "metadata": {
  "kernelspec": {
   "display_name": "SageMath 9.2",
   "language": "sagemath",
   "metadata": {
    "cocalc": {
     "description": "Open-source mathematical software system",
     "priority": 1,
     "url": "https://www.sagemath.org/"
    }
   },
   "name": "sage-9.2",
   "resource_dir": "/ext/jupyter/kernels/sage-9.2"
  },
  "language_info": {
   "codemirror_mode": {
    "name": "ipython",
    "version": 3
   },
   "file_extension": ".py",
   "mimetype": "text/x-python",
   "name": "python",
   "nbconvert_exporter": "python",
   "pygments_lexer": "ipython3",
   "version": "3.8.10"
  }
 },
 "nbformat": 4,
 "nbformat_minor": 4
}