{
 "cells": [
  {
   "cell_type": "code",
   "execution_count": 1,
   "metadata": {},
   "outputs": [
    {
     "name": "stdout",
     "output_type": "stream",
     "text": [
      "[z1, z2, z3, z4, z5, z6, z7, z8, z9, z10, z11, z12, z13, z14, z15, z16, z17, z18, z19, z20, z21, z22, z23, z24, z25, z26, z27, z28, z29, z30]\n",
      "[1, z1, z2, z1^2, z3, z1*z2, z4, z1^3, z2^2, z1*z3, z5, z1^2*z2, z6, z1*z4, z2*z3, z1^4, z7, z1*z2^2, z8, z1^2*z3, z2*z4, z1*z5, z9, z1^3*z2, z3^2, z1*z6, z2^3, z1^2*z4, z10, z1*z2*z3, z11, z1^5, z2*z5, z1*z7, z3*z4, z1^2*z2^2, z12, z1*z8, z2*z6, z1^3*z3, z13, z1*z2*z4, z14, z1^2*z5, z2^2*z3, z1*z9, z15, z1^4*z2, z4^2, z1*z3^2, z2*z7, z1^2*z6, z16, z1*z2^3, z3*z5, z1^3*z4, z2*z8, z1*z10, z17, z1^2*z2*z3, z18, z1*z11, z2^2*z4, z1^6, z3*z6, z1*z2*z5, z19, z1^2*z7, z2*z9, z1*z3*z4, z20, z1^3*z2^2, z21, z1*z12, z2*z3^2, z1^2*z8, z4*z5, z1*z2*z6, z22, z1^4*z3, z2^4, z1*z13, z23, z1^2*z2*z4, z3*z7, z1*z14, z2*z10, z1^3*z5, z24, z1*z2^2*z3, z4*z6, z1^2*z9, z2*z11, z1*z15, z3*z8, z1^5*z2, z25, z1*z4^2, z2^2*z5, z1^2*z3^2, z26, z1*z2*z7, z27, z1^3*z6, z2*z3*z4, z1*z16, z28, z1^2*z2^3, z29, z1*z3*z5, z2*z12, z1^4*z4, z30, z1*z2*z8, z3*z9, z1^2*z10, z2^2*z6, z1*z17, z4*z7]\n"
     ]
    }
   ],
   "source": [
    "# generate the monomials\n",
    "varcounter=1; monom_str=[]; onevars=[]; Bohr={1:'1'}\n",
    "for n in range(1,120):\n",
    "    if is_prime(n):\n",
    "        newvar='z'+str(varcounter); varcounter=varcounter+1\n",
    "        monom_str=monom_str+[newvar]\n",
    "        onevars=onevars+[newvar]\n",
    "        Bohr[n]=newvar\n",
    "    else:\n",
    "        pfac=list(factor(n))\n",
    "        newmonom='1'\n",
    "        for (p,e) in pfac:\n",
    "            newmonom = newmonom + '*' + Bohr[p] + '^'+ str(e)\n",
    "        monom_str=monom_str+[newmonom]\n",
    "#P=PolynomialRing(QQ,onevars)\n",
    "#print(monom_str)\n",
    "############\n",
    "#\n",
    "# establish extension field and evaluate monomials\n",
    "#\n",
    "###########\n",
    "#S.<sqrt2,sqrt3,sqrt5,sqrt7,sqrt11,sqrt13,sqrt17> = QQ.extension([x^2-2, x^2-3, x^2-5, x^2-7, x^2-11, x^2-13, x^2-17])\n",
    "#S.<A>=PolynomialRing(QQ)\n",
    "#assume(A,'rational')\n",
    "S=QQ\n",
    "Q.<z1, z2, z3, z4, z5, z6, z7, z8, z9, z10, z11, z12, z13, z14, z15, z16, z17, z18, z19, z20, z21, z22, z23, z24, z25, z26, z27, z28, z29, z30>=PolynomialRing(S,order='negdeglex')\n",
    "#sigh, I can't figure out how to make it appreciate the variables\n",
    "############\n",
    "varseval=[]\n",
    "for n in Bohr.keys():\n",
    "    varseval=varseval+[sage_eval(Bohr[n],locals=vars())]\n",
    "varseval.remove(1)\n",
    "print(varseval)\n",
    "monomslist=[]\n",
    "for monstr in monom_str:\n",
    "    monomslist = monomslist + [sage_eval(monstr,locals=vars())]\n",
    "print(monomslist)"
   ]
  },
  {
   "cell_type": "code",
   "execution_count": 2,
   "metadata": {},
   "outputs": [],
   "source": [
    "#the 'DICT' command I was previously using is outdated now, but I still need to be able to get the degrees; probably need to update this for DS? maybe I fixed this elsewhere?\n",
    "def multideg(monom): #take a monomial in z1 and z2 and return an ordered pair with its multidegree \n",
    "                    #(there's probably a way to do this more generally)\n",
    "    z1deg=monom.degree(z1)\n",
    "    z2deg=monom.degree(z2)\n",
    "    return (z1deg,z2deg)\n",
    "def coeffdict(poly,monomslist,varseval): #takes a polynomial (as an expression) and a pregenerated list of monomials and returns a dictionary\n",
    "                                # keys are ordered tuples of degrees of a monomial, entries are coefficients\n",
    "    polydict={(0, 0, 0, 0, 0, 0, 0, 0, 0, 0, 0, 0, 0, 0, 0, 0, 0, 0, 0, 0, 0, 0, 0, 0, 0, 0, 0, 0, 0, 0): poly((0, 0, 0, 0, 0, 0, 0, 0, 0, 0, 0, 0, 0, 0, 0, 0, 0, 0, 0, 0, 0, 0, 0, 0, 0, 0, 0, 0, 0, 0))}\n",
    "    for monmindex in range(1,len(monomslist)):\n",
    "        monomattempt=monomslist[monmindex]\n",
    "        #print(monomattempt)\n",
    "        multi=tuple(monomattempt.degree(thevar) for thevar in varseval)\n",
    "        #print(multi)\n",
    "        d={}\n",
    "        for n in range(len(varseval)):\n",
    "            d.update({varseval[n]:multi[n]})\n",
    "        #print(d)\n",
    "        polydict.update({multi:poly.coefficient(d)})\n",
    "    return polydict"
   ]
  },
  {
   "cell_type": "code",
   "execution_count": 3,
   "metadata": {},
   "outputs": [],
   "source": [
    "############\n",
    "#\n",
    "#functions to actually find the OPAs\n",
    "#\n",
    "############\n",
    "def InnerProd(f,g,monomslist,varseval):\n",
    "    cfsf=coeffdict(f,monomslist,varseval)#the coefficients paired into a dictionary with the multi-indices\n",
    "    cfsg=coeffdict(g,monomslist,varseval)\n",
    "    multi_indices = list(set(cfsf.keys()).union(set(cfsg.keys()))) #pretty sure unioning them is unnecessary, but *shrug*\n",
    "    ip=0\n",
    "    for alpha in multi_indices:\n",
    "        if alpha in cfsf.keys():\n",
    "            term = cfsf[alpha]\n",
    "        else:\n",
    "            term=0\n",
    "        if alpha in cfsg.keys():\n",
    "            term = term *(cfsg[alpha])\n",
    "            #print(pairs[m],cfsg[pairs[m]])\n",
    "        else:\n",
    "            term=0\n",
    "        ip=ip+term\n",
    "    return ip\n",
    "def buildGram(monoms,fcn,whichpn,varseval):\n",
    "    M=matrix(Q,whichpn+1,lambda x,y: InnerProd(monoms[x]*fcn,monoms[y]*fcn,monoms,varseval))\n",
    "    return M\n",
    "def RHSmateq(f,whichpn):\n",
    "    RHSveclist=[(f(0, 0, 0, 0, 0, 0, 0, 0, 0, 0, 0, 0, 0, 0, 0, 0, 0, 0, 0, 0, 0, 0, 0, 0, 0, 0, 0, 0, 0, 0))]\n",
    "    for n in range(whichpn):\n",
    "        RHSveclist=RHSveclist+[0]\n",
    "    #print(RHSveclist)\n",
    "    return vector(RHSveclist)\n",
    "def coeffpoly(optimal_list,whichOA,monomslist):\n",
    "    S=QQ\n",
    "    Q.<z1, z2, z3, z4, z5, z6, z7, z8, z9, z10, z11, z12, z13, z14, z15, z16, z17, z18, z19, z20, z21, z22, z23, z24, z25, z26, z27, z28, z29, z30>=PolynomialRing(S,order='negdeglex')\n",
    "    thepoly='0'\n",
    "    for coef in range(0,whichOA+1):\n",
    "            thepoly=thepoly+'+'+str(optimal_list[coef])+'*'+str(monomslist[coef])\n",
    "            #print((k,l),newcoefs[(k, l)])\n",
    "    #return thepoly\n",
    "    return sage_eval(thepoly,locals=locals())"
   ]
  },
  {
   "cell_type": "code",
   "execution_count": 4,
   "metadata": {},
   "outputs": [
    {
     "data": {
      "text/html": [
       "<html><script type=\"math/tex; mode=display\">\\newcommand{\\Bold}[1]{\\mathbf{#1}}1 - z_{1}</script></html>"
      ],
      "text/latex": [
       "\\begin{math}\n",
       "\\newcommand{\\Bold}[1]{\\mathbf{#1}}1 - z_{1}\n",
       "\\end{math}"
      ],
      "text/plain": [
       "1 - z1"
      ]
     },
     "metadata": {},
     "output_type": "display_data"
    },
    {
     "data": {
      "text/html": [
       "<html><script type=\"math/tex; mode=display\">\\newcommand{\\Bold}[1]{\\mathbf{#1}}-4 + 3 z_{1} + 3 z_{2} - z_{1}^{2} - 2 z_{1} z_{2} - z_{2}^{2} + z_{1}^{2} z_{2} + z_{1} z_{2}^{2}</script></html>"
      ],
      "text/latex": [
       "\\begin{math}\n",
       "\\newcommand{\\Bold}[1]{\\mathbf{#1}}-4 + 3 z_{1} + 3 z_{2} - z_{1}^{2} - 2 z_{1} z_{2} - z_{2}^{2} + z_{1}^{2} z_{2} + z_{1} z_{2}^{2}\n",
       "\\end{math}"
      ],
      "text/plain": [
       "-4 + 3*z1 + 3*z2 - z1^2 - 2*z1*z2 - z2^2 + z1^2*z2 + z1*z2^2"
      ]
     },
     "metadata": {},
     "output_type": "display_data"
    },
    {
     "data": {
      "text/html": [
       "<html><script type=\"math/tex; mode=display\">\\newcommand{\\Bold}[1]{\\mathbf{#1}}\\frac{1}{4} - z_{1} + z_{2}</script></html>"
      ],
      "text/latex": [
       "\\begin{math}\n",
       "\\newcommand{\\Bold}[1]{\\mathbf{#1}}\\frac{1}{4} - z_{1} + z_{2}\n",
       "\\end{math}"
      ],
      "text/plain": [
       "1/4 - z1 + z2"
      ]
     },
     "metadata": {},
     "output_type": "display_data"
    },
    {
     "data": {
      "text/html": [
       "<html><script type=\"math/tex; mode=display\">\\newcommand{\\Bold}[1]{\\mathbf{#1}}1 - 2 z_{1} + z_{2}</script></html>"
      ],
      "text/latex": [
       "\\begin{math}\n",
       "\\newcommand{\\Bold}[1]{\\mathbf{#1}}1 - 2 z_{1} + z_{2}\n",
       "\\end{math}"
      ],
      "text/plain": [
       "1 - 2*z1 + z2"
      ]
     },
     "metadata": {},
     "output_type": "display_data"
    },
    {
     "data": {
      "text/html": [
       "<html><script type=\"math/tex; mode=display\">\\newcommand{\\Bold}[1]{\\mathbf{#1}}4 - 4 z_{1} + z_{2}</script></html>"
      ],
      "text/latex": [
       "\\begin{math}\n",
       "\\newcommand{\\Bold}[1]{\\mathbf{#1}}4 - 4 z_{1} + z_{2}\n",
       "\\end{math}"
      ],
      "text/plain": [
       "4 - 4*z1 + z2"
      ]
     },
     "metadata": {},
     "output_type": "display_data"
    },
    {
     "data": {
      "text/html": [
       "<html><script type=\"math/tex; mode=display\">\\newcommand{\\Bold}[1]{\\mathbf{#1}}9 - 6 z_{1} + z_{2}</script></html>"
      ],
      "text/latex": [
       "\\begin{math}\n",
       "\\newcommand{\\Bold}[1]{\\mathbf{#1}}9 - 6 z_{1} + z_{2}\n",
       "\\end{math}"
      ],
      "text/plain": [
       "9 - 6*z1 + z2"
      ]
     },
     "metadata": {},
     "output_type": "display_data"
    },
    {
     "data": {
      "text/html": [
       "<html><script type=\"math/tex; mode=display\">\\newcommand{\\Bold}[1]{\\mathbf{#1}}16 - 8 z_{1} + z_{2}</script></html>"
      ],
      "text/latex": [
       "\\begin{math}\n",
       "\\newcommand{\\Bold}[1]{\\mathbf{#1}}16 - 8 z_{1} + z_{2}\n",
       "\\end{math}"
      ],
      "text/plain": [
       "16 - 8*z1 + z2"
      ]
     },
     "metadata": {},
     "output_type": "display_data"
    },
    {
     "data": {
      "text/html": [
       "<html><script type=\"math/tex; mode=display\">\\newcommand{\\Bold}[1]{\\mathbf{#1}}\\frac{1}{8} - \\frac{3}{4} z_{1} + \\frac{3}{2} z_{2} - z_{1}^{2}</script></html>"
      ],
      "text/latex": [
       "\\begin{math}\n",
       "\\newcommand{\\Bold}[1]{\\mathbf{#1}}\\frac{1}{8} - \\frac{3}{4} z_{1} + \\frac{3}{2} z_{2} - z_{1}^{2}\n",
       "\\end{math}"
      ],
      "text/plain": [
       "1/8 - 3/4*z1 + 3/2*z2 - z1^2"
      ]
     },
     "metadata": {},
     "output_type": "display_data"
    },
    {
     "data": {
      "text/html": [
       "<html><script type=\"math/tex; mode=display\">\\newcommand{\\Bold}[1]{\\mathbf{#1}}1 - 3 z_{1} + 3 z_{2} - z_{1}^{2}</script></html>"
      ],
      "text/latex": [
       "\\begin{math}\n",
       "\\newcommand{\\Bold}[1]{\\mathbf{#1}}1 - 3 z_{1} + 3 z_{2} - z_{1}^{2}\n",
       "\\end{math}"
      ],
      "text/plain": [
       "1 - 3*z1 + 3*z2 - z1^2"
      ]
     },
     "metadata": {},
     "output_type": "display_data"
    },
    {
     "data": {
      "text/html": [
       "<html><script type=\"math/tex; mode=display\">\\newcommand{\\Bold}[1]{\\mathbf{#1}}8 - 12 z_{1} + 6 z_{2} - z_{1}^{2}</script></html>"
      ],
      "text/latex": [
       "\\begin{math}\n",
       "\\newcommand{\\Bold}[1]{\\mathbf{#1}}8 - 12 z_{1} + 6 z_{2} - z_{1}^{2}\n",
       "\\end{math}"
      ],
      "text/plain": [
       "8 - 12*z1 + 6*z2 - z1^2"
      ]
     },
     "metadata": {},
     "output_type": "display_data"
    },
    {
     "data": {
      "text/html": [
       "<html><script type=\"math/tex; mode=display\">\\newcommand{\\Bold}[1]{\\mathbf{#1}}27 - 27 z_{1} + 9 z_{2} - z_{1}^{2}</script></html>"
      ],
      "text/latex": [
       "\\begin{math}\n",
       "\\newcommand{\\Bold}[1]{\\mathbf{#1}}27 - 27 z_{1} + 9 z_{2} - z_{1}^{2}\n",
       "\\end{math}"
      ],
      "text/plain": [
       "27 - 27*z1 + 9*z2 - z1^2"
      ]
     },
     "metadata": {},
     "output_type": "display_data"
    },
    {
     "data": {
      "text/html": [
       "<html><script type=\"math/tex; mode=display\">\\newcommand{\\Bold}[1]{\\mathbf{#1}}256 - 48 z_{1} + 12 z_{2} - z_{1}^{2}</script></html>"
      ],
      "text/latex": [
       "\\begin{math}\n",
       "\\newcommand{\\Bold}[1]{\\mathbf{#1}}256 - 48 z_{1} + 12 z_{2} - z_{1}^{2}\n",
       "\\end{math}"
      ],
      "text/plain": [
       "256 - 48*z1 + 12*z2 - z1^2"
      ]
     },
     "metadata": {},
     "output_type": "display_data"
    }
   ],
   "source": [
    "b=(-4+3*z1-z1^2+3*z2-2*z1*z2+z1^2*z2-z2^2+z1*z2^2)\n",
    "lazy1v=1-z1\n",
    "show(lazy1v)\n",
    "show(b)\n",
    "Nikolski_k=1-z1    #These are the z(lambda-z^k) examples translated to DS as lambda-k^(-s), \n",
    "                   #which I've written here for k a prime and lambda=1\n",
    "#Here are the z(lambda-z)^N examples translated to the polydisk with our DS monomial ordering and choosing lambda=L:\n",
    "N2half=(1/2)^2 - 2*(1/2)*z1 + z2\n",
    "N2L1=1-2*z1+z2\n",
    "N2L2=2^2 - 2*2*z1 + z2\n",
    "N2L3=3^2 - 2*3*z1 + z2\n",
    "N2L4=4^2 - 2*4*z1 + z2\n",
    "#\n",
    "N3half=(1/2)^3 - 3*(1/2)^2*z1 + 3*(1/2)*z2 - z1^2\n",
    "N3L1=1-3*z1+3*z2-z1^2\n",
    "N3L2=2^3 - 3*2^2*z1 + 3*2*z2 - z1^2\n",
    "N3L3=3^3 - 3*3^2*z1 + 3*3*z2 - z1^2\n",
    "N3L4=4^4 - 3*4^2*z1 + 3*4*z2 - z1^2 \n",
    "#L^4*z - 4*L^3*z^2 + 6*L^2*z^3 - 4*L*z^4 + z^5\n",
    "N4L1=1-4*z1+6*z2-4*z1^2+z3    \n",
    "#\n",
    "#L^5*z - 5*L^4*z^2 + 10*L^3*z^3 - 10*L^2*z^4 + 5*L*z^5 - z^6\n",
    "N5L1=1 - 5*z1 + 10*z2 - 10*z1^2 + 5*z3 - z1*z2\n",
    "#\n",
    "#L^10*z - 10*L^9*z^2 + 45*L^8*z^3 - 120*L^7*z^4 + 210*L^6*z^5 - 252*L^5*z^6 + 210*L^4*z^7 - 120*L^3*z^8 + 45*L^2*z^9 - 10*L*z^10 + z^11\n",
    "N10L1=1-10*z1 + 45*z2 - 120*z1^2 + 210*z3 - 252*z1*z2 + 210*z4 - 120*z1^3 + 45*z2^2 - 10*z1*z3 + z5\n",
    "# here are the ones with a + instead of a -\n",
    "Np2=1+2*z1+z2\n",
    "Np3=1+3*z1+3*z2+z1^2\n",
    "Np4=1+4*z1+6*z2+4*z1^2+z3    \n",
    "Np5=1 + 5*z1 + 10*z2 + 10*z1^2 + 5*z3 + z1*z2\n",
    "Nikolski=[N2L1,N3L1,N4L1,N5L1,N10L1]\n",
    "Nikolskiplus=[Np2,Np3,Np4,Np5]\n",
    "NikolskiLs=[N2half,N2L1,N2L2,N2L3,N2L4,N3half,N3L1,N3L2,N3L3,N3L4]\n",
    "for f in NikolskiLs:\n",
    "    show(f)"
   ]
  },
  {
   "cell_type": "code",
   "execution_count": 5,
   "metadata": {},
   "outputs": [
    {
     "data": {
      "text/html": [
       "<html><script type=\"math/tex; mode=display\">\\newcommand{\\Bold}[1]{\\mathbf{#1}}1 - z_{1}</script></html>"
      ],
      "text/latex": [
       "\\begin{math}\n",
       "\\newcommand{\\Bold}[1]{\\mathbf{#1}}1 - z_{1}\n",
       "\\end{math}"
      ],
      "text/plain": [
       "1 - z1"
      ]
     },
     "metadata": {},
     "output_type": "display_data"
    },
    {
     "ename": "KeyboardInterrupt",
     "evalue": "",
     "output_type": "error",
     "traceback": [
      "\u001b[0;31m---------------------------------------------------------------------------\u001b[0m",
      "\u001b[0;31mKeyboardInterrupt\u001b[0m                         Traceback (most recent call last)",
      "\u001b[0;32m<ipython-input-5-18cfd4ebdc5e>\u001b[0m in \u001b[0;36m<module>\u001b[0;34m\u001b[0m\n\u001b[1;32m      9\u001b[0m \u001b[0mfOGs\u001b[0m\u001b[0;34m=\u001b[0m\u001b[0;34m[\u001b[0m\u001b[0;34m]\u001b[0m\u001b[0;34m\u001b[0m\u001b[0;34m\u001b[0m\u001b[0m\n\u001b[1;32m     10\u001b[0m \u001b[0;32mfor\u001b[0m \u001b[0mwhichOA\u001b[0m \u001b[0;32min\u001b[0m \u001b[0mrange\u001b[0m\u001b[0;34m(\u001b[0m\u001b[0mInteger\u001b[0m\u001b[0;34m(\u001b[0m\u001b[0;36m0\u001b[0m\u001b[0;34m)\u001b[0m\u001b[0;34m,\u001b[0m\u001b[0mInteger\u001b[0m\u001b[0;34m(\u001b[0m\u001b[0;36m16\u001b[0m\u001b[0;34m)\u001b[0m\u001b[0;34m)\u001b[0m\u001b[0;34m:\u001b[0m\u001b[0;34m\u001b[0m\u001b[0;34m\u001b[0m\u001b[0m\n\u001b[0;32m---> 11\u001b[0;31m     \u001b[0mJAMmat\u001b[0m\u001b[0;34m=\u001b[0m\u001b[0mbuildGram\u001b[0m\u001b[0;34m(\u001b[0m\u001b[0mmonomslist\u001b[0m\u001b[0;34m,\u001b[0m\u001b[0mf\u001b[0m\u001b[0;34m,\u001b[0m\u001b[0mwhichOA\u001b[0m\u001b[0;34m,\u001b[0m\u001b[0mvarseval\u001b[0m\u001b[0;34m)\u001b[0m\u001b[0;34m\u001b[0m\u001b[0;34m\u001b[0m\u001b[0m\n\u001b[0m\u001b[1;32m     12\u001b[0m     \u001b[0mother_side\u001b[0m\u001b[0;34m=\u001b[0m\u001b[0mRHSmateq\u001b[0m\u001b[0;34m(\u001b[0m\u001b[0mf\u001b[0m\u001b[0;34m,\u001b[0m\u001b[0mwhichOA\u001b[0m\u001b[0;34m)\u001b[0m\u001b[0;34m\u001b[0m\u001b[0;34m\u001b[0m\u001b[0m\n\u001b[1;32m     13\u001b[0m     \u001b[0mJAM_aug\u001b[0m \u001b[0;34m=\u001b[0m \u001b[0mJAMmat\u001b[0m\u001b[0;34m.\u001b[0m\u001b[0maugment\u001b[0m\u001b[0;34m(\u001b[0m\u001b[0mother_side\u001b[0m\u001b[0;34m)\u001b[0m\u001b[0;34m\u001b[0m\u001b[0;34m\u001b[0m\u001b[0m\n",
      "\u001b[0;32m<ipython-input-3-110b4f1ed167>\u001b[0m in \u001b[0;36mbuildGram\u001b[0;34m(monoms, fcn, whichpn, varseval)\u001b[0m\n\u001b[1;32m     22\u001b[0m     \u001b[0;32mreturn\u001b[0m \u001b[0mip\u001b[0m\u001b[0;34m\u001b[0m\u001b[0;34m\u001b[0m\u001b[0m\n\u001b[1;32m     23\u001b[0m \u001b[0;32mdef\u001b[0m \u001b[0mbuildGram\u001b[0m\u001b[0;34m(\u001b[0m\u001b[0mmonoms\u001b[0m\u001b[0;34m,\u001b[0m\u001b[0mfcn\u001b[0m\u001b[0;34m,\u001b[0m\u001b[0mwhichpn\u001b[0m\u001b[0;34m,\u001b[0m\u001b[0mvarseval\u001b[0m\u001b[0;34m)\u001b[0m\u001b[0;34m:\u001b[0m\u001b[0;34m\u001b[0m\u001b[0;34m\u001b[0m\u001b[0m\n\u001b[0;32m---> 24\u001b[0;31m     \u001b[0mM\u001b[0m\u001b[0;34m=\u001b[0m\u001b[0mmatrix\u001b[0m\u001b[0;34m(\u001b[0m\u001b[0mQ\u001b[0m\u001b[0;34m,\u001b[0m\u001b[0mwhichpn\u001b[0m\u001b[0;34m+\u001b[0m\u001b[0mInteger\u001b[0m\u001b[0;34m(\u001b[0m\u001b[0;36m1\u001b[0m\u001b[0;34m)\u001b[0m\u001b[0;34m,\u001b[0m\u001b[0;32mlambda\u001b[0m \u001b[0mx\u001b[0m\u001b[0;34m,\u001b[0m\u001b[0my\u001b[0m\u001b[0;34m:\u001b[0m \u001b[0mInnerProd\u001b[0m\u001b[0;34m(\u001b[0m\u001b[0mmonoms\u001b[0m\u001b[0;34m[\u001b[0m\u001b[0mx\u001b[0m\u001b[0;34m]\u001b[0m\u001b[0;34m*\u001b[0m\u001b[0mfcn\u001b[0m\u001b[0;34m,\u001b[0m\u001b[0mmonoms\u001b[0m\u001b[0;34m[\u001b[0m\u001b[0my\u001b[0m\u001b[0;34m]\u001b[0m\u001b[0;34m*\u001b[0m\u001b[0mfcn\u001b[0m\u001b[0;34m,\u001b[0m\u001b[0mmonoms\u001b[0m\u001b[0;34m,\u001b[0m\u001b[0mvarseval\u001b[0m\u001b[0;34m)\u001b[0m\u001b[0;34m)\u001b[0m\u001b[0;34m\u001b[0m\u001b[0;34m\u001b[0m\u001b[0m\n\u001b[0m\u001b[1;32m     25\u001b[0m     \u001b[0;32mreturn\u001b[0m \u001b[0mM\u001b[0m\u001b[0;34m\u001b[0m\u001b[0;34m\u001b[0m\u001b[0m\n\u001b[1;32m     26\u001b[0m \u001b[0;32mdef\u001b[0m \u001b[0mRHSmateq\u001b[0m\u001b[0;34m(\u001b[0m\u001b[0mf\u001b[0m\u001b[0;34m,\u001b[0m\u001b[0mwhichpn\u001b[0m\u001b[0;34m)\u001b[0m\u001b[0;34m:\u001b[0m\u001b[0;34m\u001b[0m\u001b[0;34m\u001b[0m\u001b[0m\n",
      "\u001b[0;32m/opt/sagemath-9.2/local/lib/python3.7/site-packages/sage/matrix/constructor.pyx\u001b[0m in \u001b[0;36msage.matrix.constructor.matrix (build/cythonized/sage/matrix/constructor.c:2529)\u001b[0;34m()\u001b[0m\n\u001b[1;32m    633\u001b[0m     \"\"\"\n\u001b[1;32m    634\u001b[0m     \u001b[0mimmutable\u001b[0m \u001b[0;34m=\u001b[0m \u001b[0mkwds\u001b[0m\u001b[0;34m.\u001b[0m\u001b[0mpop\u001b[0m\u001b[0;34m(\u001b[0m\u001b[0;34m'immutable'\u001b[0m\u001b[0;34m,\u001b[0m \u001b[0;32mFalse\u001b[0m\u001b[0;34m)\u001b[0m\u001b[0;34m\u001b[0m\u001b[0;34m\u001b[0m\u001b[0m\n\u001b[0;32m--> 635\u001b[0;31m     \u001b[0mM\u001b[0m \u001b[0;34m=\u001b[0m \u001b[0mMatrixArgs\u001b[0m\u001b[0;34m(\u001b[0m\u001b[0;34m*\u001b[0m\u001b[0margs\u001b[0m\u001b[0;34m,\u001b[0m \u001b[0;34m**\u001b[0m\u001b[0mkwds\u001b[0m\u001b[0;34m)\u001b[0m\u001b[0;34m.\u001b[0m\u001b[0mmatrix\u001b[0m\u001b[0;34m(\u001b[0m\u001b[0;34m)\u001b[0m\u001b[0;34m\u001b[0m\u001b[0;34m\u001b[0m\u001b[0m\n\u001b[0m\u001b[1;32m    636\u001b[0m     \u001b[0;32mif\u001b[0m \u001b[0mimmutable\u001b[0m\u001b[0;34m:\u001b[0m\u001b[0;34m\u001b[0m\u001b[0;34m\u001b[0m\u001b[0m\n\u001b[1;32m    637\u001b[0m         \u001b[0mM\u001b[0m\u001b[0;34m.\u001b[0m\u001b[0mset_immutable\u001b[0m\u001b[0;34m(\u001b[0m\u001b[0;34m)\u001b[0m\u001b[0;34m\u001b[0m\u001b[0;34m\u001b[0m\u001b[0m\n",
      "\u001b[0;32m/opt/sagemath-9.2/local/lib/python3.7/site-packages/sage/matrix/args.pyx\u001b[0m in \u001b[0;36msage.matrix.args.MatrixArgs.matrix (build/cythonized/sage/matrix/args.c:7953)\u001b[0;34m()\u001b[0m\n\u001b[1;32m    662\u001b[0m                     \u001b[0;32mbreak\u001b[0m\u001b[0;34m\u001b[0m\u001b[0;34m\u001b[0m\u001b[0m\n\u001b[1;32m    663\u001b[0m         \u001b[0;32melse\u001b[0m\u001b[0;34m:\u001b[0m\u001b[0;34m\u001b[0m\u001b[0;34m\u001b[0m\u001b[0m\n\u001b[0;32m--> 664\u001b[0;31m             \u001b[0mM\u001b[0m \u001b[0;34m=\u001b[0m \u001b[0mself\u001b[0m\u001b[0;34m.\u001b[0m\u001b[0mspace\u001b[0m\u001b[0;34m(\u001b[0m\u001b[0mself\u001b[0m\u001b[0;34m,\u001b[0m \u001b[0mcoerce\u001b[0m\u001b[0;34m=\u001b[0m\u001b[0mconvert\u001b[0m\u001b[0;34m)\u001b[0m\u001b[0;34m\u001b[0m\u001b[0;34m\u001b[0m\u001b[0m\n\u001b[0m\u001b[1;32m    665\u001b[0m \u001b[0;34m\u001b[0m\u001b[0m\n\u001b[1;32m    666\u001b[0m         \u001b[0;31m# Also store the matrix to support multiple calls of matrix()\u001b[0m\u001b[0;34m\u001b[0m\u001b[0;34m\u001b[0m\u001b[0;34m\u001b[0m\u001b[0m\n",
      "\u001b[0;32m/opt/sagemath-9.2/local/lib/python3.7/site-packages/sage/matrix/matrix_space.py\u001b[0m in \u001b[0;36m__call__\u001b[0;34m(self, entries, coerce, copy)\u001b[0m\n\u001b[1;32m    849\u001b[0m             \u001b[0;34m[\u001b[0m\u001b[0mt\u001b[0m\u001b[0;34m]\u001b[0m\u001b[0;34m\u001b[0m\u001b[0;34m\u001b[0m\u001b[0m\n\u001b[1;32m    850\u001b[0m         \"\"\"\n\u001b[0;32m--> 851\u001b[0;31m         \u001b[0;32mreturn\u001b[0m \u001b[0mself\u001b[0m\u001b[0;34m.\u001b[0m\u001b[0melement_class\u001b[0m\u001b[0;34m(\u001b[0m\u001b[0mself\u001b[0m\u001b[0;34m,\u001b[0m \u001b[0mentries\u001b[0m\u001b[0;34m,\u001b[0m \u001b[0mcopy\u001b[0m\u001b[0;34m,\u001b[0m \u001b[0mcoerce\u001b[0m\u001b[0;34m)\u001b[0m\u001b[0;34m\u001b[0m\u001b[0;34m\u001b[0m\u001b[0m\n\u001b[0m\u001b[1;32m    852\u001b[0m \u001b[0;34m\u001b[0m\u001b[0m\n\u001b[1;32m    853\u001b[0m     \u001b[0;32mdef\u001b[0m \u001b[0mchange_ring\u001b[0m\u001b[0;34m(\u001b[0m\u001b[0mself\u001b[0m\u001b[0;34m,\u001b[0m \u001b[0mR\u001b[0m\u001b[0;34m)\u001b[0m\u001b[0;34m:\u001b[0m\u001b[0;34m\u001b[0m\u001b[0;34m\u001b[0m\u001b[0m\n",
      "\u001b[0;32m/opt/sagemath-9.2/local/lib/python3.7/site-packages/sage/matrix/matrix_generic_dense.pyx\u001b[0m in \u001b[0;36msage.matrix.matrix_generic_dense.Matrix_generic_dense.__init__ (build/cythonized/sage/matrix/matrix_generic_dense.c:2853)\u001b[0;34m()\u001b[0m\n\u001b[1;32m     82\u001b[0m         \"\"\"\n\u001b[1;32m     83\u001b[0m         \u001b[0mma\u001b[0m \u001b[0;34m=\u001b[0m \u001b[0mMatrixArgs_init\u001b[0m\u001b[0;34m(\u001b[0m\u001b[0mparent\u001b[0m\u001b[0;34m,\u001b[0m \u001b[0mentries\u001b[0m\u001b[0;34m)\u001b[0m\u001b[0;34m\u001b[0m\u001b[0;34m\u001b[0m\u001b[0m\n\u001b[0;32m---> 84\u001b[0;31m         \u001b[0mself\u001b[0m\u001b[0;34m.\u001b[0m\u001b[0m_entries\u001b[0m \u001b[0;34m=\u001b[0m \u001b[0mma\u001b[0m\u001b[0;34m.\u001b[0m\u001b[0mlist\u001b[0m\u001b[0;34m(\u001b[0m\u001b[0mcoerce\u001b[0m\u001b[0;34m)\u001b[0m\u001b[0;34m\u001b[0m\u001b[0;34m\u001b[0m\u001b[0m\n\u001b[0m\u001b[1;32m     85\u001b[0m \u001b[0;34m\u001b[0m\u001b[0m\n\u001b[1;32m     86\u001b[0m     \u001b[0mcdef\u001b[0m \u001b[0mMatrix_generic_dense\u001b[0m \u001b[0m_new\u001b[0m\u001b[0;34m(\u001b[0m\u001b[0mself\u001b[0m\u001b[0;34m,\u001b[0m \u001b[0mPy_ssize_t\u001b[0m \u001b[0mnrows\u001b[0m\u001b[0;34m,\u001b[0m \u001b[0mPy_ssize_t\u001b[0m \u001b[0mncols\u001b[0m\u001b[0;34m)\u001b[0m\u001b[0;34m:\u001b[0m\u001b[0;34m\u001b[0m\u001b[0;34m\u001b[0m\u001b[0m\n",
      "\u001b[0;32m/opt/sagemath-9.2/local/lib/python3.7/site-packages/sage/matrix/args.pyx\u001b[0m in \u001b[0;36msage.matrix.args.MatrixArgs.list (build/cythonized/sage/matrix/args.c:8357)\u001b[0;34m()\u001b[0m\n\u001b[1;32m    726\u001b[0m                     \u001b[0mL\u001b[0m \u001b[0;34m=\u001b[0m \u001b[0mL\u001b[0m\u001b[0;34m[\u001b[0m\u001b[0;34m:\u001b[0m\u001b[0;34m]\u001b[0m\u001b[0;34m\u001b[0m\u001b[0;34m\u001b[0m\u001b[0m\n\u001b[1;32m    727\u001b[0m         \u001b[0;32melse\u001b[0m\u001b[0;34m:\u001b[0m\u001b[0;34m\u001b[0m\u001b[0;34m\u001b[0m\u001b[0m\n\u001b[0;32m--> 728\u001b[0;31m             \u001b[0mL\u001b[0m \u001b[0;34m=\u001b[0m \u001b[0mlist\u001b[0m\u001b[0;34m(\u001b[0m\u001b[0mself\u001b[0m\u001b[0;34m.\u001b[0m\u001b[0miter\u001b[0m\u001b[0;34m(\u001b[0m\u001b[0mconvert\u001b[0m\u001b[0;34m)\u001b[0m\u001b[0;34m)\u001b[0m\u001b[0;34m\u001b[0m\u001b[0;34m\u001b[0m\u001b[0m\n\u001b[0m\u001b[1;32m    729\u001b[0m \u001b[0;34m\u001b[0m\u001b[0m\n\u001b[1;32m    730\u001b[0m         \u001b[0mcdef\u001b[0m \u001b[0mlong\u001b[0m \u001b[0mN\u001b[0m \u001b[0;34m=\u001b[0m \u001b[0mself\u001b[0m\u001b[0;34m.\u001b[0m\u001b[0mnrows\u001b[0m \u001b[0;34m*\u001b[0m \u001b[0mself\u001b[0m\u001b[0;34m.\u001b[0m\u001b[0mncols\u001b[0m\u001b[0;34m\u001b[0m\u001b[0;34m\u001b[0m\u001b[0m\n",
      "\u001b[0;32m/opt/sagemath-9.2/local/lib/python3.7/site-packages/sage/matrix/args.pyx\u001b[0m in \u001b[0;36miter (build/cythonized/sage/matrix/args.c:7139)\u001b[0;34m()\u001b[0m\n\u001b[1;32m    548\u001b[0m                 \u001b[0;32mfor\u001b[0m \u001b[0mj\u001b[0m \u001b[0;32min\u001b[0m \u001b[0mrange\u001b[0m\u001b[0;34m(\u001b[0m\u001b[0mself\u001b[0m\u001b[0;34m.\u001b[0m\u001b[0mncols\u001b[0m\u001b[0;34m)\u001b[0m\u001b[0;34m:\u001b[0m\u001b[0;34m\u001b[0m\u001b[0;34m\u001b[0m\u001b[0m\n\u001b[1;32m    549\u001b[0m                     \u001b[0msig_check\u001b[0m\u001b[0;34m(\u001b[0m\u001b[0;34m)\u001b[0m\u001b[0;34m\u001b[0m\u001b[0;34m\u001b[0m\u001b[0m\n\u001b[0;32m--> 550\u001b[0;31m                     \u001b[0mx\u001b[0m \u001b[0;34m=\u001b[0m \u001b[0mf\u001b[0m\u001b[0;34m(\u001b[0m\u001b[0mi\u001b[0m\u001b[0;34m,\u001b[0m \u001b[0mj\u001b[0m\u001b[0;34m)\u001b[0m\u001b[0;34m\u001b[0m\u001b[0;34m\u001b[0m\u001b[0m\n\u001b[0m\u001b[1;32m    551\u001b[0m                     \u001b[0;32mif\u001b[0m \u001b[0mconvert\u001b[0m \u001b[0;32mand\u001b[0m \u001b[0mself\u001b[0m\u001b[0;34m.\u001b[0m\u001b[0mneed_to_convert\u001b[0m\u001b[0;34m(\u001b[0m\u001b[0mx\u001b[0m\u001b[0;34m)\u001b[0m\u001b[0;34m:\u001b[0m\u001b[0;34m\u001b[0m\u001b[0;34m\u001b[0m\u001b[0m\n\u001b[1;32m    552\u001b[0m                         \u001b[0mx\u001b[0m \u001b[0;34m=\u001b[0m \u001b[0mself\u001b[0m\u001b[0;34m.\u001b[0m\u001b[0mbase\u001b[0m\u001b[0;34m(\u001b[0m\u001b[0mx\u001b[0m\u001b[0;34m)\u001b[0m\u001b[0;34m\u001b[0m\u001b[0;34m\u001b[0m\u001b[0m\n",
      "\u001b[0;32m<ipython-input-3-110b4f1ed167>\u001b[0m in \u001b[0;36m<lambda>\u001b[0;34m(x, y)\u001b[0m\n\u001b[1;32m     22\u001b[0m     \u001b[0;32mreturn\u001b[0m \u001b[0mip\u001b[0m\u001b[0;34m\u001b[0m\u001b[0;34m\u001b[0m\u001b[0m\n\u001b[1;32m     23\u001b[0m \u001b[0;32mdef\u001b[0m \u001b[0mbuildGram\u001b[0m\u001b[0;34m(\u001b[0m\u001b[0mmonoms\u001b[0m\u001b[0;34m,\u001b[0m\u001b[0mfcn\u001b[0m\u001b[0;34m,\u001b[0m\u001b[0mwhichpn\u001b[0m\u001b[0;34m,\u001b[0m\u001b[0mvarseval\u001b[0m\u001b[0;34m)\u001b[0m\u001b[0;34m:\u001b[0m\u001b[0;34m\u001b[0m\u001b[0;34m\u001b[0m\u001b[0m\n\u001b[0;32m---> 24\u001b[0;31m     \u001b[0mM\u001b[0m\u001b[0;34m=\u001b[0m\u001b[0mmatrix\u001b[0m\u001b[0;34m(\u001b[0m\u001b[0mQ\u001b[0m\u001b[0;34m,\u001b[0m\u001b[0mwhichpn\u001b[0m\u001b[0;34m+\u001b[0m\u001b[0mInteger\u001b[0m\u001b[0;34m(\u001b[0m\u001b[0;36m1\u001b[0m\u001b[0;34m)\u001b[0m\u001b[0;34m,\u001b[0m\u001b[0;32mlambda\u001b[0m \u001b[0mx\u001b[0m\u001b[0;34m,\u001b[0m\u001b[0my\u001b[0m\u001b[0;34m:\u001b[0m \u001b[0mInnerProd\u001b[0m\u001b[0;34m(\u001b[0m\u001b[0mmonoms\u001b[0m\u001b[0;34m[\u001b[0m\u001b[0mx\u001b[0m\u001b[0;34m]\u001b[0m\u001b[0;34m*\u001b[0m\u001b[0mfcn\u001b[0m\u001b[0;34m,\u001b[0m\u001b[0mmonoms\u001b[0m\u001b[0;34m[\u001b[0m\u001b[0my\u001b[0m\u001b[0;34m]\u001b[0m\u001b[0;34m*\u001b[0m\u001b[0mfcn\u001b[0m\u001b[0;34m,\u001b[0m\u001b[0mmonoms\u001b[0m\u001b[0;34m,\u001b[0m\u001b[0mvarseval\u001b[0m\u001b[0;34m)\u001b[0m\u001b[0;34m)\u001b[0m\u001b[0;34m\u001b[0m\u001b[0;34m\u001b[0m\u001b[0m\n\u001b[0m\u001b[1;32m     25\u001b[0m     \u001b[0;32mreturn\u001b[0m \u001b[0mM\u001b[0m\u001b[0;34m\u001b[0m\u001b[0;34m\u001b[0m\u001b[0m\n\u001b[1;32m     26\u001b[0m \u001b[0;32mdef\u001b[0m \u001b[0mRHSmateq\u001b[0m\u001b[0;34m(\u001b[0m\u001b[0mf\u001b[0m\u001b[0;34m,\u001b[0m\u001b[0mwhichpn\u001b[0m\u001b[0;34m)\u001b[0m\u001b[0;34m:\u001b[0m\u001b[0;34m\u001b[0m\u001b[0;34m\u001b[0m\u001b[0m\n",
      "\u001b[0;32m<ipython-input-3-110b4f1ed167>\u001b[0m in \u001b[0;36mInnerProd\u001b[0;34m(f, g, monomslist, varseval)\u001b[0m\n\u001b[1;32m      5\u001b[0m \u001b[0;31m############\u001b[0m\u001b[0;34m\u001b[0m\u001b[0;34m\u001b[0m\u001b[0;34m\u001b[0m\u001b[0m\n\u001b[1;32m      6\u001b[0m \u001b[0;32mdef\u001b[0m \u001b[0mInnerProd\u001b[0m\u001b[0;34m(\u001b[0m\u001b[0mf\u001b[0m\u001b[0;34m,\u001b[0m\u001b[0mg\u001b[0m\u001b[0;34m,\u001b[0m\u001b[0mmonomslist\u001b[0m\u001b[0;34m,\u001b[0m\u001b[0mvarseval\u001b[0m\u001b[0;34m)\u001b[0m\u001b[0;34m:\u001b[0m\u001b[0;34m\u001b[0m\u001b[0;34m\u001b[0m\u001b[0m\n\u001b[0;32m----> 7\u001b[0;31m     \u001b[0mcfsf\u001b[0m\u001b[0;34m=\u001b[0m\u001b[0mcoeffdict\u001b[0m\u001b[0;34m(\u001b[0m\u001b[0mf\u001b[0m\u001b[0;34m,\u001b[0m\u001b[0mmonomslist\u001b[0m\u001b[0;34m,\u001b[0m\u001b[0mvarseval\u001b[0m\u001b[0;34m)\u001b[0m\u001b[0;31m#the coefficients paired into a dictionary with the multi-indices\u001b[0m\u001b[0;34m\u001b[0m\u001b[0;34m\u001b[0m\u001b[0m\n\u001b[0m\u001b[1;32m      8\u001b[0m     \u001b[0mcfsg\u001b[0m\u001b[0;34m=\u001b[0m\u001b[0mcoeffdict\u001b[0m\u001b[0;34m(\u001b[0m\u001b[0mg\u001b[0m\u001b[0;34m,\u001b[0m\u001b[0mmonomslist\u001b[0m\u001b[0;34m,\u001b[0m\u001b[0mvarseval\u001b[0m\u001b[0;34m)\u001b[0m\u001b[0;34m\u001b[0m\u001b[0;34m\u001b[0m\u001b[0m\n\u001b[1;32m      9\u001b[0m     \u001b[0mmulti_indices\u001b[0m \u001b[0;34m=\u001b[0m \u001b[0mlist\u001b[0m\u001b[0;34m(\u001b[0m\u001b[0mset\u001b[0m\u001b[0;34m(\u001b[0m\u001b[0mcfsf\u001b[0m\u001b[0;34m.\u001b[0m\u001b[0mkeys\u001b[0m\u001b[0;34m(\u001b[0m\u001b[0;34m)\u001b[0m\u001b[0;34m)\u001b[0m\u001b[0;34m.\u001b[0m\u001b[0munion\u001b[0m\u001b[0;34m(\u001b[0m\u001b[0mset\u001b[0m\u001b[0;34m(\u001b[0m\u001b[0mcfsg\u001b[0m\u001b[0;34m.\u001b[0m\u001b[0mkeys\u001b[0m\u001b[0;34m(\u001b[0m\u001b[0;34m)\u001b[0m\u001b[0;34m)\u001b[0m\u001b[0;34m)\u001b[0m\u001b[0;34m)\u001b[0m \u001b[0;31m#pretty sure unioning them is unnecessary, but *shrug*\u001b[0m\u001b[0;34m\u001b[0m\u001b[0;34m\u001b[0m\u001b[0m\n",
      "\u001b[0;32m<ipython-input-2-c8c0b5dfcf21>\u001b[0m in \u001b[0;36mcoeffdict\u001b[0;34m(poly, monomslist, varseval)\u001b[0m\n\u001b[1;32m     17\u001b[0m             \u001b[0md\u001b[0m\u001b[0;34m.\u001b[0m\u001b[0mupdate\u001b[0m\u001b[0;34m(\u001b[0m\u001b[0;34m{\u001b[0m\u001b[0mvarseval\u001b[0m\u001b[0;34m[\u001b[0m\u001b[0mn\u001b[0m\u001b[0;34m]\u001b[0m\u001b[0;34m:\u001b[0m\u001b[0mmulti\u001b[0m\u001b[0;34m[\u001b[0m\u001b[0mn\u001b[0m\u001b[0;34m]\u001b[0m\u001b[0;34m}\u001b[0m\u001b[0;34m)\u001b[0m\u001b[0;34m\u001b[0m\u001b[0;34m\u001b[0m\u001b[0m\n\u001b[1;32m     18\u001b[0m         \u001b[0;31m#print(d)\u001b[0m\u001b[0;34m\u001b[0m\u001b[0;34m\u001b[0m\u001b[0;34m\u001b[0m\u001b[0m\n\u001b[0;32m---> 19\u001b[0;31m         \u001b[0mpolydict\u001b[0m\u001b[0;34m.\u001b[0m\u001b[0mupdate\u001b[0m\u001b[0;34m(\u001b[0m\u001b[0;34m{\u001b[0m\u001b[0mmulti\u001b[0m\u001b[0;34m:\u001b[0m\u001b[0mpoly\u001b[0m\u001b[0;34m.\u001b[0m\u001b[0mcoefficient\u001b[0m\u001b[0;34m(\u001b[0m\u001b[0md\u001b[0m\u001b[0;34m)\u001b[0m\u001b[0;34m}\u001b[0m\u001b[0;34m)\u001b[0m\u001b[0;34m\u001b[0m\u001b[0;34m\u001b[0m\u001b[0m\n\u001b[0m\u001b[1;32m     20\u001b[0m     \u001b[0;32mreturn\u001b[0m \u001b[0mpolydict\u001b[0m\u001b[0;34m\u001b[0m\u001b[0;34m\u001b[0m\u001b[0m\n",
      "\u001b[0;32msrc/cysignals/signals.pyx\u001b[0m in \u001b[0;36mcysignals.signals.python_check_interrupt\u001b[0;34m()\u001b[0m\n",
      "\u001b[0;31mKeyboardInterrupt\u001b[0m: "
     ]
    }
   ],
   "source": [
    "# going up to OA#16 gets us to n=15=z2*z3 so we at least see stuff beyond z1 and pure primes\n",
    "f=lazy1v\n",
    "#f=N3L4 #change which function in just one place\n",
    "show(f)\n",
    "#\n",
    "#\n",
    "fOAs=[]\n",
    "fODs=[]\n",
    "fOGs=[]\n",
    "for whichOA in range(0,16):\n",
    "    JAMmat=buildGram(monomslist,f,whichOA,varseval)\n",
    "    other_side=RHSmateq(f,whichOA)\n",
    "    JAM_aug = JAMmat.augment(other_side)\n",
    "    JAM_red=JAM_aug.echelon_form()\n",
    "    optimal_coeffs=JAM_red.column(whichOA+1)\n",
    "    q=coeffpoly(optimal_coeffs,whichOA,monomslist)\n",
    "    tonorm=q*f-1\n",
    "    optimaldistsq=InnerProd(tonorm,tonorm,monomslist,varseval)\n",
    "    #show(q)\n",
    "    fOAs=fOAs+[q]\n",
    "    fODs=fODs+[optimaldistsq]\n",
    "for whichOA in range(1,len(fOAs)):\n",
    "        fOGs=fOGs+[fOAs[whichOA]-fOAs[whichOA-1]]\n",
    "#\n",
    "#\n",
    "#\n",
    "#print \"grammian\"\n",
    "#print \"\"\n",
    "#print(latex(JAMmat))\n",
    "show(fOGs)"
   ]
  },
  {
   "cell_type": "code",
   "execution_count": null,
   "metadata": {},
   "outputs": [],
   "source": [
    "print(\"test function\")\n",
    "print(\"\\\\begin{equation*}\")\n",
    "print(\"\\\\scalebox{2}{\\\\ensuremath{f=\",latex(f),\"}}\")\n",
    "print(\"\\\\end{equation*}\")\n",
    "deg=0\n",
    "print(\"\\\\begin{align*}\")\n",
    "print('p_{',deg,'}&=',latex(fOAs[0]),'\\\\\\\\')\n",
    "for deg in range(1,len(fOAs)):\n",
    "    if fOAs[deg]!=fOAs[deg-1]:\n",
    "        print('p_{',deg,'}&=',latex(fOAs[deg]),'\\\\\\\\')\n",
    "        print('%%%%%%%%%%%%%%%%%%%')\n",
    "    #deg=deg+1\n",
    "print(\"\\\\end{align*}\")\n",
    "print(\"\")\n",
    "print(\"\")\n",
    "print(\"\")"
   ]
  },
  {
   "cell_type": "code",
   "execution_count": null,
   "metadata": {
    "scrolled": true
   },
   "outputs": [],
   "source": [
    "alltheOGs=[]\n",
    "for f in Nikolskiplus:\n",
    "    #show(f)\n",
    "    print(\"test function\")\n",
    "    print(\"\\\\begin{equation*}\")\n",
    "    print(\"\\\\scalebox{2}{\\\\ensuremath{f=\",latex(f),\"}}\")\n",
    "    print(\"\\\\end{equation*}\")\n",
    "    #\n",
    "    #\n",
    "    fOAs=[]\n",
    "    fODs=[]\n",
    "    for whichOA in range(0,16):\n",
    "        JAMmat=buildGram(monomslist,f,whichOA,varseval)\n",
    "        other_side=RHSmateq(f,whichOA)\n",
    "        JAM_aug = JAMmat.augment(other_side)\n",
    "        JAM_red=JAM_aug.echelon_form()\n",
    "        optimal_coeffs=JAM_red.column(whichOA+1)\n",
    "        q=coeffpoly(optimal_coeffs,whichOA,monomslist)\n",
    "        tonorm=q*f-1\n",
    "        optimaldistsq=InnerProd(tonorm,tonorm,monomslist,varseval)\n",
    "        #show(q)\n",
    "        fOAs=fOAs+[q]\n",
    "        fODs=fODs+[optimaldistsq]\n",
    "    #\n",
    "    fOGs=[f,fOAs[0]]\n",
    "    for whichOA in range(1,len(fOAs)):\n",
    "        fOGs=fOGs+[fOAs[whichOA]-fOAs[whichOA-1]]\n",
    "    #\n",
    "    alltheOGs=alltheOGs+[fOGs]\n",
    "        #DSOGs=GS_UpTo(monomslist,g,15,monomslist,varseval)\n",
    "    deg=0\n",
    "    print(\"\\\\begin{align*}\")\n",
    "    print('p_{',deg,'}&=',latex(fOAs[0]),'\\\\\\\\')\n",
    "    for deg in range(1,len(fOAs)):\n",
    "        if fOAs[deg]!=fOAs[deg-1]:\n",
    "            print('p_{',deg,'}&=',latex(fOAs[deg]),'\\\\\\\\')\n",
    "            print('%%%%%%%%%%%%%%%%%%%')\n",
    "        #deg=deg+1\n",
    "    print(\"\\\\end{align*}\")\n",
    "    print(\"\")\n",
    "    deg=0\n",
    "    print(\"\\\\begin{align*}\")\n",
    "    print('\\\\nu_{',deg,'}&=',latex(fODs[0]),'\\\\\\\\')\n",
    "    for deg in range(1,len(fODs)):\n",
    "        if fODs[deg]!=fODs[deg-1]:\n",
    "            print('\\\\nu_{',deg,'}&=',latex(fODs[deg]),'\\\\\\\\')\n",
    "            print('%%%%%%%%%%%%%%%%%%%')\n",
    "        #deg=deg+1\n",
    "    print(\"\\\\end{align*}\")\n",
    "    print(\"\")\n",
    "    print(\"\")\n",
    "    print(\"\")"
   ]
  },
  {
   "cell_type": "code",
   "execution_count": null,
   "metadata": {},
   "outputs": [],
   "source": [
    "orthogs=[fOAs[0]]\n",
    "for index in range(1,len(fOAs)):\n",
    "    newOG=fOAs[index]-fOAs[index-1]\n",
    "    #print(newOG)\n",
    "    orthogs=orthogs+[newOG]\n",
    "deg=0\n",
    "print(\"\\\\begin{align*}\")\n",
    "print('\\\\phi_{',deg,'}&=',latex(orthogs[0]),'\\\\\\\\')\n",
    "for deg in range(1,len(orthogs)):\n",
    "    #if orthogs[deg]!=orthogs[deg-1]:\n",
    "        print('\\\\phi_{',deg,'}&=',latex(orthogs[deg]),'\\\\\\\\')\n",
    "        print('%%%%%%%%%%%%%%%%%%%')\n",
    "    #deg=deg+1\n",
    "print(\"\\\\end{align*}\")"
   ]
  },
  {
   "cell_type": "code",
   "execution_count": null,
   "metadata": {},
   "outputs": [],
   "source": [
    "for orthogs in alltheOGs:\n",
    "    show(orthogs[0])\n",
    "    print(\"test function\")\n",
    "    print(\"\\\\begin{equation*}\")\n",
    "    print(\"\\scalebox{2}{\\ensuremath{f=\",latex(orthogs[0]),\"}}\")\n",
    "    print(\"\\\\end{equation*}\")\n",
    "    #\n",
    "    print(\"\\\\begin{align*}\")\n",
    "    for deg in range(1,len(orthogs)):\n",
    "        print('\\\\phi_{',deg-1,'}&=',latex(orthogs[deg]),'\\\\\\\\')\n",
    "        print('%%%%%%%%%%%%%%%%%%%')\n",
    "    print(\"\\\\end{align*}\")"
   ]
  },
  {
   "cell_type": "code",
   "execution_count": null,
   "metadata": {},
   "outputs": [],
   "source": [
    "show(154572*fOAs[15])"
   ]
  },
  {
   "cell_type": "code",
   "execution_count": null,
   "metadata": {},
   "outputs": [],
   "source": [
    "for g in fOAs:\n",
    "    thingtonorm=g*f-1\n",
    "    distnorm=InnerProd(thingtonorm,thingtonorm,monomslist,varseval)\n",
    "    show(distnorm)"
   ]
  },
  {
   "cell_type": "markdown",
   "metadata": {},
   "source": [
    "note to self: attempt nikolski examples with generic lambda"
   ]
  },
  {
   "cell_type": "code",
   "execution_count": null,
   "metadata": {},
   "outputs": [],
   "source": []
  }
 ],
 "metadata": {
  "kernelspec": {
   "display_name": "SageMath 9.2",
   "language": "sage",
   "name": "sagemath"
  },
  "language_info": {
   "codemirror_mode": {
    "name": "ipython",
    "version": 3
   },
   "file_extension": ".py",
   "mimetype": "text/x-python",
   "name": "python",
   "nbconvert_exporter": "python",
   "pygments_lexer": "ipython3",
   "version": "3.7.7"
  }
 },
 "nbformat": 4,
 "nbformat_minor": 4
}
