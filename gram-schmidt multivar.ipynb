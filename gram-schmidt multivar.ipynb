{
 "cells": [
  {
   "cell_type": "markdown",
   "metadata": {
    "collapsed": false
   },
   "source": [
    "Code to do gram schmidt in several variables in the Drury-Arveson space. (Just realized I should've talked about this today; I'll write up some notes and post in Teams tonight.)"
   ]
  },
  {
   "cell_type": "code",
   "execution_count": 1,
   "metadata": {
    "collapsed": false
   },
   "outputs": [
   ],
   "source": [
    "#setup functions: list of monomials, extracting coefficients\n",
    "Q.<z1,z2>=PolynomialRing(QQ,order='negdeglex') #define the ring!!!\n",
    "def buildmonoms(whichOG): #puts the monomials in degree lexicographic order\n",
    "    Q.<z1,z2>=PolynomialRing(QQ,order='negdeglex')\n",
    "    monomslist=[]\n",
    "    m=0\n",
    "    for totaldeg in range(0,whichOG+1):\n",
    "        k=0;l=totaldeg;\n",
    "        while k<=totaldeg and m<=whichOG:\n",
    "            monomslist.append(sage_eval('z1^'+str(l)+'*z2^'+str(k),locals=vars()))#so it's not just strings\n",
    "            #print (k,l),newcoefs[(k, l)]\n",
    "            m=m+1\n",
    "            k=k+1\n",
    "            l=l-1\n",
    "    return monomslist\n",
    "def multideg(monom): #take a monomial in z1 and z2 and return an ordered pair with its multidegree \n",
    "                    #(there's probably a way to do this more generally)\n",
    "    z1deg=monom.degree(z1)\n",
    "    z2deg=monom.degree(z2)\n",
    "    return (z1deg,z2deg)\n",
    "def coeffdict(poly,monomslist): #takes a polynomial (as an expression) and a pregenerated list of monomials and returns a dictionary\n",
    "                                # keys are ordered pairs of degrees of a monomial, entries are coefficients\n",
    "    polydict={}\n",
    "    for monom in monomslist:\n",
    "        multi=multideg(monom)\n",
    "        #print(multi)\n",
    "        d={z1:multi[0],z2:multi[1]}\n",
    "        #print(d)\n",
    "        polydict.update({multideg(monom):poly.coefficient(d)})\n",
    "    return polydict"
   ]
  },
  {
   "cell_type": "code",
   "execution_count": 3,
   "metadata": {
    "collapsed": false
   },
   "outputs": [
   ],
   "source": [
    "#inner product\n",
    "def DAIP(f,g,monomslist):\n",
    "    cfsf=coeffdict(f,monomslist)#the coefficients paired into a dictionary with the multi-indices\n",
    "    cfsg=coeffdict(g,monomslist)\n",
    "    #print(cfsf)\n",
    "    #print(cfsg)\n",
    "    pairs=list(set(cfsf.keys()).union(set(cfsg.keys()))) #pretty sure unioning them is unnecessary, but *shrug*\n",
    "    #print('pairs')\n",
    "    #print(pairs)\n",
    "    m=0; ip=0;\n",
    "    for (k,l) in pairs:\n",
    "        #print(\"\");print(\"__________\");print(\"\")\n",
    "        #print(k,l)\n",
    "        plus=(factorial(k+l))\n",
    "        #print(\"plus\",plus)\n",
    "        times=(factorial(k)*factorial(l))\n",
    "        #print(\"times\",times)\n",
    "        #print(times/plus)\n",
    "        wratio=QQ(times/plus)\n",
    "        #print(wratio)\n",
    "        term=wratio*(cfsf[pairs[m]])*(cfsg[pairs[m]])#conjugate. we'll have to find a workaround if we ever do complex coeffs\n",
    "        #print pairs[m],cfsg[pairs[m]]\n",
    "        #print \"term\", term\n",
    "        ip=ip+term\n",
    "        #print(ip)\n",
    "        m=m+1\n",
    "    return ip\n",
    "#\n",
    "#\n",
    "def DAwIP(f,g,weight,monomslist):\n",
    "    wip=DAIP(f*weight,g*weight,monomslist)\n",
    "    return wip\n",
    "def DAwproj(f,g,weight,monomslist):\n",
    "    ip=DAwIP(f,g,weight,monomslist)\n",
    "    normsquared=DAwIP(g,g,weight,monomslist)\n",
    "    proj=(ip/normsquared)*g\n",
    "    return proj"
   ]
  },
  {
   "cell_type": "code",
   "execution_count": 2,
   "metadata": {
    "collapsed": false
   },
   "outputs": [
   ],
   "source": [
    "#Gram Schmidt\n",
    "#given an ordered list of linearly independent basis vectors (monomials in this case),\n",
    "#and a list of orthogonal polynomials previously computed from the given basis vectors,\n",
    "# this returns the next one. IT DOES NOT CHANGE THE INPUTTED LISTS. (could probably write a recursive function that would be more efficient, but I'm lazy)\n",
    "def DAnextGS(basislist,OGlist,weight,monomslist):\n",
    "    error=0\n",
    "    nextbasis=basislist[len(OGlist)]\n",
    "    #print \"nextbasis=\",nextbasis\n",
    "    for phi in OGlist:\n",
    "        error=error+DAwproj(nextbasis,phi,weight,monomslist)\n",
    "        #print \"error\",error\n",
    "    PHInext=nextbasis-error\n",
    "    return PHInext\n",
    "def DA_GS_UpTo(basislist,weight,howmany,monomslist):\n",
    "    OGlist=[1]\n",
    "    for n in range(1,howmany):\n",
    "        OGlist=OGlist+[DAnextGS(basislist,OGlist,weight,monomslist)]\n",
    "    return OGlist"
   ]
  },
  {
   "cell_type": "code",
   "execution_count": 5,
   "metadata": {
    "collapsed": false
   },
   "outputs": [
    {
     "name": "stdout",
     "output_type": "stream",
     "text": [
      "[1, z1, z2, z1^2, z1*z2, z2^2, z1^3, z1^2*z2, z1*z2^2, z2^3, z1^4, z1^3*z2, z1^2*z2^2, z1*z2^3, z2^4, z1^5, z1^4*z2, z1^3*z2^2, z1^2*z2^3, z1*z2^4, z2^5, z1^6, z1^5*z2, z1^4*z2^2, z1^3*z2^3, z1^2*z2^4, z1*z2^5, z2^6, z1^7, z1^6*z2, z1^5*z2^2, z1^4*z2^3, z1^3*z2^4, z1^2*z2^5, z1*z2^6, z2^7, z1^8, z1^7*z2, z1^6*z2^2, z1^5*z2^3, z1^4*z2^4]\n",
      "   \n"
     ]
    },
    {
     "data": {
      "text/html": [
       "<html>\\[\\newcommand{\\Bold}[1]{\\mathbf{#1}}-\\frac{1}{2} \\mathit{sqrt}_{2} z_{1} - \\frac{1}{2} \\mathit{sqrt}_{2} z_{2} + 1\\]</html>"
      ],
      "text/latex": [
       "$$\\newcommand{\\Bold}[1]{\\mathbf{#1}}-\\frac{1}{2} \\mathit{sqrt}_{2} z_{1} - \\frac{1}{2} \\mathit{sqrt}_{2} z_{2} + 1$$"
      ],
      "text/plain": [
       "(-1/2*sqrt2)*z1 + (-1/2*sqrt2)*z2 + 1"
      ]
     },
     "execution_count": 5,
     "metadata": {
     },
     "output_type": "execute_result"
    },
    {
     "data": {
      "text/html": [
       "<html>\\[\\newcommand{\\Bold}[1]{\\mathbf{#1}}-\\frac{1}{4} \\mathit{sqrt}_{2} z_{1}^{3} - \\frac{3}{4} \\mathit{sqrt}_{2} z_{1}^{2} z_{2} - \\frac{3}{4} \\mathit{sqrt}_{2} z_{1} z_{2}^{2} - \\frac{1}{4} \\mathit{sqrt}_{2} z_{2}^{3} + \\frac{3}{2} z_{1}^{2} + 3 z_{1} z_{2} + \\frac{3}{2} z_{2}^{2} - \\frac{3}{2} \\mathit{sqrt}_{2} z_{1} - \\frac{3}{2} \\mathit{sqrt}_{2} z_{2} + 1\\]</html>"
      ],
      "text/latex": [
       "$$\\newcommand{\\Bold}[1]{\\mathbf{#1}}-\\frac{1}{4} \\mathit{sqrt}_{2} z_{1}^{3} - \\frac{3}{4} \\mathit{sqrt}_{2} z_{1}^{2} z_{2} - \\frac{3}{4} \\mathit{sqrt}_{2} z_{1} z_{2}^{2} - \\frac{1}{4} \\mathit{sqrt}_{2} z_{2}^{3} + \\frac{3}{2} z_{1}^{2} + 3 z_{1} z_{2} + \\frac{3}{2} z_{2}^{2} - \\frac{3}{2} \\mathit{sqrt}_{2} z_{1} - \\frac{3}{2} \\mathit{sqrt}_{2} z_{2} + 1$$"
      ],
      "text/plain": [
       "(-1/4*sqrt2)*z1^3 + (-3/4*sqrt2)*z1^2*z2 + (-3/4*sqrt2)*z1*z2^2 + (-1/4*sqrt2)*z2^3 + 3/2*z1^2 + 3*z1*z2 + 3/2*z2^2 + (-3/2*sqrt2)*z1 + (-3/2*sqrt2)*z2 + 1"
      ]
     },
     "execution_count": 5,
     "metadata": {
     },
     "output_type": "execute_result"
    }
   ],
   "source": [
    "numofmons=40\n",
    "monoms=buildmonoms(numofmons)\n",
    "print(monoms)\n",
    "S.<sqrt2> = QQ.extension(x^2 - 2)\n",
    "g=1-1/sqrt2*(z1+z2)\n",
    "print('   ')\n",
    "show(g)\n",
    "higherpowerg=g^3\n",
    "show(higherpowerg)"
   ]
  },
  {
   "cell_type": "code",
   "execution_count": 8,
   "metadata": {
    "collapsed": false
   },
   "outputs": [
    {
     "data": {
      "text/html": [
       "<html>\\[\\newcommand{\\Bold}[1]{\\mathbf{#1}}1\\]</html>"
      ],
      "text/latex": [
       "$$\\newcommand{\\Bold}[1]{\\mathbf{#1}}1$$"
      ],
      "text/plain": [
       "1"
      ]
     },
     "execution_count": 8,
     "metadata": {
     },
     "output_type": "execute_result"
    },
    {
     "data": {
      "text/html": [
       "<html>\\[\\newcommand{\\Bold}[1]{\\mathbf{#1}}z_{1} + \\frac{3}{8} \\mathit{sqrt}_{2}\\]</html>"
      ],
      "text/latex": [
       "$$\\newcommand{\\Bold}[1]{\\mathbf{#1}}z_{1} + \\frac{3}{8} \\mathit{sqrt}_{2}$$"
      ],
      "text/plain": [
       "z1 + (3/8*sqrt2)"
      ]
     },
     "execution_count": 8,
     "metadata": {
     },
     "output_type": "execute_result"
    },
    {
     "data": {
      "text/html": [
       "<html>\\[\\newcommand{\\Bold}[1]{\\mathbf{#1}}z_{2} + \\frac{3}{8} \\mathit{sqrt}_{2}\\]</html>"
      ],
      "text/latex": [
       "$$\\newcommand{\\Bold}[1]{\\mathbf{#1}}z_{2} + \\frac{3}{8} \\mathit{sqrt}_{2}$$"
      ],
      "text/plain": [
       "z2 + (3/8*sqrt2)"
      ]
     },
     "execution_count": 8,
     "metadata": {
     },
     "output_type": "execute_result"
    },
    {
     "data": {
      "text/html": [
       "<html>\\[\\newcommand{\\Bold}[1]{\\mathbf{#1}}z_{1}^{2} + \\frac{3}{5} \\mathit{sqrt}_{2} z_{1} + \\frac{3}{10}\\]</html>"
      ],
      "text/latex": [
       "$$\\newcommand{\\Bold}[1]{\\mathbf{#1}}z_{1}^{2} + \\frac{3}{5} \\mathit{sqrt}_{2} z_{1} + \\frac{3}{10}$$"
      ],
      "text/plain": [
       "z1^2 + (3/5*sqrt2)*z1 + 3/10"
      ]
     },
     "execution_count": 8,
     "metadata": {
     },
     "output_type": "execute_result"
    },
    {
     "data": {
      "text/html": [
       "<html>\\[\\newcommand{\\Bold}[1]{\\mathbf{#1}}z_{1} z_{2} + \\frac{3}{10} \\mathit{sqrt}_{2} z_{1} + \\frac{3}{10} \\mathit{sqrt}_{2} z_{2} + \\frac{3}{10}\\]</html>"
      ],
      "text/latex": [
       "$$\\newcommand{\\Bold}[1]{\\mathbf{#1}}z_{1} z_{2} + \\frac{3}{10} \\mathit{sqrt}_{2} z_{1} + \\frac{3}{10} \\mathit{sqrt}_{2} z_{2} + \\frac{3}{10}$$"
      ],
      "text/plain": [
       "z1*z2 + (3/10*sqrt2)*z1 + (3/10*sqrt2)*z2 + 3/10"
      ]
     },
     "execution_count": 8,
     "metadata": {
     },
     "output_type": "execute_result"
    },
    {
     "data": {
      "text/html": [
       "<html>\\[\\newcommand{\\Bold}[1]{\\mathbf{#1}}z_{2}^{2} + \\frac{3}{5} \\mathit{sqrt}_{2} z_{2} + \\frac{3}{10}\\]</html>"
      ],
      "text/latex": [
       "$$\\newcommand{\\Bold}[1]{\\mathbf{#1}}z_{2}^{2} + \\frac{3}{5} \\mathit{sqrt}_{2} z_{2} + \\frac{3}{10}$$"
      ],
      "text/plain": [
       "z2^2 + (3/5*sqrt2)*z2 + 3/10"
      ]
     },
     "execution_count": 8,
     "metadata": {
     },
     "output_type": "execute_result"
    },
    {
     "data": {
      "text/html": [
       "<html>\\[\\newcommand{\\Bold}[1]{\\mathbf{#1}}z_{1}^{3} + \\frac{3}{4} \\mathit{sqrt}_{2} z_{1}^{2} + \\frac{3}{5} z_{1} + \\frac{1}{8} \\mathit{sqrt}_{2}\\]</html>"
      ],
      "text/latex": [
       "$$\\newcommand{\\Bold}[1]{\\mathbf{#1}}z_{1}^{3} + \\frac{3}{4} \\mathit{sqrt}_{2} z_{1}^{2} + \\frac{3}{5} z_{1} + \\frac{1}{8} \\mathit{sqrt}_{2}$$"
      ],
      "text/plain": [
       "z1^3 + (3/4*sqrt2)*z1^2 + 3/5*z1 + (1/8*sqrt2)"
      ]
     },
     "execution_count": 8,
     "metadata": {
     },
     "output_type": "execute_result"
    },
    {
     "data": {
      "text/html": [
       "<html>\\[\\newcommand{\\Bold}[1]{\\mathbf{#1}}z_{1}^{2} z_{2} + \\frac{1}{4} \\mathit{sqrt}_{2} z_{1}^{2} + \\frac{1}{2} \\mathit{sqrt}_{2} z_{1} z_{2} + \\frac{2}{5} z_{1} + \\frac{1}{5} z_{2} + \\frac{1}{8} \\mathit{sqrt}_{2}\\]</html>"
      ],
      "text/latex": [
       "$$\\newcommand{\\Bold}[1]{\\mathbf{#1}}z_{1}^{2} z_{2} + \\frac{1}{4} \\mathit{sqrt}_{2} z_{1}^{2} + \\frac{1}{2} \\mathit{sqrt}_{2} z_{1} z_{2} + \\frac{2}{5} z_{1} + \\frac{1}{5} z_{2} + \\frac{1}{8} \\mathit{sqrt}_{2}$$"
      ],
      "text/plain": [
       "z1^2*z2 + (1/4*sqrt2)*z1^2 + (1/2*sqrt2)*z1*z2 + 2/5*z1 + 1/5*z2 + (1/8*sqrt2)"
      ]
     },
     "execution_count": 8,
     "metadata": {
     },
     "output_type": "execute_result"
    },
    {
     "data": {
      "text/html": [
       "<html>\\[\\newcommand{\\Bold}[1]{\\mathbf{#1}}z_{1} z_{2}^{2} + \\frac{1}{2} \\mathit{sqrt}_{2} z_{1} z_{2} + \\frac{1}{4} \\mathit{sqrt}_{2} z_{2}^{2} + \\frac{1}{5} z_{1} + \\frac{2}{5} z_{2} + \\frac{1}{8} \\mathit{sqrt}_{2}\\]</html>"
      ],
      "text/latex": [
       "$$\\newcommand{\\Bold}[1]{\\mathbf{#1}}z_{1} z_{2}^{2} + \\frac{1}{2} \\mathit{sqrt}_{2} z_{1} z_{2} + \\frac{1}{4} \\mathit{sqrt}_{2} z_{2}^{2} + \\frac{1}{5} z_{1} + \\frac{2}{5} z_{2} + \\frac{1}{8} \\mathit{sqrt}_{2}$$"
      ],
      "text/plain": [
       "z1*z2^2 + (1/2*sqrt2)*z1*z2 + (1/4*sqrt2)*z2^2 + 1/5*z1 + 2/5*z2 + (1/8*sqrt2)"
      ]
     },
     "execution_count": 8,
     "metadata": {
     },
     "output_type": "execute_result"
    },
    {
     "data": {
      "text/html": [
       "<html>\\[\\newcommand{\\Bold}[1]{\\mathbf{#1}}z_{2}^{3} + \\frac{3}{4} \\mathit{sqrt}_{2} z_{2}^{2} + \\frac{3}{5} z_{2} + \\frac{1}{8} \\mathit{sqrt}_{2}\\]</html>"
      ],
      "text/latex": [
       "$$\\newcommand{\\Bold}[1]{\\mathbf{#1}}z_{2}^{3} + \\frac{3}{4} \\mathit{sqrt}_{2} z_{2}^{2} + \\frac{3}{5} z_{2} + \\frac{1}{8} \\mathit{sqrt}_{2}$$"
      ],
      "text/plain": [
       "z2^3 + (3/4*sqrt2)*z2^2 + 3/5*z2 + (1/8*sqrt2)"
      ]
     },
     "execution_count": 8,
     "metadata": {
     },
     "output_type": "execute_result"
    },
    {
     "data": {
      "text/html": [
       "<html>\\[\\newcommand{\\Bold}[1]{\\mathbf{#1}}z_{1}^{4} + \\frac{6}{7} \\mathit{sqrt}_{2} z_{1}^{3} + \\frac{6}{7} z_{1}^{2} + \\frac{2}{7} \\mathit{sqrt}_{2} z_{1} + \\frac{3}{28}\\]</html>"
      ],
      "text/latex": [
       "$$\\newcommand{\\Bold}[1]{\\mathbf{#1}}z_{1}^{4} + \\frac{6}{7} \\mathit{sqrt}_{2} z_{1}^{3} + \\frac{6}{7} z_{1}^{2} + \\frac{2}{7} \\mathit{sqrt}_{2} z_{1} + \\frac{3}{28}$$"
      ],
      "text/plain": [
       "z1^4 + (6/7*sqrt2)*z1^3 + 6/7*z1^2 + (2/7*sqrt2)*z1 + 3/28"
      ]
     },
     "execution_count": 8,
     "metadata": {
     },
     "output_type": "execute_result"
    },
    {
     "data": {
      "text/html": [
       "<html>\\[\\newcommand{\\Bold}[1]{\\mathbf{#1}}z_{1}^{3} z_{2} + \\frac{3}{14} \\mathit{sqrt}_{2} z_{1}^{3} + \\frac{9}{14} \\mathit{sqrt}_{2} z_{1}^{2} z_{2} + \\frac{3}{7} z_{1}^{2} + \\frac{3}{7} z_{1} z_{2} + \\frac{3}{14} \\mathit{sqrt}_{2} z_{1} + \\frac{1}{14} \\mathit{sqrt}_{2} z_{2} + \\frac{3}{28}\\]</html>"
      ],
      "text/latex": [
       "$$\\newcommand{\\Bold}[1]{\\mathbf{#1}}z_{1}^{3} z_{2} + \\frac{3}{14} \\mathit{sqrt}_{2} z_{1}^{3} + \\frac{9}{14} \\mathit{sqrt}_{2} z_{1}^{2} z_{2} + \\frac{3}{7} z_{1}^{2} + \\frac{3}{7} z_{1} z_{2} + \\frac{3}{14} \\mathit{sqrt}_{2} z_{1} + \\frac{1}{14} \\mathit{sqrt}_{2} z_{2} + \\frac{3}{28}$$"
      ],
      "text/plain": [
       "z1^3*z2 + (3/14*sqrt2)*z1^3 + (9/14*sqrt2)*z1^2*z2 + 3/7*z1^2 + 3/7*z1*z2 + (3/14*sqrt2)*z1 + (1/14*sqrt2)*z2 + 3/28"
      ]
     },
     "execution_count": 8,
     "metadata": {
     },
     "output_type": "execute_result"
    },
    {
     "data": {
      "text/html": [
       "<html>\\[\\newcommand{\\Bold}[1]{\\mathbf{#1}}z_{1}^{2} z_{2}^{2} + \\frac{3}{7} \\mathit{sqrt}_{2} z_{1}^{2} z_{2} + \\frac{3}{7} \\mathit{sqrt}_{2} z_{1} z_{2}^{2} + \\frac{1}{7} z_{1}^{2} + \\frac{4}{7} z_{1} z_{2} + \\frac{1}{7} z_{2}^{2} + \\frac{1}{7} \\mathit{sqrt}_{2} z_{1} + \\frac{1}{7} \\mathit{sqrt}_{2} z_{2} + \\frac{3}{28}\\]</html>"
      ],
      "text/latex": [
       "$$\\newcommand{\\Bold}[1]{\\mathbf{#1}}z_{1}^{2} z_{2}^{2} + \\frac{3}{7} \\mathit{sqrt}_{2} z_{1}^{2} z_{2} + \\frac{3}{7} \\mathit{sqrt}_{2} z_{1} z_{2}^{2} + \\frac{1}{7} z_{1}^{2} + \\frac{4}{7} z_{1} z_{2} + \\frac{1}{7} z_{2}^{2} + \\frac{1}{7} \\mathit{sqrt}_{2} z_{1} + \\frac{1}{7} \\mathit{sqrt}_{2} z_{2} + \\frac{3}{28}$$"
      ],
      "text/plain": [
       "z1^2*z2^2 + (3/7*sqrt2)*z1^2*z2 + (3/7*sqrt2)*z1*z2^2 + 1/7*z1^2 + 4/7*z1*z2 + 1/7*z2^2 + (1/7*sqrt2)*z1 + (1/7*sqrt2)*z2 + 3/28"
      ]
     },
     "execution_count": 8,
     "metadata": {
     },
     "output_type": "execute_result"
    },
    {
     "data": {
      "text/html": [
       "<html>\\[\\newcommand{\\Bold}[1]{\\mathbf{#1}}z_{1} z_{2}^{3} + \\frac{9}{14} \\mathit{sqrt}_{2} z_{1} z_{2}^{2} + \\frac{3}{14} \\mathit{sqrt}_{2} z_{2}^{3} + \\frac{3}{7} z_{1} z_{2} + \\frac{3}{7} z_{2}^{2} + \\frac{1}{14} \\mathit{sqrt}_{2} z_{1} + \\frac{3}{14} \\mathit{sqrt}_{2} z_{2} + \\frac{3}{28}\\]</html>"
      ],
      "text/latex": [
       "$$\\newcommand{\\Bold}[1]{\\mathbf{#1}}z_{1} z_{2}^{3} + \\frac{9}{14} \\mathit{sqrt}_{2} z_{1} z_{2}^{2} + \\frac{3}{14} \\mathit{sqrt}_{2} z_{2}^{3} + \\frac{3}{7} z_{1} z_{2} + \\frac{3}{7} z_{2}^{2} + \\frac{1}{14} \\mathit{sqrt}_{2} z_{1} + \\frac{3}{14} \\mathit{sqrt}_{2} z_{2} + \\frac{3}{28}$$"
      ],
      "text/plain": [
       "z1*z2^3 + (9/14*sqrt2)*z1*z2^2 + (3/14*sqrt2)*z2^3 + 3/7*z1*z2 + 3/7*z2^2 + (1/14*sqrt2)*z1 + (3/14*sqrt2)*z2 + 3/28"
      ]
     },
     "execution_count": 8,
     "metadata": {
     },
     "output_type": "execute_result"
    },
    {
     "data": {
      "text/html": [
       "<html>\\[\\newcommand{\\Bold}[1]{\\mathbf{#1}}z_{2}^{4} + \\frac{6}{7} \\mathit{sqrt}_{2} z_{2}^{3} + \\frac{6}{7} z_{2}^{2} + \\frac{2}{7} \\mathit{sqrt}_{2} z_{2} + \\frac{3}{28}\\]</html>"
      ],
      "text/latex": [
       "$$\\newcommand{\\Bold}[1]{\\mathbf{#1}}z_{2}^{4} + \\frac{6}{7} \\mathit{sqrt}_{2} z_{2}^{3} + \\frac{6}{7} z_{2}^{2} + \\frac{2}{7} \\mathit{sqrt}_{2} z_{2} + \\frac{3}{28}$$"
      ],
      "text/plain": [
       "z2^4 + (6/7*sqrt2)*z2^3 + 6/7*z2^2 + (2/7*sqrt2)*z2 + 3/28"
      ]
     },
     "execution_count": 8,
     "metadata": {
     },
     "output_type": "execute_result"
    },
    {
     "data": {
      "text/html": [
       "<html>\\[\\newcommand{\\Bold}[1]{\\mathbf{#1}}z_{1}^{5} + \\frac{15}{16} \\mathit{sqrt}_{2} z_{1}^{4} + \\frac{15}{14} z_{1}^{3} + \\frac{25}{56} \\mathit{sqrt}_{2} z_{1}^{2} + \\frac{15}{56} z_{1} + \\frac{3}{64} \\mathit{sqrt}_{2}\\]</html>"
      ],
      "text/latex": [
       "$$\\newcommand{\\Bold}[1]{\\mathbf{#1}}z_{1}^{5} + \\frac{15}{16} \\mathit{sqrt}_{2} z_{1}^{4} + \\frac{15}{14} z_{1}^{3} + \\frac{25}{56} \\mathit{sqrt}_{2} z_{1}^{2} + \\frac{15}{56} z_{1} + \\frac{3}{64} \\mathit{sqrt}_{2}$$"
      ],
      "text/plain": [
       "z1^5 + (15/16*sqrt2)*z1^4 + 15/14*z1^3 + (25/56*sqrt2)*z1^2 + 15/56*z1 + (3/64*sqrt2)"
      ]
     },
     "execution_count": 8,
     "metadata": {
     },
     "output_type": "execute_result"
    },
    {
     "data": {
      "text/html": [
       "<html>\\[\\newcommand{\\Bold}[1]{\\mathbf{#1}}z_{1}^{4} z_{2} + \\frac{3}{16} \\mathit{sqrt}_{2} z_{1}^{4} + \\frac{3}{4} \\mathit{sqrt}_{2} z_{1}^{3} z_{2} + \\frac{3}{7} z_{1}^{3} + \\frac{9}{14} z_{1}^{2} z_{2} + \\frac{15}{56} \\mathit{sqrt}_{2} z_{1}^{2} + \\frac{5}{28} \\mathit{sqrt}_{2} z_{1} z_{2} + \\frac{3}{14} z_{1} + \\frac{3}{56} z_{2} + \\frac{3}{64} \\mathit{sqrt}_{2}\\]</html>"
      ],
      "text/latex": [
       "$$\\newcommand{\\Bold}[1]{\\mathbf{#1}}z_{1}^{4} z_{2} + \\frac{3}{16} \\mathit{sqrt}_{2} z_{1}^{4} + \\frac{3}{4} \\mathit{sqrt}_{2} z_{1}^{3} z_{2} + \\frac{3}{7} z_{1}^{3} + \\frac{9}{14} z_{1}^{2} z_{2} + \\frac{15}{56} \\mathit{sqrt}_{2} z_{1}^{2} + \\frac{5}{28} \\mathit{sqrt}_{2} z_{1} z_{2} + \\frac{3}{14} z_{1} + \\frac{3}{56} z_{2} + \\frac{3}{64} \\mathit{sqrt}_{2}$$"
      ],
      "text/plain": [
       "z1^4*z2 + (3/16*sqrt2)*z1^4 + (3/4*sqrt2)*z1^3*z2 + 3/7*z1^3 + 9/14*z1^2*z2 + (15/56*sqrt2)*z1^2 + (5/28*sqrt2)*z1*z2 + 3/14*z1 + 3/56*z2 + (3/64*sqrt2)"
      ]
     },
     "execution_count": 8,
     "metadata": {
     },
     "output_type": "execute_result"
    },
    {
     "data": {
      "text/html": [
       "<html>\\[\\newcommand{\\Bold}[1]{\\mathbf{#1}}z_{1}^{3} z_{2}^{2} + \\frac{3}{8} \\mathit{sqrt}_{2} z_{1}^{3} z_{2} + \\frac{9}{16} \\mathit{sqrt}_{2} z_{1}^{2} z_{2}^{2} + \\frac{3}{28} z_{1}^{3} + \\frac{9}{14} z_{1}^{2} z_{2} + \\frac{9}{28} z_{1} z_{2}^{2} + \\frac{15}{112} \\mathit{sqrt}_{2} z_{1}^{2} + \\frac{15}{56} \\mathit{sqrt}_{2} z_{1} z_{2} + \\frac{5}{112} \\mathit{sqrt}_{2} z_{2}^{2} + \\frac{9}{56} z_{1} + \\frac{3}{28} z_{2} + \\frac{3}{64} \\mathit{sqrt}_{2}\\]</html>"
      ],
      "text/latex": [
       "$$\\newcommand{\\Bold}[1]{\\mathbf{#1}}z_{1}^{3} z_{2}^{2} + \\frac{3}{8} \\mathit{sqrt}_{2} z_{1}^{3} z_{2} + \\frac{9}{16} \\mathit{sqrt}_{2} z_{1}^{2} z_{2}^{2} + \\frac{3}{28} z_{1}^{3} + \\frac{9}{14} z_{1}^{2} z_{2} + \\frac{9}{28} z_{1} z_{2}^{2} + \\frac{15}{112} \\mathit{sqrt}_{2} z_{1}^{2} + \\frac{15}{56} \\mathit{sqrt}_{2} z_{1} z_{2} + \\frac{5}{112} \\mathit{sqrt}_{2} z_{2}^{2} + \\frac{9}{56} z_{1} + \\frac{3}{28} z_{2} + \\frac{3}{64} \\mathit{sqrt}_{2}$$"
      ],
      "text/plain": [
       "z1^3*z2^2 + (3/8*sqrt2)*z1^3*z2 + (9/16*sqrt2)*z1^2*z2^2 + 3/28*z1^3 + 9/14*z1^2*z2 + 9/28*z1*z2^2 + (15/112*sqrt2)*z1^2 + (15/56*sqrt2)*z1*z2 + (5/112*sqrt2)*z2^2 + 9/56*z1 + 3/28*z2 + (3/64*sqrt2)"
      ]
     },
     "execution_count": 8,
     "metadata": {
     },
     "output_type": "execute_result"
    },
    {
     "data": {
      "text/html": [
       "<html>\\[\\newcommand{\\Bold}[1]{\\mathbf{#1}}\\frac{3}{131} z_{1}^{3} z_{2}^{2} + z_{1}^{2} z_{2}^{3} + \\frac{9}{1048} \\mathit{sqrt}_{2} z_{1}^{3} z_{2} + \\frac{603}{1048} \\mathit{sqrt}_{2} z_{1}^{2} z_{2}^{2} + \\frac{3}{8} \\mathit{sqrt}_{2} z_{1} z_{2}^{3} + \\frac{9}{3668} z_{1}^{3} + \\frac{1233}{3668} z_{1}^{2} z_{2} + \\frac{2385}{3668} z_{1} z_{2}^{2} + \\frac{3}{28} z_{2}^{3} + \\frac{25}{524} \\mathit{sqrt}_{2} z_{1}^{2} + \\frac{1005}{3668} \\mathit{sqrt}_{2} z_{1} z_{2} + \\frac{495}{3668} \\mathit{sqrt}_{2} z_{2}^{2} + \\frac{813}{7336} z_{1} + \\frac{171}{1048} z_{2} + \\frac{201}{4192} \\mathit{sqrt}_{2}\\]</html>"
      ],
      "text/latex": [
       "$$\\newcommand{\\Bold}[1]{\\mathbf{#1}}\\frac{3}{131} z_{1}^{3} z_{2}^{2} + z_{1}^{2} z_{2}^{3} + \\frac{9}{1048} \\mathit{sqrt}_{2} z_{1}^{3} z_{2} + \\frac{603}{1048} \\mathit{sqrt}_{2} z_{1}^{2} z_{2}^{2} + \\frac{3}{8} \\mathit{sqrt}_{2} z_{1} z_{2}^{3} + \\frac{9}{3668} z_{1}^{3} + \\frac{1233}{3668} z_{1}^{2} z_{2} + \\frac{2385}{3668} z_{1} z_{2}^{2} + \\frac{3}{28} z_{2}^{3} + \\frac{25}{524} \\mathit{sqrt}_{2} z_{1}^{2} + \\frac{1005}{3668} \\mathit{sqrt}_{2} z_{1} z_{2} + \\frac{495}{3668} \\mathit{sqrt}_{2} z_{2}^{2} + \\frac{813}{7336} z_{1} + \\frac{171}{1048} z_{2} + \\frac{201}{4192} \\mathit{sqrt}_{2}$$"
      ],
      "text/plain": [
       "3/131*z1^3*z2^2 + z1^2*z2^3 + (9/1048*sqrt2)*z1^3*z2 + (603/1048*sqrt2)*z1^2*z2^2 + (3/8*sqrt2)*z1*z2^3 + 9/3668*z1^3 + 1233/3668*z1^2*z2 + 2385/3668*z1*z2^2 + 3/28*z2^3 + (25/524*sqrt2)*z1^2 + (1005/3668*sqrt2)*z1*z2 + (495/3668*sqrt2)*z2^2 + 813/7336*z1 + 171/1048*z2 + (201/4192*sqrt2)"
      ]
     },
     "execution_count": 8,
     "metadata": {
     },
     "output_type": "execute_result"
    },
    {
     "data": {
      "text/html": [
       "<html>\\[\\newcommand{\\Bold}[1]{\\mathbf{#1}}\\frac{204}{7921} z_{1}^{3} z_{2}^{2} + \\frac{987}{7921} z_{1}^{2} z_{2}^{3} + z_{1} z_{2}^{4} + \\frac{153}{15842} \\mathit{sqrt}_{2} z_{1}^{3} z_{2} + \\frac{10719}{126736} \\mathit{sqrt}_{2} z_{1}^{2} z_{2}^{2} + \\frac{50487}{63368} \\mathit{sqrt}_{2} z_{1} z_{2}^{3} + \\frac{3}{16} \\mathit{sqrt}_{2} z_{2}^{4} + \\frac{153}{55447} z_{1}^{3} + \\frac{12555}{221788} z_{1}^{2} z_{2} + \\frac{40545}{55447} z_{1} z_{2}^{2} + \\frac{98013}{221788} z_{2}^{3} + \\frac{7995}{887152} \\mathit{sqrt}_{2} z_{1}^{2} + \\frac{97075}{443576} \\mathit{sqrt}_{2} z_{1} z_{2} + \\frac{253455}{887152} \\mathit{sqrt}_{2} z_{2}^{2} + \\frac{4503}{63368} z_{1} + \\frac{105159}{443576} z_{2} + \\frac{3417}{63368} \\mathit{sqrt}_{2}\\]</html>"
      ],
      "text/latex": [
       "$$\\newcommand{\\Bold}[1]{\\mathbf{#1}}\\frac{204}{7921} z_{1}^{3} z_{2}^{2} + \\frac{987}{7921} z_{1}^{2} z_{2}^{3} + z_{1} z_{2}^{4} + \\frac{153}{15842} \\mathit{sqrt}_{2} z_{1}^{3} z_{2} + \\frac{10719}{126736} \\mathit{sqrt}_{2} z_{1}^{2} z_{2}^{2} + \\frac{50487}{63368} \\mathit{sqrt}_{2} z_{1} z_{2}^{3} + \\frac{3}{16} \\mathit{sqrt}_{2} z_{2}^{4} + \\frac{153}{55447} z_{1}^{3} + \\frac{12555}{221788} z_{1}^{2} z_{2} + \\frac{40545}{55447} z_{1} z_{2}^{2} + \\frac{98013}{221788} z_{2}^{3} + \\frac{7995}{887152} \\mathit{sqrt}_{2} z_{1}^{2} + \\frac{97075}{443576} \\mathit{sqrt}_{2} z_{1} z_{2} + \\frac{253455}{887152} \\mathit{sqrt}_{2} z_{2}^{2} + \\frac{4503}{63368} z_{1} + \\frac{105159}{443576} z_{2} + \\frac{3417}{63368} \\mathit{sqrt}_{2}$$"
      ],
      "text/plain": [
       "204/7921*z1^3*z2^2 + 987/7921*z1^2*z2^3 + z1*z2^4 + (153/15842*sqrt2)*z1^3*z2 + (10719/126736*sqrt2)*z1^2*z2^2 + (50487/63368*sqrt2)*z1*z2^3 + (3/16*sqrt2)*z2^4 + 153/55447*z1^3 + 12555/221788*z1^2*z2 + 40545/55447*z1*z2^2 + 98013/221788*z2^3 + (7995/887152*sqrt2)*z1^2 + (97075/443576*sqrt2)*z1*z2 + (253455/887152*sqrt2)*z2^2 + 4503/63368*z1 + 105159/443576*z2 + (3417/63368*sqrt2)"
      ]
     },
     "execution_count": 8,
     "metadata": {
     },
     "output_type": "execute_result"
    },
    {
     "data": {
      "text/html": [
       "<html>\\[\\newcommand{\\Bold}[1]{\\mathbf{#1}}\\frac{25678}{1806413} z_{1}^{3} z_{2}^{2} + \\frac{25338}{258059} z_{1}^{2} z_{2}^{3} + \\frac{341769}{1806413} z_{1} z_{2}^{4} + z_{2}^{5} + \\frac{38517}{7225652} \\mathit{sqrt}_{2} z_{1}^{3} z_{2} + \\frac{456849}{7225652} \\mathit{sqrt}_{2} z_{1}^{2} z_{2}^{2} + \\frac{322839}{1806413} \\mathit{sqrt}_{2} z_{1} z_{2}^{3} + \\frac{14060751}{14451304} \\mathit{sqrt}_{2} z_{2}^{4} + \\frac{38517}{25289782} z_{1}^{3} + \\frac{1029249}{25289782} z_{1}^{2} z_{2} + \\frac{2393883}{12644891} z_{1} z_{2}^{2} + \\frac{14706429}{12644891} z_{2}^{3} + \\frac{79500}{12644891} \\mathit{sqrt}_{2} z_{1}^{2} + \\frac{3231675}{50579564} \\mathit{sqrt}_{2} z_{1} z_{2} + \\frac{12920325}{25289782} \\mathit{sqrt}_{2} z_{2}^{2} + \\frac{331515}{14451304} z_{1} + \\frac{32947785}{101159128} z_{2} + \\frac{3526839}{57805216} \\mathit{sqrt}_{2}\\]</html>"
      ],
      "text/latex": [
       "$$\\newcommand{\\Bold}[1]{\\mathbf{#1}}\\frac{25678}{1806413} z_{1}^{3} z_{2}^{2} + \\frac{25338}{258059} z_{1}^{2} z_{2}^{3} + \\frac{341769}{1806413} z_{1} z_{2}^{4} + z_{2}^{5} + \\frac{38517}{7225652} \\mathit{sqrt}_{2} z_{1}^{3} z_{2} + \\frac{456849}{7225652} \\mathit{sqrt}_{2} z_{1}^{2} z_{2}^{2} + \\frac{322839}{1806413} \\mathit{sqrt}_{2} z_{1} z_{2}^{3} + \\frac{14060751}{14451304} \\mathit{sqrt}_{2} z_{2}^{4} + \\frac{38517}{25289782} z_{1}^{3} + \\frac{1029249}{25289782} z_{1}^{2} z_{2} + \\frac{2393883}{12644891} z_{1} z_{2}^{2} + \\frac{14706429}{12644891} z_{2}^{3} + \\frac{79500}{12644891} \\mathit{sqrt}_{2} z_{1}^{2} + \\frac{3231675}{50579564} \\mathit{sqrt}_{2} z_{1} z_{2} + \\frac{12920325}{25289782} \\mathit{sqrt}_{2} z_{2}^{2} + \\frac{331515}{14451304} z_{1} + \\frac{32947785}{101159128} z_{2} + \\frac{3526839}{57805216} \\mathit{sqrt}_{2}$$"
      ],
      "text/plain": [
       "25678/1806413*z1^3*z2^2 + 25338/258059*z1^2*z2^3 + 341769/1806413*z1*z2^4 + z2^5 + (38517/7225652*sqrt2)*z1^3*z2 + (456849/7225652*sqrt2)*z1^2*z2^2 + (322839/1806413*sqrt2)*z1*z2^3 + (14060751/14451304*sqrt2)*z2^4 + 38517/25289782*z1^3 + 1029249/25289782*z1^2*z2 + 2393883/12644891*z1*z2^2 + 14706429/12644891*z2^3 + (79500/12644891*sqrt2)*z1^2 + (3231675/50579564*sqrt2)*z1*z2 + (12920325/25289782*sqrt2)*z2^2 + 331515/14451304*z1 + 32947785/101159128*z2 + (3526839/57805216*sqrt2)"
      ]
     },
     "execution_count": 8,
     "metadata": {
     },
     "output_type": "execute_result"
    },
    {
     "data": {
      "text/html": [
       "<html>\\[\\newcommand{\\Bold}[1]{\\mathbf{#1}}z_{1}^{6} + \\mathit{sqrt}_{2} z_{1}^{5} + \\frac{5}{4} z_{1}^{4} + \\frac{25}{42} \\mathit{sqrt}_{2} z_{1}^{3} + \\frac{25}{56} z_{1}^{2} + \\frac{1}{8} \\mathit{sqrt}_{2} z_{1} + \\frac{1}{24}\\]</html>"
      ],
      "text/latex": [
       "$$\\newcommand{\\Bold}[1]{\\mathbf{#1}}z_{1}^{6} + \\mathit{sqrt}_{2} z_{1}^{5} + \\frac{5}{4} z_{1}^{4} + \\frac{25}{42} \\mathit{sqrt}_{2} z_{1}^{3} + \\frac{25}{56} z_{1}^{2} + \\frac{1}{8} \\mathit{sqrt}_{2} z_{1} + \\frac{1}{24}$$"
      ],
      "text/plain": [
       "z1^6 + (sqrt2)*z1^5 + 5/4*z1^4 + (25/42*sqrt2)*z1^3 + 25/56*z1^2 + (1/8*sqrt2)*z1 + 1/24"
      ]
     },
     "execution_count": 8,
     "metadata": {
     },
     "output_type": "execute_result"
    },
    {
     "data": {
      "text/html": [
       "<html>\\[\\newcommand{\\Bold}[1]{\\mathbf{#1}}\\frac{26}{785} z_{1}^{6} + z_{1}^{5} z_{2} + \\frac{941}{4710} \\mathit{sqrt}_{2} z_{1}^{5} + \\frac{5}{6} \\mathit{sqrt}_{2} z_{1}^{4} z_{2} + \\frac{863}{1884} z_{1}^{4} + \\frac{5}{6} z_{1}^{3} z_{2} + \\frac{1395}{4396} \\mathit{sqrt}_{2} z_{1}^{3} + \\frac{25}{84} \\mathit{sqrt}_{2} z_{1}^{2} z_{2} + \\frac{1030}{3297} z_{1}^{2} + \\frac{25}{168} z_{1} z_{2} + \\frac{4081}{37680} \\mathit{sqrt}_{2} z_{1} + \\frac{1}{48} \\mathit{sqrt}_{2} z_{2} + \\frac{811}{18840}\\]</html>"
      ],
      "text/latex": [
       "$$\\newcommand{\\Bold}[1]{\\mathbf{#1}}\\frac{26}{785} z_{1}^{6} + z_{1}^{5} z_{2} + \\frac{941}{4710} \\mathit{sqrt}_{2} z_{1}^{5} + \\frac{5}{6} \\mathit{sqrt}_{2} z_{1}^{4} z_{2} + \\frac{863}{1884} z_{1}^{4} + \\frac{5}{6} z_{1}^{3} z_{2} + \\frac{1395}{4396} \\mathit{sqrt}_{2} z_{1}^{3} + \\frac{25}{84} \\mathit{sqrt}_{2} z_{1}^{2} z_{2} + \\frac{1030}{3297} z_{1}^{2} + \\frac{25}{168} z_{1} z_{2} + \\frac{4081}{37680} \\mathit{sqrt}_{2} z_{1} + \\frac{1}{48} \\mathit{sqrt}_{2} z_{2} + \\frac{811}{18840}$$"
      ],
      "text/plain": [
       "26/785*z1^6 + z1^5*z2 + (941/4710*sqrt2)*z1^5 + (5/6*sqrt2)*z1^4*z2 + 863/1884*z1^4 + 5/6*z1^3*z2 + (1395/4396*sqrt2)*z1^3 + (25/84*sqrt2)*z1^2*z2 + 1030/3297*z1^2 + 25/168*z1*z2 + (4081/37680*sqrt2)*z1 + (1/48*sqrt2)*z2 + 811/18840"
      ]
     },
     "execution_count": 8,
     "metadata": {
     },
     "output_type": "execute_result"
    },
    {
     "data": {
      "text/html": [
       "<html>\\[\\newcommand{\\Bold}[1]{\\mathbf{#1}}\\frac{1301}{148136} z_{1}^{6} + \\frac{21585}{296272} z_{1}^{5} z_{2} + z_{1}^{4} z_{2}^{2} + \\frac{12399}{592544} \\mathit{sqrt}_{2} z_{1}^{5} + \\frac{700469}{1777632} \\mathit{sqrt}_{2} z_{1}^{4} z_{2} + \\frac{178121328}{264900487} \\mathit{sqrt}_{2} z_{1}^{3} z_{2}^{2} + \\frac{4770216}{264900487} \\mathit{sqrt}_{2} z_{1}^{2} z_{2}^{3} + \\frac{2686002}{264900487} \\mathit{sqrt}_{2} z_{1} z_{2}^{4} + \\frac{282458}{264900487} \\mathit{sqrt}_{2} z_{2}^{5} + \\frac{443227}{3555264} z_{1}^{4} + \\frac{344547611545411}{470895582506784} z_{1}^{3} z_{2} + \\frac{558111461}{1059601948} z_{1}^{2} z_{2}^{2} + \\frac{7606665}{264900487} z_{1} z_{2}^{3} + \\frac{3073719}{529800974} z_{2}^{4} + \\frac{322097375265625}{2197512718364992} \\mathit{sqrt}_{2} z_{1}^{3} + \\frac{853305831448853}{2197512718364992} \\mathit{sqrt}_{2} z_{1}^{2} z_{2} + \\frac{773176933}{5562910227} \\mathit{sqrt}_{2} z_{1} z_{2}^{2} + \\frac{13754103}{1854303409} \\mathit{sqrt}_{2} z_{2}^{3} + \\frac{28474423918425}{137344544897812} z_{1}^{2} + \\frac{3497750131837855}{13185076310189952} z_{1} z_{2} + \\frac{1846086085}{44503281816} z_{2}^{2} + \\frac{359446308193207}{3767164660054272} \\mathit{sqrt}_{2} z_{1} + \\frac{185164239129431}{3767164660054272} \\mathit{sqrt}_{2} z_{2} + \\frac{2937495436235}{60760720323456}\\]</html>"
      ],
      "text/latex": [
       "$$\\newcommand{\\Bold}[1]{\\mathbf{#1}}\\frac{1301}{148136} z_{1}^{6} + \\frac{21585}{296272} z_{1}^{5} z_{2} + z_{1}^{4} z_{2}^{2} + \\frac{12399}{592544} \\mathit{sqrt}_{2} z_{1}^{5} + \\frac{700469}{1777632} \\mathit{sqrt}_{2} z_{1}^{4} z_{2} + \\frac{178121328}{264900487} \\mathit{sqrt}_{2} z_{1}^{3} z_{2}^{2} + \\frac{4770216}{264900487} \\mathit{sqrt}_{2} z_{1}^{2} z_{2}^{3} + \\frac{2686002}{264900487} \\mathit{sqrt}_{2} z_{1} z_{2}^{4} + \\frac{282458}{264900487} \\mathit{sqrt}_{2} z_{2}^{5} + \\frac{443227}{3555264} z_{1}^{4} + \\frac{344547611545411}{470895582506784} z_{1}^{3} z_{2} + \\frac{558111461}{1059601948} z_{1}^{2} z_{2}^{2} + \\frac{7606665}{264900487} z_{1} z_{2}^{3} + \\frac{3073719}{529800974} z_{2}^{4} + \\frac{322097375265625}{2197512718364992} \\mathit{sqrt}_{2} z_{1}^{3} + \\frac{853305831448853}{2197512718364992} \\mathit{sqrt}_{2} z_{1}^{2} z_{2} + \\frac{773176933}{5562910227} \\mathit{sqrt}_{2} z_{1} z_{2}^{2} + \\frac{13754103}{1854303409} \\mathit{sqrt}_{2} z_{2}^{3} + \\frac{28474423918425}{137344544897812} z_{1}^{2} + \\frac{3497750131837855}{13185076310189952} z_{1} z_{2} + \\frac{1846086085}{44503281816} z_{2}^{2} + \\frac{359446308193207}{3767164660054272} \\mathit{sqrt}_{2} z_{1} + \\frac{185164239129431}{3767164660054272} \\mathit{sqrt}_{2} z_{2} + \\frac{2937495436235}{60760720323456}$$"
      ],
      "text/plain": [
       "1301/148136*z1^6 + 21585/296272*z1^5*z2 + z1^4*z2^2 + (12399/592544*sqrt2)*z1^5 + (700469/1777632*sqrt2)*z1^4*z2 + (178121328/264900487*sqrt2)*z1^3*z2^2 + (4770216/264900487*sqrt2)*z1^2*z2^3 + (2686002/264900487*sqrt2)*z1*z2^4 + (282458/264900487*sqrt2)*z2^5 + 443227/3555264*z1^4 + 344547611545411/470895582506784*z1^3*z2 + 558111461/1059601948*z1^2*z2^2 + 7606665/264900487*z1*z2^3 + 3073719/529800974*z2^4 + (322097375265625/2197512718364992*sqrt2)*z1^3 + (853305831448853/2197512718364992*sqrt2)*z1^2*z2 + (773176933/5562910227*sqrt2)*z1*z2^2 + (13754103/1854303409*sqrt2)*z2^3 + 28474423918425/137344544897812*z1^2 + 3497750131837855/13185076310189952*z1*z2 + 1846086085/44503281816*z2^2 + (359446308193207/3767164660054272*sqrt2)*z1 + (185164239129431/3767164660054272*sqrt2)*z2 + 2937495436235/60760720323456"
      ]
     },
     "execution_count": 8,
     "metadata": {
     },
     "output_type": "execute_result"
    },
    {
     "data": {
      "text/html": [
       "<html>\\[\\newcommand{\\Bold}[1]{\\mathbf{#1}}\\frac{24318035446106}{11350735463225321} z_{1}^{6} + \\frac{306426766418757}{11350735463225321} z_{1}^{5} z_{2} + \\frac{2178877666677147}{22701470926450642} z_{1}^{4} z_{2}^{2} + z_{1}^{3} z_{2}^{3} + \\frac{150778326365131}{22701470926450642} \\mathit{sqrt}_{2} z_{1}^{5} + \\frac{618501916461822}{11350735463225321} \\mathit{sqrt}_{2} z_{1}^{4} z_{2} + \\frac{6316814221008153}{11350735463225321} \\mathit{sqrt}_{2} z_{1}^{3} z_{2}^{2} + \\frac{5505108976567266}{11350735463225321} \\mathit{sqrt}_{2} z_{1}^{2} z_{2}^{3} + \\frac{636537551463}{11350735463225321} \\mathit{sqrt}_{2} z_{1} z_{2}^{4} + \\frac{18474892722165}{11350735463225321} \\mathit{sqrt}_{2} z_{2}^{5} + \\frac{1990895464749299}{90805883705802568} z_{1}^{4} + \\frac{30045580083400075}{90805883705802568} z_{1}^{3} z_{2} + \\frac{70166224721825661}{90805883705802568} z_{1}^{2} z_{2}^{2} + \\frac{21687556846795831}{90805883705802568} z_{1} z_{2}^{3} + \\frac{34879125435858}{11350735463225321} z_{2}^{4} + \\frac{7897363888125209}{158910296485154494} \\mathit{sqrt}_{2} z_{1}^{3} + \\frac{47759451354023025}{158910296485154494} \\mathit{sqrt}_{2} z_{1}^{2} z_{2} + \\frac{12135023463088911}{45402941852901284} \\mathit{sqrt}_{2} z_{1} z_{2}^{2} + \\frac{14265082779751135}{476730889455463482} \\mathit{sqrt}_{2} z_{2}^{3} + \\frac{17809786135407655}{158910296485154494} z_{1}^{2} + \\frac{44925006390286125}{158910296485154494} z_{1} z_{2} + \\frac{113068275622355335}{1271282371881235952} z_{2}^{2} + \\frac{12853165776003087}{181611767411605136} \\mathit{sqrt}_{2} z_{1} + \\frac{5838636086994379}{90805883705802568} \\mathit{sqrt}_{2} z_{2} + \\frac{48959735875297123}{1089670604469630816}\\]</html>"
      ],
      "text/latex": [
       "$$\\newcommand{\\Bold}[1]{\\mathbf{#1}}\\frac{24318035446106}{11350735463225321} z_{1}^{6} + \\frac{306426766418757}{11350735463225321} z_{1}^{5} z_{2} + \\frac{2178877666677147}{22701470926450642} z_{1}^{4} z_{2}^{2} + z_{1}^{3} z_{2}^{3} + \\frac{150778326365131}{22701470926450642} \\mathit{sqrt}_{2} z_{1}^{5} + \\frac{618501916461822}{11350735463225321} \\mathit{sqrt}_{2} z_{1}^{4} z_{2} + \\frac{6316814221008153}{11350735463225321} \\mathit{sqrt}_{2} z_{1}^{3} z_{2}^{2} + \\frac{5505108976567266}{11350735463225321} \\mathit{sqrt}_{2} z_{1}^{2} z_{2}^{3} + \\frac{636537551463}{11350735463225321} \\mathit{sqrt}_{2} z_{1} z_{2}^{4} + \\frac{18474892722165}{11350735463225321} \\mathit{sqrt}_{2} z_{2}^{5} + \\frac{1990895464749299}{90805883705802568} z_{1}^{4} + \\frac{30045580083400075}{90805883705802568} z_{1}^{3} z_{2} + \\frac{70166224721825661}{90805883705802568} z_{1}^{2} z_{2}^{2} + \\frac{21687556846795831}{90805883705802568} z_{1} z_{2}^{3} + \\frac{34879125435858}{11350735463225321} z_{2}^{4} + \\frac{7897363888125209}{158910296485154494} \\mathit{sqrt}_{2} z_{1}^{3} + \\frac{47759451354023025}{158910296485154494} \\mathit{sqrt}_{2} z_{1}^{2} z_{2} + \\frac{12135023463088911}{45402941852901284} \\mathit{sqrt}_{2} z_{1} z_{2}^{2} + \\frac{14265082779751135}{476730889455463482} \\mathit{sqrt}_{2} z_{2}^{3} + \\frac{17809786135407655}{158910296485154494} z_{1}^{2} + \\frac{44925006390286125}{158910296485154494} z_{1} z_{2} + \\frac{113068275622355335}{1271282371881235952} z_{2}^{2} + \\frac{12853165776003087}{181611767411605136} \\mathit{sqrt}_{2} z_{1} + \\frac{5838636086994379}{90805883705802568} \\mathit{sqrt}_{2} z_{2} + \\frac{48959735875297123}{1089670604469630816}$$"
      ],
      "text/plain": [
       "24318035446106/11350735463225321*z1^6 + 306426766418757/11350735463225321*z1^5*z2 + 2178877666677147/22701470926450642*z1^4*z2^2 + z1^3*z2^3 + (150778326365131/22701470926450642*sqrt2)*z1^5 + (618501916461822/11350735463225321*sqrt2)*z1^4*z2 + (6316814221008153/11350735463225321*sqrt2)*z1^3*z2^2 + (5505108976567266/11350735463225321*sqrt2)*z1^2*z2^3 + (636537551463/11350735463225321*sqrt2)*z1*z2^4 + (18474892722165/11350735463225321*sqrt2)*z2^5 + 1990895464749299/90805883705802568*z1^4 + 30045580083400075/90805883705802568*z1^3*z2 + 70166224721825661/90805883705802568*z1^2*z2^2 + 21687556846795831/90805883705802568*z1*z2^3 + 34879125435858/11350735463225321*z2^4 + (7897363888125209/158910296485154494*sqrt2)*z1^3 + (47759451354023025/158910296485154494*sqrt2)*z1^2*z2 + (12135023463088911/45402941852901284*sqrt2)*z1*z2^2 + (14265082779751135/476730889455463482*sqrt2)*z2^3 + 17809786135407655/158910296485154494*z1^2 + 44925006390286125/158910296485154494*z1*z2 + 113068275622355335/1271282371881235952*z2^2 + (12853165776003087/181611767411605136*sqrt2)*z1 + (5838636086994379/90805883705802568*sqrt2)*z2 + 48959735875297123/1089670604469630816"
      ]
     },
     "execution_count": 8,
     "metadata": {
     },
     "output_type": "execute_result"
    },
    {
     "data": {
      "text/html": [
       "<html>\\[\\newcommand{\\Bold}[1]{\\mathbf{#1}}\\frac{496449732849931}{1552255546482953461} z_{1}^{6} + \\frac{10534370439586754}{1552255546482953461} z_{1}^{5} z_{2} - \\frac{14058146011012812}{1552255546482953461} z_{1}^{4} z_{2}^{2} + \\frac{372220277826008582}{1552255546482953461} z_{1}^{3} z_{2}^{3} + z_{1}^{2} z_{2}^{4} + \\frac{6756534418343170}{4656766639448860383} \\mathit{sqrt}_{2} z_{1}^{5} + \\frac{12277780087954073}{4656766639448860383} \\mathit{sqrt}_{2} z_{1}^{4} z_{2} + \\frac{131683227515436753}{1552255546482953461} \\mathit{sqrt}_{2} z_{1}^{3} z_{2}^{2} + \\frac{1049061790788908101}{1552255546482953461} \\mathit{sqrt}_{2} z_{1}^{2} z_{2}^{3} + \\frac{404691193411176815}{1552255546482953461} \\mathit{sqrt}_{2} z_{1} z_{2}^{4} - \\frac{9983523249732549}{1552255546482953461} \\mathit{sqrt}_{2} z_{2}^{5} + \\frac{46060452179669923}{18627066557795441532} z_{1}^{4} + \\frac{176011510818439955}{4656766639448860383} z_{1}^{3} z_{2} + \\frac{3216824765158598321}{6209022185931813844} z_{1}^{2} z_{2}^{2} + \\frac{4979322497915264431}{9313533278897720766} z_{1} z_{2}^{3} + \\frac{1640706647979673169}{37254133115590883064} z_{2}^{4} + \\frac{224219218525009255}{43463155301522696908} \\mathit{sqrt}_{2} z_{1}^{3} + \\frac{5555087133819355649}{43463155301522696908} \\mathit{sqrt}_{2} z_{1}^{2} z_{2} + \\frac{12738825113783480917}{43463155301522696908} \\mathit{sqrt}_{2} z_{1} z_{2}^{2} + \\frac{3316479019970321329}{43463155301522696908} \\mathit{sqrt}_{2} z_{2}^{3} + \\frac{4440521226083230945}{130389465904568090724} z_{1}^{2} + \\frac{13063227767945761555}{65194732952284045362} z_{1} z_{2} + \\frac{2668919007162898195}{21731577650761348454} z_{2}^{2} + \\frac{224930998170682543}{6209022185931813844} \\mathit{sqrt}_{2} z_{1} + \\frac{743762848195097155}{12418044371863627688} \\mathit{sqrt}_{2} z_{2} + \\frac{1542978215786354743}{49672177487454510752}\\]</html>"
      ],
      "text/latex": [
       "$$\\newcommand{\\Bold}[1]{\\mathbf{#1}}\\frac{496449732849931}{1552255546482953461} z_{1}^{6} + \\frac{10534370439586754}{1552255546482953461} z_{1}^{5} z_{2} - \\frac{14058146011012812}{1552255546482953461} z_{1}^{4} z_{2}^{2} + \\frac{372220277826008582}{1552255546482953461} z_{1}^{3} z_{2}^{3} + z_{1}^{2} z_{2}^{4} + \\frac{6756534418343170}{4656766639448860383} \\mathit{sqrt}_{2} z_{1}^{5} + \\frac{12277780087954073}{4656766639448860383} \\mathit{sqrt}_{2} z_{1}^{4} z_{2} + \\frac{131683227515436753}{1552255546482953461} \\mathit{sqrt}_{2} z_{1}^{3} z_{2}^{2} + \\frac{1049061790788908101}{1552255546482953461} \\mathit{sqrt}_{2} z_{1}^{2} z_{2}^{3} + \\frac{404691193411176815}{1552255546482953461} \\mathit{sqrt}_{2} z_{1} z_{2}^{4} - \\frac{9983523249732549}{1552255546482953461} \\mathit{sqrt}_{2} z_{2}^{5} + \\frac{46060452179669923}{18627066557795441532} z_{1}^{4} + \\frac{176011510818439955}{4656766639448860383} z_{1}^{3} z_{2} + \\frac{3216824765158598321}{6209022185931813844} z_{1}^{2} z_{2}^{2} + \\frac{4979322497915264431}{9313533278897720766} z_{1} z_{2}^{3} + \\frac{1640706647979673169}{37254133115590883064} z_{2}^{4} + \\frac{224219218525009255}{43463155301522696908} \\mathit{sqrt}_{2} z_{1}^{3} + \\frac{5555087133819355649}{43463155301522696908} \\mathit{sqrt}_{2} z_{1}^{2} z_{2} + \\frac{12738825113783480917}{43463155301522696908} \\mathit{sqrt}_{2} z_{1} z_{2}^{2} + \\frac{3316479019970321329}{43463155301522696908} \\mathit{sqrt}_{2} z_{2}^{3} + \\frac{4440521226083230945}{130389465904568090724} z_{1}^{2} + \\frac{13063227767945761555}{65194732952284045362} z_{1} z_{2} + \\frac{2668919007162898195}{21731577650761348454} z_{2}^{2} + \\frac{224930998170682543}{6209022185931813844} \\mathit{sqrt}_{2} z_{1} + \\frac{743762848195097155}{12418044371863627688} \\mathit{sqrt}_{2} z_{2} + \\frac{1542978215786354743}{49672177487454510752}$$"
      ],
      "text/plain": [
       "496449732849931/1552255546482953461*z1^6 + 10534370439586754/1552255546482953461*z1^5*z2 - 14058146011012812/1552255546482953461*z1^4*z2^2 + 372220277826008582/1552255546482953461*z1^3*z2^3 + z1^2*z2^4 + (6756534418343170/4656766639448860383*sqrt2)*z1^5 + (12277780087954073/4656766639448860383*sqrt2)*z1^4*z2 + (131683227515436753/1552255546482953461*sqrt2)*z1^3*z2^2 + (1049061790788908101/1552255546482953461*sqrt2)*z1^2*z2^3 + (404691193411176815/1552255546482953461*sqrt2)*z1*z2^4 + (-9983523249732549/1552255546482953461*sqrt2)*z2^5 + 46060452179669923/18627066557795441532*z1^4 + 176011510818439955/4656766639448860383*z1^3*z2 + 3216824765158598321/6209022185931813844*z1^2*z2^2 + 4979322497915264431/9313533278897720766*z1*z2^3 + 1640706647979673169/37254133115590883064*z2^4 + (224219218525009255/43463155301522696908*sqrt2)*z1^3 + (5555087133819355649/43463155301522696908*sqrt2)*z1^2*z2 + (12738825113783480917/43463155301522696908*sqrt2)*z1*z2^2 + (3316479019970321329/43463155301522696908*sqrt2)*z2^3 + 4440521226083230945/130389465904568090724*z1^2 + 13063227767945761555/65194732952284045362*z1*z2 + 2668919007162898195/21731577650761348454*z2^2 + (224930998170682543/6209022185931813844*sqrt2)*z1 + (743762848195097155/12418044371863627688*sqrt2)*z2 + 1542978215786354743/49672177487454510752"
      ]
     },
     "execution_count": 8,
     "metadata": {
     },
     "output_type": "execute_result"
    },
    {
     "data": {
      "text/html": [
       "<html>\\[\\newcommand{\\Bold}[1]{\\mathbf{#1}}\\frac{1104974127107167}{18652136515252844512} z_{1}^{6} + \\frac{35022062373683373}{9326068257626422256} z_{1}^{5} z_{2} - \\frac{126794653275381367}{4663034128813211128} z_{1}^{4} z_{2}^{2} + \\frac{1582150511855218039}{9326068257626422256} z_{1}^{3} z_{2}^{3} + \\frac{16492144297997921505}{18652136515252844512} z_{1}^{2} z_{2}^{4} + z_{1} z_{2}^{5} + \\frac{6389497459167479}{9326068257626422256} \\mathit{sqrt}_{2} z_{1}^{5} - \\frac{332068301233108603}{55956409545758533536} \\mathit{sqrt}_{2} z_{1}^{4} z_{2} + \\frac{619553283609061229}{18652136515252844512} \\mathit{sqrt}_{2} z_{1}^{3} z_{2}^{2} + \\frac{9276298598045222865}{18652136515252844512} \\mathit{sqrt}_{2} z_{1}^{2} z_{2}^{3} + \\frac{17108131204547913683}{18652136515252844512} \\mathit{sqrt}_{2} z_{1} z_{2}^{4} + \\frac{2198219537930442191}{18652136515252844512} \\mathit{sqrt}_{2} z_{2}^{5} - \\frac{140383377458084233}{223825638183034134144} z_{1}^{4} + \\frac{128903009546628367}{55956409545758533536} z_{1}^{3} z_{2} + \\frac{23799916246982228269}{74608546061011378048} z_{1}^{2} z_{2}^{2} + \\frac{113728668880223944691}{111912819091517067072} z_{1} z_{2}^{3} + \\frac{143140233173538977677}{447651276366068268288} z_{2}^{4} - \\frac{46427862966947427}{74608546061011378048} \\mathit{sqrt}_{2} z_{1}^{3} + \\frac{33271847149544141245}{522259822427079646336} \\mathit{sqrt}_{2} z_{1}^{2} z_{2} + \\frac{206577655006163791585}{522259822427079646336} \\mathit{sqrt}_{2} z_{1} z_{2}^{2} + \\frac{128636894141136853709}{522259822427079646336} \\mathit{sqrt}_{2} z_{2}^{3} + \\frac{968671885341460105}{74608546061011378048} z_{1}^{2} + \\frac{165156621533566867735}{783389733640619469504} z_{1} z_{2} + \\frac{68657641522693393575}{261129911213539823168} z_{2}^{2} + \\frac{2296068395852956555}{74608546061011378048} \\mathit{sqrt}_{2} z_{1} + \\frac{14491286665112069255}{149217092122022756096} \\mathit{sqrt}_{2} z_{2} + \\frac{834205379932053975}{20581667878899690496}\\]</html>"
      ],
      "text/latex": [
       "$$\\newcommand{\\Bold}[1]{\\mathbf{#1}}\\frac{1104974127107167}{18652136515252844512} z_{1}^{6} + \\frac{35022062373683373}{9326068257626422256} z_{1}^{5} z_{2} - \\frac{126794653275381367}{4663034128813211128} z_{1}^{4} z_{2}^{2} + \\frac{1582150511855218039}{9326068257626422256} z_{1}^{3} z_{2}^{3} + \\frac{16492144297997921505}{18652136515252844512} z_{1}^{2} z_{2}^{4} + z_{1} z_{2}^{5} + \\frac{6389497459167479}{9326068257626422256} \\mathit{sqrt}_{2} z_{1}^{5} - \\frac{332068301233108603}{55956409545758533536} \\mathit{sqrt}_{2} z_{1}^{4} z_{2} + \\frac{619553283609061229}{18652136515252844512} \\mathit{sqrt}_{2} z_{1}^{3} z_{2}^{2} + \\frac{9276298598045222865}{18652136515252844512} \\mathit{sqrt}_{2} z_{1}^{2} z_{2}^{3} + \\frac{17108131204547913683}{18652136515252844512} \\mathit{sqrt}_{2} z_{1} z_{2}^{4} + \\frac{2198219537930442191}{18652136515252844512} \\mathit{sqrt}_{2} z_{2}^{5} - \\frac{140383377458084233}{223825638183034134144} z_{1}^{4} + \\frac{128903009546628367}{55956409545758533536} z_{1}^{3} z_{2} + \\frac{23799916246982228269}{74608546061011378048} z_{1}^{2} z_{2}^{2} + \\frac{113728668880223944691}{111912819091517067072} z_{1} z_{2}^{3} + \\frac{143140233173538977677}{447651276366068268288} z_{2}^{4} - \\frac{46427862966947427}{74608546061011378048} \\mathit{sqrt}_{2} z_{1}^{3} + \\frac{33271847149544141245}{522259822427079646336} \\mathit{sqrt}_{2} z_{1}^{2} z_{2} + \\frac{206577655006163791585}{522259822427079646336} \\mathit{sqrt}_{2} z_{1} z_{2}^{2} + \\frac{128636894141136853709}{522259822427079646336} \\mathit{sqrt}_{2} z_{2}^{3} + \\frac{968671885341460105}{74608546061011378048} z_{1}^{2} + \\frac{165156621533566867735}{783389733640619469504} z_{1} z_{2} + \\frac{68657641522693393575}{261129911213539823168} z_{2}^{2} + \\frac{2296068395852956555}{74608546061011378048} \\mathit{sqrt}_{2} z_{1} + \\frac{14491286665112069255}{149217092122022756096} \\mathit{sqrt}_{2} z_{2} + \\frac{834205379932053975}{20581667878899690496}$$"
      ],
      "text/plain": [
       "1104974127107167/18652136515252844512*z1^6 + 35022062373683373/9326068257626422256*z1^5*z2 - 126794653275381367/4663034128813211128*z1^4*z2^2 + 1582150511855218039/9326068257626422256*z1^3*z2^3 + 16492144297997921505/18652136515252844512*z1^2*z2^4 + z1*z2^5 + (6389497459167479/9326068257626422256*sqrt2)*z1^5 + (-332068301233108603/55956409545758533536*sqrt2)*z1^4*z2 + (619553283609061229/18652136515252844512*sqrt2)*z1^3*z2^2 + (9276298598045222865/18652136515252844512*sqrt2)*z1^2*z2^3 + (17108131204547913683/18652136515252844512*sqrt2)*z1*z2^4 + (2198219537930442191/18652136515252844512*sqrt2)*z2^5 - 140383377458084233/223825638183034134144*z1^4 + 128903009546628367/55956409545758533536*z1^3*z2 + 23799916246982228269/74608546061011378048*z1^2*z2^2 + 113728668880223944691/111912819091517067072*z1*z2^3 + 143140233173538977677/447651276366068268288*z2^4 + (-46427862966947427/74608546061011378048*sqrt2)*z1^3 + (33271847149544141245/522259822427079646336*sqrt2)*z1^2*z2 + (206577655006163791585/522259822427079646336*sqrt2)*z1*z2^2 + (128636894141136853709/522259822427079646336*sqrt2)*z2^3 + 968671885341460105/74608546061011378048*z1^2 + 165156621533566867735/783389733640619469504*z1*z2 + 68657641522693393575/261129911213539823168*z2^2 + (2296068395852956555/74608546061011378048*sqrt2)*z1 + (14491286665112069255/149217092122022756096*sqrt2)*z2 + 834205379932053975/20581667878899690496"
      ]
     },
     "execution_count": 8,
     "metadata": {
     },
     "output_type": "execute_result"
    },
    {
     "data": {
      "text/html": [
       "<html>\\[\\newcommand{\\Bold}[1]{\\mathbf{#1}}\\frac{161932965798229}{40125493311456602283} z_{1}^{6} + \\frac{44916997311495636}{13375164437152200761} z_{1}^{5} z_{2} - \\frac{1252828292181000727}{40125493311456602283} z_{1}^{4} z_{2}^{2} + \\frac{5775466097519907584}{40125493311456602283} z_{1}^{3} z_{2}^{3} + \\frac{13901038107086825309}{13375164437152200761} z_{1}^{2} z_{2}^{4} + \\frac{60668882565359697028}{40125493311456602283} z_{1} z_{2}^{5} + z_{2}^{6} + \\frac{22620431621546047}{40125493311456602283} \\mathit{sqrt}_{2} z_{1}^{5} - \\frac{915950812344783457}{120376479934369806849} \\mathit{sqrt}_{2} z_{1}^{4} z_{2} + \\frac{546213984241083974}{40125493311456602283} \\mathit{sqrt}_{2} z_{1}^{3} z_{2}^{2} + \\frac{7110492516653768766}{13375164437152200761} \\mathit{sqrt}_{2} z_{1}^{2} z_{2}^{3} + \\frac{48295531256920196747}{40125493311456602283} \\mathit{sqrt}_{2} z_{1} z_{2}^{4} + \\frac{41292864706753324289}{40125493311456602283} \\mathit{sqrt}_{2} z_{2}^{5} - \\frac{144161084505398188}{120376479934369806849} z_{1}^{4} - \\frac{1226354988281809496}{120376479934369806849} z_{1}^{3} z_{2} + \\frac{12334031682137854912}{40125493311456602283} z_{1}^{2} z_{2}^{2} + \\frac{145620697829023761976}{120376479934369806849} z_{1} z_{2}^{3} + \\frac{168238595787034171052}{120376479934369806849} z_{2}^{4} - \\frac{32815270075166580}{13375164437152200761} \\mathit{sqrt}_{2} z_{1}^{3} + \\frac{2127951062190236164}{40125493311456602283} \\mathit{sqrt}_{2} z_{1}^{2} z_{2} + \\frac{17457358270366127836}{40125493311456602283} \\mathit{sqrt}_{2} z_{1} z_{2}^{2} + \\frac{29564369241380909180}{40125493311456602283} \\mathit{sqrt}_{2} z_{2}^{3} + \\frac{25711503681468220}{3086576408573584791} z_{1}^{2} + \\frac{25900122192189318080}{120376479934369806849} z_{1} z_{2} + \\frac{8203015500755463260}{13375164437152200761} z_{2}^{2} + \\frac{1161553410144002092}{40125493311456602283} \\mathit{sqrt}_{2} z_{1} + \\frac{7597563330109751572}{40125493311456602283} \\mathit{sqrt}_{2} z_{2} + \\frac{919705952384940728}{13375164437152200761}\\]</html>"
      ],
      "text/latex": [
       "$$\\newcommand{\\Bold}[1]{\\mathbf{#1}}\\frac{161932965798229}{40125493311456602283} z_{1}^{6} + \\frac{44916997311495636}{13375164437152200761} z_{1}^{5} z_{2} - \\frac{1252828292181000727}{40125493311456602283} z_{1}^{4} z_{2}^{2} + \\frac{5775466097519907584}{40125493311456602283} z_{1}^{3} z_{2}^{3} + \\frac{13901038107086825309}{13375164437152200761} z_{1}^{2} z_{2}^{4} + \\frac{60668882565359697028}{40125493311456602283} z_{1} z_{2}^{5} + z_{2}^{6} + \\frac{22620431621546047}{40125493311456602283} \\mathit{sqrt}_{2} z_{1}^{5} - \\frac{915950812344783457}{120376479934369806849} \\mathit{sqrt}_{2} z_{1}^{4} z_{2} + \\frac{546213984241083974}{40125493311456602283} \\mathit{sqrt}_{2} z_{1}^{3} z_{2}^{2} + \\frac{7110492516653768766}{13375164437152200761} \\mathit{sqrt}_{2} z_{1}^{2} z_{2}^{3} + \\frac{48295531256920196747}{40125493311456602283} \\mathit{sqrt}_{2} z_{1} z_{2}^{4} + \\frac{41292864706753324289}{40125493311456602283} \\mathit{sqrt}_{2} z_{2}^{5} - \\frac{144161084505398188}{120376479934369806849} z_{1}^{4} - \\frac{1226354988281809496}{120376479934369806849} z_{1}^{3} z_{2} + \\frac{12334031682137854912}{40125493311456602283} z_{1}^{2} z_{2}^{2} + \\frac{145620697829023761976}{120376479934369806849} z_{1} z_{2}^{3} + \\frac{168238595787034171052}{120376479934369806849} z_{2}^{4} - \\frac{32815270075166580}{13375164437152200761} \\mathit{sqrt}_{2} z_{1}^{3} + \\frac{2127951062190236164}{40125493311456602283} \\mathit{sqrt}_{2} z_{1}^{2} z_{2} + \\frac{17457358270366127836}{40125493311456602283} \\mathit{sqrt}_{2} z_{1} z_{2}^{2} + \\frac{29564369241380909180}{40125493311456602283} \\mathit{sqrt}_{2} z_{2}^{3} + \\frac{25711503681468220}{3086576408573584791} z_{1}^{2} + \\frac{25900122192189318080}{120376479934369806849} z_{1} z_{2} + \\frac{8203015500755463260}{13375164437152200761} z_{2}^{2} + \\frac{1161553410144002092}{40125493311456602283} \\mathit{sqrt}_{2} z_{1} + \\frac{7597563330109751572}{40125493311456602283} \\mathit{sqrt}_{2} z_{2} + \\frac{919705952384940728}{13375164437152200761}$$"
      ],
      "text/plain": [
       "161932965798229/40125493311456602283*z1^6 + 44916997311495636/13375164437152200761*z1^5*z2 - 1252828292181000727/40125493311456602283*z1^4*z2^2 + 5775466097519907584/40125493311456602283*z1^3*z2^3 + 13901038107086825309/13375164437152200761*z1^2*z2^4 + 60668882565359697028/40125493311456602283*z1*z2^5 + z2^6 + (22620431621546047/40125493311456602283*sqrt2)*z1^5 + (-915950812344783457/120376479934369806849*sqrt2)*z1^4*z2 + (546213984241083974/40125493311456602283*sqrt2)*z1^3*z2^2 + (7110492516653768766/13375164437152200761*sqrt2)*z1^2*z2^3 + (48295531256920196747/40125493311456602283*sqrt2)*z1*z2^4 + (41292864706753324289/40125493311456602283*sqrt2)*z2^5 - 144161084505398188/120376479934369806849*z1^4 - 1226354988281809496/120376479934369806849*z1^3*z2 + 12334031682137854912/40125493311456602283*z1^2*z2^2 + 145620697829023761976/120376479934369806849*z1*z2^3 + 168238595787034171052/120376479934369806849*z2^4 + (-32815270075166580/13375164437152200761*sqrt2)*z1^3 + (2127951062190236164/40125493311456602283*sqrt2)*z1^2*z2 + (17457358270366127836/40125493311456602283*sqrt2)*z1*z2^2 + (29564369241380909180/40125493311456602283*sqrt2)*z2^3 + 25711503681468220/3086576408573584791*z1^2 + 25900122192189318080/120376479934369806849*z1*z2 + 8203015500755463260/13375164437152200761*z2^2 + (1161553410144002092/40125493311456602283*sqrt2)*z1 + (7597563330109751572/40125493311456602283*sqrt2)*z2 + 919705952384940728/13375164437152200761"
      ]
     },
     "execution_count": 8,
     "metadata": {
     },
     "output_type": "execute_result"
    },
    {
     "data": {
      "text/html": [
       "<html>\\[\\newcommand{\\Bold}[1]{\\mathbf{#1}}z_{1}^{7} + \\frac{52743948987678170719}{59119254851756782608} \\mathit{sqrt}_{2} z_{1}^{6} - \\frac{49637843044382908}{410550380914977657} \\mathit{sqrt}_{2} z_{1}^{5} z_{2} - \\frac{132622590917494909}{59119254851756782608} \\mathit{sqrt}_{2} z_{1}^{4} z_{2}^{2} + \\frac{13920553653066473}{3694953428234798913} \\mathit{sqrt}_{2} z_{1}^{3} z_{2}^{3} - \\frac{8837844405754945}{19706418283918927536} \\mathit{sqrt}_{2} z_{1}^{2} z_{2}^{4} - \\frac{1173888554459579}{3694953428234798913} \\mathit{sqrt}_{2} z_{1} z_{2}^{5} - \\frac{1538156976350869}{19706418283918927536} \\mathit{sqrt}_{2} z_{2}^{6} + \\frac{154304507782490535071}{147798137129391956520} z_{1}^{5} - \\frac{18002246086895341789}{88678882277635173912} z_{1}^{4} z_{2} + \\frac{10624868763369931}{14779813712939195652} z_{1}^{3} z_{2}^{2} + \\frac{1701645368199343}{547400507886636876} z_{1}^{2} z_{2}^{3} - \\frac{20882435308344883}{29559627425878391304} z_{1} z_{2}^{4} - \\frac{5861559189438589}{29559627425878391304} z_{2}^{5} + \\frac{85363145317500473465}{177357764555270347824} \\mathit{sqrt}_{2} z_{1}^{4} - \\frac{17971646203919828483}{177357764555270347824} \\mathit{sqrt}_{2} z_{1}^{3} z_{2} + \\frac{41770809975491765}{29559627425878391304} \\mathit{sqrt}_{2} z_{1}^{2} z_{2}^{2} + \\frac{39623467868362889}{88678882277635173912} \\mathit{sqrt}_{2} z_{1} z_{2}^{3} - \\frac{8189699993438131}{44339441138817586956} \\mathit{sqrt}_{2} z_{2}^{4} + \\frac{1198195865241649571}{3284403047319821256} z_{1}^{3} - \\frac{1059934677543690061}{14779813712939195652} z_{1}^{2} z_{2} + \\frac{29427615596891347}{29559627425878391304} z_{1} z_{2}^{2} - \\frac{1493269354474369}{29559627425878391304} z_{2}^{3} + \\frac{6634054798266762673}{59119254851756782608} \\mathit{sqrt}_{2} z_{1}^{2} - \\frac{3135838540585844725}{177357764555270347824} \\mathit{sqrt}_{2} z_{1} z_{2} + \\frac{1089160207415425}{9853209141959463768} \\mathit{sqrt}_{2} z_{2}^{2} + \\frac{6154987472005177435}{118238509703513565216} z_{1} - \\frac{577822421006640509}{118238509703513565216} z_{2} + \\frac{1412392015410255671}{197064182839189275360} \\mathit{sqrt}_{2}\\]</html>"
      ],
      "text/latex": [
       "$$\\newcommand{\\Bold}[1]{\\mathbf{#1}}z_{1}^{7} + \\frac{52743948987678170719}{59119254851756782608} \\mathit{sqrt}_{2} z_{1}^{6} - \\frac{49637843044382908}{410550380914977657} \\mathit{sqrt}_{2} z_{1}^{5} z_{2} - \\frac{132622590917494909}{59119254851756782608} \\mathit{sqrt}_{2} z_{1}^{4} z_{2}^{2} + \\frac{13920553653066473}{3694953428234798913} \\mathit{sqrt}_{2} z_{1}^{3} z_{2}^{3} - \\frac{8837844405754945}{19706418283918927536} \\mathit{sqrt}_{2} z_{1}^{2} z_{2}^{4} - \\frac{1173888554459579}{3694953428234798913} \\mathit{sqrt}_{2} z_{1} z_{2}^{5} - \\frac{1538156976350869}{19706418283918927536} \\mathit{sqrt}_{2} z_{2}^{6} + \\frac{154304507782490535071}{147798137129391956520} z_{1}^{5} - \\frac{18002246086895341789}{88678882277635173912} z_{1}^{4} z_{2} + \\frac{10624868763369931}{14779813712939195652} z_{1}^{3} z_{2}^{2} + \\frac{1701645368199343}{547400507886636876} z_{1}^{2} z_{2}^{3} - \\frac{20882435308344883}{29559627425878391304} z_{1} z_{2}^{4} - \\frac{5861559189438589}{29559627425878391304} z_{2}^{5} + \\frac{85363145317500473465}{177357764555270347824} \\mathit{sqrt}_{2} z_{1}^{4} - \\frac{17971646203919828483}{177357764555270347824} \\mathit{sqrt}_{2} z_{1}^{3} z_{2} + \\frac{41770809975491765}{29559627425878391304} \\mathit{sqrt}_{2} z_{1}^{2} z_{2}^{2} + \\frac{39623467868362889}{88678882277635173912} \\mathit{sqrt}_{2} z_{1} z_{2}^{3} - \\frac{8189699993438131}{44339441138817586956} \\mathit{sqrt}_{2} z_{2}^{4} + \\frac{1198195865241649571}{3284403047319821256} z_{1}^{3} - \\frac{1059934677543690061}{14779813712939195652} z_{1}^{2} z_{2} + \\frac{29427615596891347}{29559627425878391304} z_{1} z_{2}^{2} - \\frac{1493269354474369}{29559627425878391304} z_{2}^{3} + \\frac{6634054798266762673}{59119254851756782608} \\mathit{sqrt}_{2} z_{1}^{2} - \\frac{3135838540585844725}{177357764555270347824} \\mathit{sqrt}_{2} z_{1} z_{2} + \\frac{1089160207415425}{9853209141959463768} \\mathit{sqrt}_{2} z_{2}^{2} + \\frac{6154987472005177435}{118238509703513565216} z_{1} - \\frac{577822421006640509}{118238509703513565216} z_{2} + \\frac{1412392015410255671}{197064182839189275360} \\mathit{sqrt}_{2}$$"
      ],
      "text/plain": [
       "z1^7 + (52743948987678170719/59119254851756782608*sqrt2)*z1^6 + (-49637843044382908/410550380914977657*sqrt2)*z1^5*z2 + (-132622590917494909/59119254851756782608*sqrt2)*z1^4*z2^2 + (13920553653066473/3694953428234798913*sqrt2)*z1^3*z2^3 + (-8837844405754945/19706418283918927536*sqrt2)*z1^2*z2^4 + (-1173888554459579/3694953428234798913*sqrt2)*z1*z2^5 + (-1538156976350869/19706418283918927536*sqrt2)*z2^6 + 154304507782490535071/147798137129391956520*z1^5 - 18002246086895341789/88678882277635173912*z1^4*z2 + 10624868763369931/14779813712939195652*z1^3*z2^2 + 1701645368199343/547400507886636876*z1^2*z2^3 - 20882435308344883/29559627425878391304*z1*z2^4 - 5861559189438589/29559627425878391304*z2^5 + (85363145317500473465/177357764555270347824*sqrt2)*z1^4 + (-17971646203919828483/177357764555270347824*sqrt2)*z1^3*z2 + (41770809975491765/29559627425878391304*sqrt2)*z1^2*z2^2 + (39623467868362889/88678882277635173912*sqrt2)*z1*z2^3 + (-8189699993438131/44339441138817586956*sqrt2)*z2^4 + 1198195865241649571/3284403047319821256*z1^3 - 1059934677543690061/14779813712939195652*z1^2*z2 + 29427615596891347/29559627425878391304*z1*z2^2 - 1493269354474369/29559627425878391304*z2^3 + (6634054798266762673/59119254851756782608*sqrt2)*z1^2 + (-3135838540585844725/177357764555270347824*sqrt2)*z1*z2 + (1089160207415425/9853209141959463768*sqrt2)*z2^2 + 6154987472005177435/118238509703513565216*z1 - 577822421006640509/118238509703513565216*z2 + (1412392015410255671/197064182839189275360*sqrt2)"
      ]
     },
     "execution_count": 8,
     "metadata": {
     },
     "output_type": "execute_result"
    },
    {
     "data": {
      "text/html": [
       "<html>\\[\\newcommand{\\Bold}[1]{\\mathbf{#1}}\\frac{6818877942275977429}{35411393172978231691} z_{1}^{7} + z_{1}^{6} z_{2} + \\frac{79880632559064945727}{283291145383825853528} \\mathit{sqrt}_{2} z_{1}^{6} + \\frac{25625094693112527114}{35411393172978231691} \\mathit{sqrt}_{2} z_{1}^{5} z_{2} - \\frac{24726703576334934229}{283291145383825853528} \\mathit{sqrt}_{2} z_{1}^{4} z_{2}^{2} + \\frac{278252010701335894}{35411393172978231691} \\mathit{sqrt}_{2} z_{1}^{3} z_{2}^{3} + \\frac{7874778025308520773}{283291145383825853528} \\mathit{sqrt}_{2} z_{1}^{2} z_{2}^{4} + \\frac{28405701625096156}{2083023127822248923} \\mathit{sqrt}_{2} z_{1} z_{2}^{5} + \\frac{580382828848308729}{283291145383825853528} \\mathit{sqrt}_{2} z_{2}^{6} + \\frac{66625452706459659725}{141645572691912926764} z_{1}^{5} + \\frac{275306831248046217905}{424936718075738780292} z_{1}^{4} z_{2} - \\frac{7886512853871159485}{70822786345956463382} z_{1}^{3} z_{2}^{2} + \\frac{2367389814357405741}{70822786345956463382} z_{1}^{2} z_{2}^{3} + \\frac{258518724186266677}{8332092511288995692} z_{1} z_{2}^{4} + \\frac{893934205003457819}{141645572691912926764} z_{2}^{5} + \\frac{80562997634600669969}{283291145383825853528} \\mathit{sqrt}_{2} z_{1}^{4} + \\frac{180523332815732996273}{849873436151477560584} \\mathit{sqrt}_{2} z_{1}^{3} z_{2} - \\frac{4519900741626675121}{141645572691912926764} \\mathit{sqrt}_{2} z_{1}^{2} z_{2}^{2} + \\frac{8445716615589425825}{424936718075738780292} \\mathit{sqrt}_{2} z_{1} z_{2}^{3} + \\frac{2742750403909741603}{424936718075738780292} \\mathit{sqrt}_{2} z_{2}^{4} + \\frac{888259026180903635}{3310580997807647704} z_{1}^{3} + \\frac{209897153754371387783}{1983038017686780974696} z_{1}^{2} z_{2} - \\frac{3448853942785743371}{991519008843390487348} z_{1} z_{2}^{2} + \\frac{9445956363571356617}{991519008843390487348} z_{2}^{3} + \\frac{7053094308373500983}{70822786345956463382} \\mathit{sqrt}_{2} z_{1}^{2} + \\frac{17474374762690384259}{849873436151477560584} \\mathit{sqrt}_{2} z_{1} z_{2} + \\frac{21604679456498625}{8332092511288995692} \\mathit{sqrt}_{2} z_{2}^{2} + \\frac{46958959832239793509}{849873436151477560584} z_{1} + \\frac{5137157599476201121}{849873436151477560584} z_{2} + \\frac{2642609982146136345}{283291145383825853528} \\mathit{sqrt}_{2}\\]</html>"
      ],
      "text/latex": [
       "$$\\newcommand{\\Bold}[1]{\\mathbf{#1}}\\frac{6818877942275977429}{35411393172978231691} z_{1}^{7} + z_{1}^{6} z_{2} + \\frac{79880632559064945727}{283291145383825853528} \\mathit{sqrt}_{2} z_{1}^{6} + \\frac{25625094693112527114}{35411393172978231691} \\mathit{sqrt}_{2} z_{1}^{5} z_{2} - \\frac{24726703576334934229}{283291145383825853528} \\mathit{sqrt}_{2} z_{1}^{4} z_{2}^{2} + \\frac{278252010701335894}{35411393172978231691} \\mathit{sqrt}_{2} z_{1}^{3} z_{2}^{3} + \\frac{7874778025308520773}{283291145383825853528} \\mathit{sqrt}_{2} z_{1}^{2} z_{2}^{4} + \\frac{28405701625096156}{2083023127822248923} \\mathit{sqrt}_{2} z_{1} z_{2}^{5} + \\frac{580382828848308729}{283291145383825853528} \\mathit{sqrt}_{2} z_{2}^{6} + \\frac{66625452706459659725}{141645572691912926764} z_{1}^{5} + \\frac{275306831248046217905}{424936718075738780292} z_{1}^{4} z_{2} - \\frac{7886512853871159485}{70822786345956463382} z_{1}^{3} z_{2}^{2} + \\frac{2367389814357405741}{70822786345956463382} z_{1}^{2} z_{2}^{3} + \\frac{258518724186266677}{8332092511288995692} z_{1} z_{2}^{4} + \\frac{893934205003457819}{141645572691912926764} z_{2}^{5} + \\frac{80562997634600669969}{283291145383825853528} \\mathit{sqrt}_{2} z_{1}^{4} + \\frac{180523332815732996273}{849873436151477560584} \\mathit{sqrt}_{2} z_{1}^{3} z_{2} - \\frac{4519900741626675121}{141645572691912926764} \\mathit{sqrt}_{2} z_{1}^{2} z_{2}^{2} + \\frac{8445716615589425825}{424936718075738780292} \\mathit{sqrt}_{2} z_{1} z_{2}^{3} + \\frac{2742750403909741603}{424936718075738780292} \\mathit{sqrt}_{2} z_{2}^{4} + \\frac{888259026180903635}{3310580997807647704} z_{1}^{3} + \\frac{209897153754371387783}{1983038017686780974696} z_{1}^{2} z_{2} - \\frac{3448853942785743371}{991519008843390487348} z_{1} z_{2}^{2} + \\frac{9445956363571356617}{991519008843390487348} z_{2}^{3} + \\frac{7053094308373500983}{70822786345956463382} \\mathit{sqrt}_{2} z_{1}^{2} + \\frac{17474374762690384259}{849873436151477560584} \\mathit{sqrt}_{2} z_{1} z_{2} + \\frac{21604679456498625}{8332092511288995692} \\mathit{sqrt}_{2} z_{2}^{2} + \\frac{46958959832239793509}{849873436151477560584} z_{1} + \\frac{5137157599476201121}{849873436151477560584} z_{2} + \\frac{2642609982146136345}{283291145383825853528} \\mathit{sqrt}_{2}$$"
      ],
      "text/plain": [
       "6818877942275977429/35411393172978231691*z1^7 + z1^6*z2 + (79880632559064945727/283291145383825853528*sqrt2)*z1^6 + (25625094693112527114/35411393172978231691*sqrt2)*z1^5*z2 + (-24726703576334934229/283291145383825853528*sqrt2)*z1^4*z2^2 + (278252010701335894/35411393172978231691*sqrt2)*z1^3*z2^3 + (7874778025308520773/283291145383825853528*sqrt2)*z1^2*z2^4 + (28405701625096156/2083023127822248923*sqrt2)*z1*z2^5 + (580382828848308729/283291145383825853528*sqrt2)*z2^6 + 66625452706459659725/141645572691912926764*z1^5 + 275306831248046217905/424936718075738780292*z1^4*z2 - 7886512853871159485/70822786345956463382*z1^3*z2^2 + 2367389814357405741/70822786345956463382*z1^2*z2^3 + 258518724186266677/8332092511288995692*z1*z2^4 + 893934205003457819/141645572691912926764*z2^5 + (80562997634600669969/283291145383825853528*sqrt2)*z1^4 + (180523332815732996273/849873436151477560584*sqrt2)*z1^3*z2 + (-4519900741626675121/141645572691912926764*sqrt2)*z1^2*z2^2 + (8445716615589425825/424936718075738780292*sqrt2)*z1*z2^3 + (2742750403909741603/424936718075738780292*sqrt2)*z2^4 + 888259026180903635/3310580997807647704*z1^3 + 209897153754371387783/1983038017686780974696*z1^2*z2 - 3448853942785743371/991519008843390487348*z1*z2^2 + 9445956363571356617/991519008843390487348*z2^3 + (7053094308373500983/70822786345956463382*sqrt2)*z1^2 + (17474374762690384259/849873436151477560584*sqrt2)*z1*z2 + (21604679456498625/8332092511288995692*sqrt2)*z2^2 + 46958959832239793509/849873436151477560584*z1 + 5137157599476201121/849873436151477560584*z2 + (2642609982146136345/283291145383825853528*sqrt2)"
      ]
     },
     "execution_count": 8,
     "metadata": {
     },
     "output_type": "execute_result"
    }
   ],
   "source": [
    "DAOGs=DA_GS_UpTo(monoms,higherpowerg,30,monoms)\n",
    "for OG in DAOGs:\n",
    "    show(OG)"
   ]
  },
  {
   "cell_type": "code",
   "execution_count": 0,
   "metadata": {
    "collapsed": false
   },
   "outputs": [
   ],
   "source": [
    "#getting LaTeX output for the orthogonal polynomials (will need to do a find and replace to handle the sqrt2)\n",
    "for j in range(len(DAOGs)):\n",
    "    h=DAOGs[j]\n",
    "    print('\\\\phi_{',j,'}&='+latex(h)+'\\\\\\\\')"
   ]
  },
  {
   "cell_type": "code",
   "execution_count": 0,
   "metadata": {
    "collapsed": false
   },
   "outputs": [
   ],
   "source": [
    "#getting LaTeX output for the list of norms of the OGs\n",
    "for m in range(0,len(DAOGs)):\n",
    "    for n in range(0,len(DAOGs)):\n",
    "        ort=DAIP(DAOGs[m]*g,DAOGs[n]*g,monoms)\n",
    "        if ort!=0:\n",
    "            print(\"\\\\norm{\\\\phi_{\",m,\"}}^2&=\",ort,\"\\\\\\\\\")"
   ]
  },
  {
   "cell_type": "code",
   "execution_count": 0,
   "metadata": {
    "collapsed": false
   },
   "outputs": [
   ],
   "source": [
    "#looking at reproducing kernels at zero:\n",
    "#need to sum terms that look like\n",
    "#1/norm^2 conj(phi(0)g(0)) phi(z1,z2)f(z1,z2)\n",
    "#but conjugate doesn't matter I think\n",
    "#\n",
    "#\n",
    "whichspace=2\n",
    "RK=0\n",
    "for j in range(whichspace+1):\n",
    "    show(DAOGs[j])\n",
    "    normsq=DAIP(DAOGs[j]*g,DAOGs[j]*g,monoms)\n",
    "    show(normsq)\n",
    "    piecej=g*DAOGs[j]\n",
    "    show(piecej)\n",
    "    newterm=1/normsq*piecej(0,0)*piecej\n",
    "    show(newterm)\n",
    "    RK=RK+newterm\n",
    "    print(\"____________\")\n",
    "print(\"\")\n",
    "show(RK)"
   ]
  },
  {
   "cell_type": "code",
   "execution_count": 0,
   "metadata": {
    "collapsed": false
   },
   "outputs": [
   ],
   "source": [
    "show(RK*6)"
   ]
  },
  {
   "cell_type": "code",
   "execution_count": 0,
   "metadata": {
    "collapsed": false
   },
   "outputs": [
   ],
   "source": [
    "phi1g=p1(z1,z2)"
   ]
  },
  {
   "cell_type": "code",
   "execution_count": 9,
   "metadata": {
    "collapsed": false
   },
   "outputs": [
    {
     "name": "stdout",
     "output_type": "stream",
     "text": [
      "[1, z1 + (3/8*sqrt2), z2 + (3/8*sqrt2), z1^2 + (3/5*sqrt2)*z1 + 3/10, z1*z2 + (3/10*sqrt2)*z1 + (3/10*sqrt2)*z2 + 3/10, z2^2 + (3/5*sqrt2)*z2 + 3/10, z1^3 + (3/4*sqrt2)*z1^2 + 3/5*z1 + (1/8*sqrt2), z1^2*z2 + (1/4*sqrt2)*z1^2 + (1/2*sqrt2)*z1*z2 + 2/5*z1 + 1/5*z2 + (1/8*sqrt2), z1*z2^2 + (1/2*sqrt2)*z1*z2 + (1/4*sqrt2)*z2^2 + 1/5*z1 + 2/5*z2 + (1/8*sqrt2), z2^3 + (3/4*sqrt2)*z2^2 + 3/5*z2 + (1/8*sqrt2), z1^4 + (6/7*sqrt2)*z1^3 + 6/7*z1^2 + (2/7*sqrt2)*z1 + 3/28, z1^3*z2 + (3/14*sqrt2)*z1^3 + (9/14*sqrt2)*z1^2*z2 + 3/7*z1^2 + 3/7*z1*z2 + (3/14*sqrt2)*z1 + (1/14*sqrt2)*z2 + 3/28, z1^2*z2^2 + (3/7*sqrt2)*z1^2*z2 + (3/7*sqrt2)*z1*z2^2 + 1/7*z1^2 + 4/7*z1*z2 + 1/7*z2^2 + (1/7*sqrt2)*z1 + (1/7*sqrt2)*z2 + 3/28, z1*z2^3 + (9/14*sqrt2)*z1*z2^2 + (3/14*sqrt2)*z2^3 + 3/7*z1*z2 + 3/7*z2^2 + (1/14*sqrt2)*z1 + (3/14*sqrt2)*z2 + 3/28, z2^4 + (6/7*sqrt2)*z2^3 + 6/7*z2^2 + (2/7*sqrt2)*z2 + 3/28, z1^5 + (15/16*sqrt2)*z1^4 + 15/14*z1^3 + (25/56*sqrt2)*z1^2 + 15/56*z1 + (3/64*sqrt2), z1^4*z2 + (3/16*sqrt2)*z1^4 + (3/4*sqrt2)*z1^3*z2 + 3/7*z1^3 + 9/14*z1^2*z2 + (15/56*sqrt2)*z1^2 + (5/28*sqrt2)*z1*z2 + 3/14*z1 + 3/56*z2 + (3/64*sqrt2), z1^3*z2^2 + (3/8*sqrt2)*z1^3*z2 + (9/16*sqrt2)*z1^2*z2^2 + 3/28*z1^3 + 9/14*z1^2*z2 + 9/28*z1*z2^2 + (15/112*sqrt2)*z1^2 + (15/56*sqrt2)*z1*z2 + (5/112*sqrt2)*z2^2 + 9/56*z1 + 3/28*z2 + (3/64*sqrt2), 3/131*z1^3*z2^2 + z1^2*z2^3 + (9/1048*sqrt2)*z1^3*z2 + (603/1048*sqrt2)*z1^2*z2^2 + (3/8*sqrt2)*z1*z2^3 + 9/3668*z1^3 + 1233/3668*z1^2*z2 + 2385/3668*z1*z2^2 + 3/28*z2^3 + (25/524*sqrt2)*z1^2 + (1005/3668*sqrt2)*z1*z2 + (495/3668*sqrt2)*z2^2 + 813/7336*z1 + 171/1048*z2 + (201/4192*sqrt2), 204/7921*z1^3*z2^2 + 987/7921*z1^2*z2^3 + z1*z2^4 + (153/15842*sqrt2)*z1^3*z2 + (10719/126736*sqrt2)*z1^2*z2^2 + (50487/63368*sqrt2)*z1*z2^3 + (3/16*sqrt2)*z2^4 + 153/55447*z1^3 + 12555/221788*z1^2*z2 + 40545/55447*z1*z2^2 + 98013/221788*z2^3 + (7995/887152*sqrt2)*z1^2 + (97075/443576*sqrt2)*z1*z2 + (253455/887152*sqrt2)*z2^2 + 4503/63368*z1 + 105159/443576*z2 + (3417/63368*sqrt2), 25678/1806413*z1^3*z2^2 + 25338/258059*z1^2*z2^3 + 341769/1806413*z1*z2^4 + z2^5 + (38517/7225652*sqrt2)*z1^3*z2 + (456849/7225652*sqrt2)*z1^2*z2^2 + (322839/1806413*sqrt2)*z1*z2^3 + (14060751/14451304*sqrt2)*z2^4 + 38517/25289782*z1^3 + 1029249/25289782*z1^2*z2 + 2393883/12644891*z1*z2^2 + 14706429/12644891*z2^3 + (79500/12644891*sqrt2)*z1^2 + (3231675/50579564*sqrt2)*z1*z2 + (12920325/25289782*sqrt2)*z2^2 + 331515/14451304*z1 + 32947785/101159128*z2 + (3526839/57805216*sqrt2), z1^6 + (sqrt2)*z1^5 + 5/4*z1^4 + (25/42*sqrt2)*z1^3 + 25/56*z1^2 + (1/8*sqrt2)*z1 + 1/24, 26/785*z1^6 + z1^5*z2 + (941/4710*sqrt2)*z1^5 + (5/6*sqrt2)*z1^4*z2 + 863/1884*z1^4 + 5/6*z1^3*z2 + (1395/4396*sqrt2)*z1^3 + (25/84*sqrt2)*z1^2*z2 + 1030/3297*z1^2 + 25/168*z1*z2 + (4081/37680*sqrt2)*z1 + (1/48*sqrt2)*z2 + 811/18840, 1301/148136*z1^6 + 21585/296272*z1^5*z2 + z1^4*z2^2 + (12399/592544*sqrt2)*z1^5 + (700469/1777632*sqrt2)*z1^4*z2 + (178121328/264900487*sqrt2)*z1^3*z2^2 + (4770216/264900487*sqrt2)*z1^2*z2^3 + (2686002/264900487*sqrt2)*z1*z2^4 + (282458/264900487*sqrt2)*z2^5 + 443227/3555264*z1^4 + 344547611545411/470895582506784*z1^3*z2 + 558111461/1059601948*z1^2*z2^2 + 7606665/264900487*z1*z2^3 + 3073719/529800974*z2^4 + (322097375265625/2197512718364992*sqrt2)*z1^3 + (853305831448853/2197512718364992*sqrt2)*z1^2*z2 + (773176933/5562910227*sqrt2)*z1*z2^2 + (13754103/1854303409*sqrt2)*z2^3 + 28474423918425/137344544897812*z1^2 + 3497750131837855/13185076310189952*z1*z2 + 1846086085/44503281816*z2^2 + (359446308193207/3767164660054272*sqrt2)*z1 + (185164239129431/3767164660054272*sqrt2)*z2 + 2937495436235/60760720323456, 24318035446106/11350735463225321*z1^6 + 306426766418757/11350735463225321*z1^5*z2 + 2178877666677147/22701470926450642*z1^4*z2^2 + z1^3*z2^3 + (150778326365131/22701470926450642*sqrt2)*z1^5 + (618501916461822/11350735463225321*sqrt2)*z1^4*z2 + (6316814221008153/11350735463225321*sqrt2)*z1^3*z2^2 + (5505108976567266/11350735463225321*sqrt2)*z1^2*z2^3 + (636537551463/11350735463225321*sqrt2)*z1*z2^4 + (18474892722165/11350735463225321*sqrt2)*z2^5 + 1990895464749299/90805883705802568*z1^4 + 30045580083400075/90805883705802568*z1^3*z2 + 70166224721825661/90805883705802568*z1^2*z2^2 + 21687556846795831/90805883705802568*z1*z2^3 + 34879125435858/11350735463225321*z2^4 + (7897363888125209/158910296485154494*sqrt2)*z1^3 + (47759451354023025/158910296485154494*sqrt2)*z1^2*z2 + (12135023463088911/45402941852901284*sqrt2)*z1*z2^2 + (14265082779751135/476730889455463482*sqrt2)*z2^3 + 17809786135407655/158910296485154494*z1^2 + 44925006390286125/158910296485154494*z1*z2 + 113068275622355335/1271282371881235952*z2^2 + (12853165776003087/181611767411605136*sqrt2)*z1 + (5838636086994379/90805883705802568*sqrt2)*z2 + 48959735875297123/1089670604469630816, 496449732849931/1552255546482953461*z1^6 + 10534370439586754/1552255546482953461*z1^5*z2 - 14058146011012812/1552255546482953461*z1^4*z2^2 + 372220277826008582/1552255546482953461*z1^3*z2^3 + z1^2*z2^4 + (6756534418343170/4656766639448860383*sqrt2)*z1^5 + (12277780087954073/4656766639448860383*sqrt2)*z1^4*z2 + (131683227515436753/1552255546482953461*sqrt2)*z1^3*z2^2 + (1049061790788908101/1552255546482953461*sqrt2)*z1^2*z2^3 + (404691193411176815/1552255546482953461*sqrt2)*z1*z2^4 + (-9983523249732549/1552255546482953461*sqrt2)*z2^5 + 46060452179669923/18627066557795441532*z1^4 + 176011510818439955/4656766639448860383*z1^3*z2 + 3216824765158598321/6209022185931813844*z1^2*z2^2 + 4979322497915264431/9313533278897720766*z1*z2^3 + 1640706647979673169/37254133115590883064*z2^4 + (224219218525009255/43463155301522696908*sqrt2)*z1^3 + (5555087133819355649/43463155301522696908*sqrt2)*z1^2*z2 + (12738825113783480917/43463155301522696908*sqrt2)*z1*z2^2 + (3316479019970321329/43463155301522696908*sqrt2)*z2^3 + 4440521226083230945/130389465904568090724*z1^2 + 13063227767945761555/65194732952284045362*z1*z2 + 2668919007162898195/21731577650761348454*z2^2 + (224930998170682543/6209022185931813844*sqrt2)*z1 + (743762848195097155/12418044371863627688*sqrt2)*z2 + 1542978215786354743/49672177487454510752, 1104974127107167/18652136515252844512*z1^6 + 35022062373683373/9326068257626422256*z1^5*z2 - 126794653275381367/4663034128813211128*z1^4*z2^2 + 1582150511855218039/9326068257626422256*z1^3*z2^3 + 16492144297997921505/18652136515252844512*z1^2*z2^4 + z1*z2^5 + (6389497459167479/9326068257626422256*sqrt2)*z1^5 + (-332068301233108603/55956409545758533536*sqrt2)*z1^4*z2 + (619553283609061229/18652136515252844512*sqrt2)*z1^3*z2^2 + (9276298598045222865/18652136515252844512*sqrt2)*z1^2*z2^3 + (17108131204547913683/18652136515252844512*sqrt2)*z1*z2^4 + (2198219537930442191/18652136515252844512*sqrt2)*z2^5 - 140383377458084233/223825638183034134144*z1^4 + 128903009546628367/55956409545758533536*z1^3*z2 + 23799916246982228269/74608546061011378048*z1^2*z2^2 + 113728668880223944691/111912819091517067072*z1*z2^3 + 143140233173538977677/447651276366068268288*z2^4 + (-46427862966947427/74608546061011378048*sqrt2)*z1^3 + (33271847149544141245/522259822427079646336*sqrt2)*z1^2*z2 + (206577655006163791585/522259822427079646336*sqrt2)*z1*z2^2 + (128636894141136853709/522259822427079646336*sqrt2)*z2^3 + 968671885341460105/74608546061011378048*z1^2 + 165156621533566867735/783389733640619469504*z1*z2 + 68657641522693393575/261129911213539823168*z2^2 + (2296068395852956555/74608546061011378048*sqrt2)*z1 + (14491286665112069255/149217092122022756096*sqrt2)*z2 + 834205379932053975/20581667878899690496, 161932965798229/40125493311456602283*z1^6 + 44916997311495636/13375164437152200761*z1^5*z2 - 1252828292181000727/40125493311456602283*z1^4*z2^2 + 5775466097519907584/40125493311456602283*z1^3*z2^3 + 13901038107086825309/13375164437152200761*z1^2*z2^4 + 60668882565359697028/40125493311456602283*z1*z2^5 + z2^6 + (22620431621546047/40125493311456602283*sqrt2)*z1^5 + (-915950812344783457/120376479934369806849*sqrt2)*z1^4*z2 + (546213984241083974/40125493311456602283*sqrt2)*z1^3*z2^2 + (7110492516653768766/13375164437152200761*sqrt2)*z1^2*z2^3 + (48295531256920196747/40125493311456602283*sqrt2)*z1*z2^4 + (41292864706753324289/40125493311456602283*sqrt2)*z2^5 - 144161084505398188/120376479934369806849*z1^4 - 1226354988281809496/120376479934369806849*z1^3*z2 + 12334031682137854912/40125493311456602283*z1^2*z2^2 + 145620697829023761976/120376479934369806849*z1*z2^3 + 168238595787034171052/120376479934369806849*z2^4 + (-32815270075166580/13375164437152200761*sqrt2)*z1^3 + (2127951062190236164/40125493311456602283*sqrt2)*z1^2*z2 + (17457358270366127836/40125493311456602283*sqrt2)*z1*z2^2 + (29564369241380909180/40125493311456602283*sqrt2)*z2^3 + 25711503681468220/3086576408573584791*z1^2 + 25900122192189318080/120376479934369806849*z1*z2 + 8203015500755463260/13375164437152200761*z2^2 + (1161553410144002092/40125493311456602283*sqrt2)*z1 + (7597563330109751572/40125493311456602283*sqrt2)*z2 + 919705952384940728/13375164437152200761, z1^7 + (52743948987678170719/59119254851756782608*sqrt2)*z1^6 + (-49637843044382908/410550380914977657*sqrt2)*z1^5*z2 + (-132622590917494909/59119254851756782608*sqrt2)*z1^4*z2^2 + (13920553653066473/3694953428234798913*sqrt2)*z1^3*z2^3 + (-8837844405754945/19706418283918927536*sqrt2)*z1^2*z2^4 + (-1173888554459579/3694953428234798913*sqrt2)*z1*z2^5 + (-1538156976350869/19706418283918927536*sqrt2)*z2^6 + 154304507782490535071/147798137129391956520*z1^5 - 18002246086895341789/88678882277635173912*z1^4*z2 + 10624868763369931/14779813712939195652*z1^3*z2^2 + 1701645368199343/547400507886636876*z1^2*z2^3 - 20882435308344883/29559627425878391304*z1*z2^4 - 5861559189438589/29559627425878391304*z2^5 + (85363145317500473465/177357764555270347824*sqrt2)*z1^4 + (-17971646203919828483/177357764555270347824*sqrt2)*z1^3*z2 + (41770809975491765/29559627425878391304*sqrt2)*z1^2*z2^2 + (39623467868362889/88678882277635173912*sqrt2)*z1*z2^3 + (-8189699993438131/44339441138817586956*sqrt2)*z2^4 + 1198195865241649571/3284403047319821256*z1^3 - 1059934677543690061/14779813712939195652*z1^2*z2 + 29427615596891347/29559627425878391304*z1*z2^2 - 1493269354474369/29559627425878391304*z2^3 + (6634054798266762673/59119254851756782608*sqrt2)*z1^2 + (-3135838540585844725/177357764555270347824*sqrt2)*z1*z2 + (1089160207415425/9853209141959463768*sqrt2)*z2^2 + 6154987472005177435/118238509703513565216*z1 - 577822421006640509/118238509703513565216*z2 + (1412392015410255671/197064182839189275360*sqrt2), 6818877942275977429/35411393172978231691*z1^7 + z1^6*z2 + (79880632559064945727/283291145383825853528*sqrt2)*z1^6 + (25625094693112527114/35411393172978231691*sqrt2)*z1^5*z2 + (-24726703576334934229/283291145383825853528*sqrt2)*z1^4*z2^2 + (278252010701335894/35411393172978231691*sqrt2)*z1^3*z2^3 + (7874778025308520773/283291145383825853528*sqrt2)*z1^2*z2^4 + (28405701625096156/2083023127822248923*sqrt2)*z1*z2^5 + (580382828848308729/283291145383825853528*sqrt2)*z2^6 + 66625452706459659725/141645572691912926764*z1^5 + 275306831248046217905/424936718075738780292*z1^4*z2 - 7886512853871159485/70822786345956463382*z1^3*z2^2 + 2367389814357405741/70822786345956463382*z1^2*z2^3 + 258518724186266677/8332092511288995692*z1*z2^4 + 893934205003457819/141645572691912926764*z2^5 + (80562997634600669969/283291145383825853528*sqrt2)*z1^4 + (180523332815732996273/849873436151477560584*sqrt2)*z1^3*z2 + (-4519900741626675121/141645572691912926764*sqrt2)*z1^2*z2^2 + (8445716615589425825/424936718075738780292*sqrt2)*z1*z2^3 + (2742750403909741603/424936718075738780292*sqrt2)*z2^4 + 888259026180903635/3310580997807647704*z1^3 + 209897153754371387783/1983038017686780974696*z1^2*z2 - 3448853942785743371/991519008843390487348*z1*z2^2 + 9445956363571356617/991519008843390487348*z2^3 + (7053094308373500983/70822786345956463382*sqrt2)*z1^2 + (17474374762690384259/849873436151477560584*sqrt2)*z1*z2 + (21604679456498625/8332092511288995692*sqrt2)*z2^2 + 46958959832239793509/849873436151477560584*z1 + 5137157599476201121/849873436151477560584*z2 + (2642609982146136345/283291145383825853528*sqrt2)]\n"
     ]
    }
   ],
   "source": [
    "print(DAOGs)"
   ]
  },
  {
   "cell_type": "code",
   "execution_count": 0,
   "metadata": {
    "collapsed": false
   },
   "outputs": [
   ],
   "source": [
   ]
  }
 ],
 "metadata": {
  "kernelspec": {
   "display_name": "SageMath 9.4",
   "language": "sagemath",
   "metadata": {
    "cocalc": {
     "description": "Open-source mathematical software system",
     "priority": 1,
     "url": "https://www.sagemath.org/"
    }
   },
   "name": "sage-9.4",
   "resource_dir": "/ext/jupyter/kernels/sage-9.4"
  },
  "language_info": {
   "codemirror_mode": {
    "name": "ipython",
    "version": 3
   },
   "file_extension": ".py",
   "mimetype": "text/x-python",
   "name": "python",
   "nbconvert_exporter": "python",
   "pygments_lexer": "ipython3",
   "version": "3.9.5"
  }
 },
 "nbformat": 4,
 "nbformat_minor": 4
}