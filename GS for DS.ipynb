{
 "cells": [
  {
   "cell_type": "code",
   "execution_count": 1,
   "metadata": {},
   "outputs": [
    {
     "name": "stdout",
     "output_type": "stream",
     "text": [
      "[z1, z2, z3, z4, z5, z6, z7, z8, z9, z10, z11, z12, z13, z14, z15, z16, z17, z18, z19, z20, z21, z22, z23, z24, z25, z26, z27, z28, z29, z30]\n",
      "[1, z1, z2, z1^2, z3, z1*z2, z4, z1^3, z2^2, z1*z3, z5, z1^2*z2, z6, z1*z4, z2*z3, z1^4, z7, z1*z2^2, z8, z1^2*z3, z2*z4, z1*z5, z9, z1^3*z2, z3^2, z1*z6, z2^3, z1^2*z4, z10, z1*z2*z3, z11, z1^5, z2*z5, z1*z7, z3*z4, z1^2*z2^2, z12, z1*z8, z2*z6, z1^3*z3, z13, z1*z2*z4, z14, z1^2*z5, z2^2*z3, z1*z9, z15, z1^4*z2, z4^2, z1*z3^2, z2*z7, z1^2*z6, z16, z1*z2^3, z3*z5, z1^3*z4, z2*z8, z1*z10, z17, z1^2*z2*z3, z18, z1*z11, z2^2*z4, z1^6, z3*z6, z1*z2*z5, z19, z1^2*z7, z2*z9, z1*z3*z4, z20, z1^3*z2^2, z21, z1*z12, z2*z3^2, z1^2*z8, z4*z5, z1*z2*z6, z22, z1^4*z3, z2^4, z1*z13, z23, z1^2*z2*z4, z3*z7, z1*z14, z2*z10, z1^3*z5, z24, z1*z2^2*z3, z4*z6, z1^2*z9, z2*z11, z1*z15, z3*z8, z1^5*z2, z25, z1*z4^2, z2^2*z5, z1^2*z3^2, z26, z1*z2*z7, z27, z1^3*z6, z2*z3*z4, z1*z16, z28, z1^2*z2^3, z29, z1*z3*z5, z2*z12, z1^4*z4, z30, z1*z2*z8, z3*z9, z1^2*z10, z2^2*z6, z1*z17, z4*z7]\n"
     ]
    }
   ],
   "source": [
    "# generate the monomials\n",
    "varcounter=1; monom_str=[]; onevars=[]; Bohr={1:'1'}\n",
    "for n in range(1,120):\n",
    "    if is_prime(n):\n",
    "        newvar='z'+str(varcounter); varcounter=varcounter+1\n",
    "        monom_str=monom_str+[newvar]\n",
    "        onevars=onevars+[newvar]\n",
    "        Bohr[n]=newvar\n",
    "    else:\n",
    "        pfac=list(factor(n))\n",
    "        newmonom='1'\n",
    "        for (p,e) in pfac:\n",
    "            newmonom = newmonom + '*' + Bohr[p] + '^'+ str(e)\n",
    "        monom_str=monom_str+[newmonom]\n",
    "#P=PolynomialRing(QQ,onevars)\n",
    "#print(monom_str)\n",
    "############\n",
    "#\n",
    "# establish extension field and evaluate monomials\n",
    "#\n",
    "###########\n",
    "#S.<sqrt2,sqrt3,sqrt5,sqrt7,sqrt11,sqrt13,sqrt17> = QQ.extension([x^2-2, x^2-3, x^2-5, x^2-7, x^2-11, x^2-13, x^2-17])\n",
    "#S.<A>=PolynomialRing(QQ)\n",
    "#assume(A,'rational')\n",
    "S=QQ\n",
    "Q.<z1, z2, z3, z4, z5, z6, z7, z8, z9, z10, z11, z12, z13, z14, z15, z16, z17, z18, z19, z20, z21, z22, z23, z24, z25, z26, z27, z28, z29, z30>=PolynomialRing(S,order='negdeglex')\n",
    "#sigh, I can't figure out how to make it appreciate the variables\n",
    "############\n",
    "varseval=[]\n",
    "for n in Bohr.keys():\n",
    "    varseval=varseval+[sage_eval(Bohr[n],locals=vars())]\n",
    "varseval.remove(1)\n",
    "print(varseval)\n",
    "monomslist=[]\n",
    "for monstr in monom_str:\n",
    "    monomslist = monomslist + [sage_eval(monstr,locals=vars())]\n",
    "print(monomslist)"
   ]
  },
  {
   "cell_type": "code",
   "execution_count": 2,
   "metadata": {},
   "outputs": [],
   "source": [
    "#the 'DICT' command I was previously using is outdated now, but I still need to be able to get the degrees\n",
    "def multideg(monom): #take a monomial in z1 and z2 and return an ordered pair with its multidegree \n",
    "                    #(there's probably a way to do this more generally)\n",
    "    z1deg=monom.degree(z1)\n",
    "    z2deg=monom.degree(z2)\n",
    "    return (z1deg,z2deg)\n",
    "def coeffdict(poly,monomslist,varseval): #takes a polynomial (as an expression) and a pregenerated list of monomials and returns a dictionary\n",
    "                                # keys are ordered tuples of degrees of a monomial, entries are coefficients\n",
    "    polydict={(0, 0, 0, 0, 0, 0, 0, 0, 0, 0, 0, 0, 0, 0, 0, 0, 0, 0, 0, 0, 0, 0, 0, 0, 0, 0, 0, 0, 0, 0): poly((0, 0, 0, 0, 0, 0, 0, 0, 0, 0, 0, 0, 0, 0, 0, 0, 0, 0, 0, 0, 0, 0, 0, 0, 0, 0, 0, 0, 0, 0))}\n",
    "    for monmindex in range(1,len(monomslist)):\n",
    "        monomattempt=monomslist[monmindex]\n",
    "        #print(monomattempt)\n",
    "        multi=tuple(monomattempt.degree(thevar) for thevar in varseval)\n",
    "        #print(multi)\n",
    "        d={}\n",
    "        for n in range(len(varseval)):\n",
    "            d.update({varseval[n]:multi[n]})\n",
    "        #print(d)\n",
    "        polydict.update({multi:poly.coefficient(d)})\n",
    "    return polydict"
   ]
  },
  {
   "cell_type": "code",
   "execution_count": 3,
   "metadata": {},
   "outputs": [],
   "source": [
    "############\n",
    "#\n",
    "#functions to actually do Gram Schmidt\n",
    "#\n",
    "############\n",
    "def InnerProd(f,g,monomslist,varseval):\n",
    "    cfsf=coeffdict(f,monomslist,varseval)#the coefficients paired into a dictionary with the multi-indices\n",
    "    cfsg=coeffdict(g,monomslist,varseval)\n",
    "    multi_indices = list(set(cfsf.keys()).union(set(cfsg.keys()))) #pretty sure unioning them is unnecessary, but *shrug*\n",
    "    ip=0\n",
    "    for alpha in multi_indices:\n",
    "        if alpha in cfsf.keys():\n",
    "            term = cfsf[alpha]\n",
    "        else:\n",
    "            term=0\n",
    "        if alpha in cfsg.keys():\n",
    "            term = term *(cfsg[alpha])\n",
    "            #print(pairs[m],cfsg[pairs[m]])\n",
    "        else:\n",
    "            term=0\n",
    "        ip=ip+term\n",
    "    return ip\n",
    "def wIP(f,g,weight,monomslist,varseval):\n",
    "    wip=InnerProd(f*weight,g*weight,monomslist,varseval)\n",
    "    return wip\n",
    "def wproj(f,g,weight,monomslist,varseval):\n",
    "    ip=wIP(f,g,weight,monomslist,varseval)\n",
    "    normsquared=wIP(g,g,weight,monomslist,varseval)\n",
    "    proj=(ip/normsquared)*g\n",
    "    return proj\n",
    "#Gram Schmidt\n",
    "#given an ordered list of linearly independent basis vectors (monomials in this case),\n",
    "#and a list of orthogonal polynomials previously computed from the given basis vectors,\n",
    "# this returns the next one. IT DOES NOT CHANGE THE INPUTTED LISTS. (could probably write a recursive function that would be more efficient, but I'm lazy)\n",
    "def nextGS(basislist,OGlist,weight,monomslist,varseval):\n",
    "    error=0\n",
    "    nextbasis=basislist[len(OGlist)]\n",
    "    #print \"nextbasis=\",nextbasis\n",
    "    for phi in OGlist:\n",
    "        error=error+wproj(nextbasis,phi,weight,monomslist,varseval)\n",
    "        #print \"error\",error\n",
    "    PHInext=nextbasis-error\n",
    "    return PHInext\n",
    "def GS_UpTo(basislist,weight,howmany,monomslist,varseval):\n",
    "    OGlist=[1]\n",
    "    for n in range(1,howmany):\n",
    "        OGlist=OGlist+[nextGS(basislist,OGlist,weight,monomslist,varseval)]\n",
    "    return OGlist"
   ]
  },
  {
   "cell_type": "code",
   "execution_count": 6,
   "metadata": {},
   "outputs": [
    {
     "data": {
      "text/html": [
       "<html><script type=\"math/tex; mode=display\">\\newcommand{\\Bold}[1]{\\mathbf{#1}}\\frac{1}{4} - z_{1} + z_{2}</script></html>"
      ],
      "text/latex": [
       "\\begin{math}\n",
       "\\newcommand{\\Bold}[1]{\\mathbf{#1}}\\frac{1}{4} - z_{1} + z_{2}\n",
       "\\end{math}"
      ],
      "text/plain": [
       "1/4 - z1 + z2"
      ]
     },
     "metadata": {},
     "output_type": "display_data"
    },
    {
     "data": {
      "text/html": [
       "<html><script type=\"math/tex; mode=display\">\\newcommand{\\Bold}[1]{\\mathbf{#1}}1 - 2 z_{1} + z_{2}</script></html>"
      ],
      "text/latex": [
       "\\begin{math}\n",
       "\\newcommand{\\Bold}[1]{\\mathbf{#1}}1 - 2 z_{1} + z_{2}\n",
       "\\end{math}"
      ],
      "text/plain": [
       "1 - 2*z1 + z2"
      ]
     },
     "metadata": {},
     "output_type": "display_data"
    },
    {
     "data": {
      "text/html": [
       "<html><script type=\"math/tex; mode=display\">\\newcommand{\\Bold}[1]{\\mathbf{#1}}4 - 4 z_{1} + z_{2}</script></html>"
      ],
      "text/latex": [
       "\\begin{math}\n",
       "\\newcommand{\\Bold}[1]{\\mathbf{#1}}4 - 4 z_{1} + z_{2}\n",
       "\\end{math}"
      ],
      "text/plain": [
       "4 - 4*z1 + z2"
      ]
     },
     "metadata": {},
     "output_type": "display_data"
    },
    {
     "data": {
      "text/html": [
       "<html><script type=\"math/tex; mode=display\">\\newcommand{\\Bold}[1]{\\mathbf{#1}}9 - 6 z_{1} + z_{2}</script></html>"
      ],
      "text/latex": [
       "\\begin{math}\n",
       "\\newcommand{\\Bold}[1]{\\mathbf{#1}}9 - 6 z_{1} + z_{2}\n",
       "\\end{math}"
      ],
      "text/plain": [
       "9 - 6*z1 + z2"
      ]
     },
     "metadata": {},
     "output_type": "display_data"
    },
    {
     "data": {
      "text/html": [
       "<html><script type=\"math/tex; mode=display\">\\newcommand{\\Bold}[1]{\\mathbf{#1}}16 - 8 z_{1} + z_{2}</script></html>"
      ],
      "text/latex": [
       "\\begin{math}\n",
       "\\newcommand{\\Bold}[1]{\\mathbf{#1}}16 - 8 z_{1} + z_{2}\n",
       "\\end{math}"
      ],
      "text/plain": [
       "16 - 8*z1 + z2"
      ]
     },
     "metadata": {},
     "output_type": "display_data"
    },
    {
     "data": {
      "text/html": [
       "<html><script type=\"math/tex; mode=display\">\\newcommand{\\Bold}[1]{\\mathbf{#1}}\\frac{1}{8} - \\frac{3}{4} z_{1} + \\frac{3}{2} z_{2} - z_{1}^{2}</script></html>"
      ],
      "text/latex": [
       "\\begin{math}\n",
       "\\newcommand{\\Bold}[1]{\\mathbf{#1}}\\frac{1}{8} - \\frac{3}{4} z_{1} + \\frac{3}{2} z_{2} - z_{1}^{2}\n",
       "\\end{math}"
      ],
      "text/plain": [
       "1/8 - 3/4*z1 + 3/2*z2 - z1^2"
      ]
     },
     "metadata": {},
     "output_type": "display_data"
    },
    {
     "data": {
      "text/html": [
       "<html><script type=\"math/tex; mode=display\">\\newcommand{\\Bold}[1]{\\mathbf{#1}}1 - 3 z_{1} + 3 z_{2} - z_{1}^{2}</script></html>"
      ],
      "text/latex": [
       "\\begin{math}\n",
       "\\newcommand{\\Bold}[1]{\\mathbf{#1}}1 - 3 z_{1} + 3 z_{2} - z_{1}^{2}\n",
       "\\end{math}"
      ],
      "text/plain": [
       "1 - 3*z1 + 3*z2 - z1^2"
      ]
     },
     "metadata": {},
     "output_type": "display_data"
    },
    {
     "data": {
      "text/html": [
       "<html><script type=\"math/tex; mode=display\">\\newcommand{\\Bold}[1]{\\mathbf{#1}}8 - 12 z_{1} + 6 z_{2} - z_{1}^{2}</script></html>"
      ],
      "text/latex": [
       "\\begin{math}\n",
       "\\newcommand{\\Bold}[1]{\\mathbf{#1}}8 - 12 z_{1} + 6 z_{2} - z_{1}^{2}\n",
       "\\end{math}"
      ],
      "text/plain": [
       "8 - 12*z1 + 6*z2 - z1^2"
      ]
     },
     "metadata": {},
     "output_type": "display_data"
    },
    {
     "data": {
      "text/html": [
       "<html><script type=\"math/tex; mode=display\">\\newcommand{\\Bold}[1]{\\mathbf{#1}}27 - 27 z_{1} + 9 z_{2} - z_{1}^{2}</script></html>"
      ],
      "text/latex": [
       "\\begin{math}\n",
       "\\newcommand{\\Bold}[1]{\\mathbf{#1}}27 - 27 z_{1} + 9 z_{2} - z_{1}^{2}\n",
       "\\end{math}"
      ],
      "text/plain": [
       "27 - 27*z1 + 9*z2 - z1^2"
      ]
     },
     "metadata": {},
     "output_type": "display_data"
    },
    {
     "data": {
      "text/html": [
       "<html><script type=\"math/tex; mode=display\">\\newcommand{\\Bold}[1]{\\mathbf{#1}}256 - 48 z_{1} + 12 z_{2} - z_{1}^{2}</script></html>"
      ],
      "text/latex": [
       "\\begin{math}\n",
       "\\newcommand{\\Bold}[1]{\\mathbf{#1}}256 - 48 z_{1} + 12 z_{2} - z_{1}^{2}\n",
       "\\end{math}"
      ],
      "text/plain": [
       "256 - 48*z1 + 12*z2 - z1^2"
      ]
     },
     "metadata": {},
     "output_type": "display_data"
    }
   ],
   "source": [
    "#Here are the z(lambda-z)^N examples translated to the polydisk with our DS monomial ordering and choosing lambda=L:\n",
    "N2half=(1/2)^2 - 2*(1/2)*z1 + z2\n",
    "N2L1=1-2*z1+z2\n",
    "N2L2=2^2 - 2*2*z1 + z2\n",
    "N2L3=3^2 - 2*3*z1 + z2\n",
    "N2L4=4^2 - 2*4*z1 + z2\n",
    "#\n",
    "N3half=(1/2)^3 - 3*(1/2)^2*z1 + 3*(1/2)*z2 - z1^2\n",
    "N3L1=1-3*z1+3*z2-z1^2\n",
    "N3L2=2^3 - 3*2^2*z1 + 3*2*z2 - z1^2\n",
    "N3L3=3^3 - 3*3^2*z1 + 3*3*z2 - z1^2\n",
    "N3L4=4^4 - 3*4^2*z1 + 3*4*z2 - z1^2 \n",
    "#L^4*z - 4*L^3*z^2 + 6*L^2*z^3 - 4*L*z^4 + z^5\n",
    "N4L1=1-4*z1+6*z2-4*z1^2+z3    \n",
    "#\n",
    "#L^5*z - 5*L^4*z^2 + 10*L^3*z^3 - 10*L^2*z^4 + 5*L*z^5 - z^6\n",
    "N5L1=1 - 5*z1 + 10*z2 - 10*z1^2 + 5*z3 - z1*z2\n",
    "#\n",
    "#L^10*z - 10*L^9*z^2 + 45*L^8*z^3 - 120*L^7*z^4 + 210*L^6*z^5 - 252*L^5*z^6 + 210*L^4*z^7 - 120*L^3*z^8 + 45*L^2*z^9 - 10*L*z^10 + z^11\n",
    "N10L1=1-10*z1 + 45*z2 - 120*z1^2 + 210*z3 - 252*z1*z2 + 210*z4 - 120*z1^3 + 45*z2^2 - 10*z1*z3 + z5\n",
    "# here are the ones with a + instead of a -\n",
    "Np2=1+2*z1+z2\n",
    "Np3=1+3*z1+3*z2+z1^2\n",
    "Np4=1+4*z1+6*z2+4*z1^2+z3    \n",
    "Np5=1 + 5*z1 + 10*z2 + 10*z1^2 + 5*z3 + z1*z2\n",
    "Nikolski=[N2L1,N3L1,N4L1,N5L1,N10L1]\n",
    "Nikolskiplus=[Np2,Np3,Np4,Np5]\n",
    "NikolskiLs=[N2half,N2L1,N2L2,N2L3,N2L4,N3half,N3L1,N3L2,N3L3,N3L4]\n",
    "for f in NikolskiLs:\n",
    "    show(f)"
   ]
  },
  {
   "cell_type": "code",
   "execution_count": 13,
   "metadata": {
    "scrolled": false
   },
   "outputs": [
    {
     "data": {
      "text/html": [
       "<html><script type=\"math/tex; mode=display\">\\newcommand{\\Bold}[1]{\\mathbf{#1}}1 - 4 z_{1} + 6 z_{2} + z_{3} - 4 z_{1}^{2}</script></html>"
      ],
      "text/latex": [
       "\\begin{math}\n",
       "\\newcommand{\\Bold}[1]{\\mathbf{#1}}1 - 4 z_{1} + 6 z_{2} + z_{3} - 4 z_{1}^{2}\n",
       "\\end{math}"
      ],
      "text/plain": [
       "1 - 4*z1 + 6*z2 + z3 - 4*z1^2"
      ]
     },
     "metadata": {},
     "output_type": "display_data"
    },
    {
     "name": "stdout",
     "output_type": "stream",
     "text": [
      "test function\n",
      "\\begin{equation*}\n",
      "\\scalebox{2}{\\ensuremath{f= 1 - 4 z_{1} + 6 z_{2} + z_{3} - 4 z_{1}^{2} }}\n",
      "\\end{equation*}\n",
      "\\begin{align*}\n",
      "\\phi_{ 0 }&= 1 \\\\\n",
      "%%%%%%%%%%%%%%%%%%%\n",
      "\\phi_{ 1 }&= -\\frac{6}{35} + z_{1} \\\\\n",
      "%%%%%%%%%%%%%%%%%%%\n",
      "\\phi_{ 2 }&= -\\frac{177}{1189} + \\frac{438}{1189} z_{1} + z_{2} \\\\\n",
      "%%%%%%%%%%%%%%%%%%%\n",
      "\\phi_{ 3 }&= \\frac{757}{17914} - \\frac{633}{8957} z_{1} + \\frac{5643}{17914} z_{2} + z_{1}^{2} \\\\\n",
      "%%%%%%%%%%%%%%%%%%%\n",
      "\\phi_{ 4 }&= -\\frac{493}{38608} + \\frac{629}{19304} z_{1} - \\frac{129}{2032} z_{2} + z_{3} + \\frac{561}{19304} z_{1}^{2} \\\\\n",
      "%%%%%%%%%%%%%%%%%%%\n",
      "\\phi_{ 5 }&= \\frac{171944}{2677841} - \\frac{531093}{2677841} z_{1} - \\frac{18474}{140939} z_{2} + \\frac{2568}{140939} z_{3} + \\frac{901430}{2677841} z_{1}^{2} + z_{1} z_{2} \\\\\n",
      "%%%%%%%%%%%%%%%%%%%\n",
      "\\phi_{ 6 }&= z_{4} \\\\\n",
      "%%%%%%%%%%%%%%%%%%%\n",
      "\\phi_{ 7 }&= -\\frac{19366}{14470685} + \\frac{1021683}{57882740} z_{1} - \\frac{123093}{1523230} z_{2} + \\frac{2098}{761615} z_{3} - \\frac{526701}{5788274} z_{1}^{2} + \\frac{987051}{3046460} z_{1} z_{2} + z_{1}^{3} \\\\\n",
      "%%%%%%%%%%%%%%%%%%%\n",
      "\\phi_{ 8 }&= \\frac{461453826}{11486818499} - \\frac{2642678955}{22973636998} z_{1} - \\frac{2015399388}{11486818499} z_{2} + \\frac{155056266}{11486818499} z_{3} + \\frac{1127088507}{11486818499} z_{1}^{2} + \\frac{10632660387}{22973636998} z_{1} z_{2} + z_{2}^{2} + \\frac{119540115}{883601423} z_{1}^{3} \\\\\n",
      "%%%%%%%%%%%%%%%%%%%\n",
      "\\phi_{ 9 }&= \\frac{571089673}{284739845982} - \\frac{348748846}{47456640997} z_{1} + \\frac{7514919897}{189826563988} z_{2} - \\frac{16478033109}{94913281994} z_{3} + \\frac{4133317493}{142369922991} z_{1}^{2} - \\frac{8107667041}{94913281994} z_{1} z_{2} + z_{1} z_{3} - \\frac{6203679105}{189826563988} z_{2}^{2} + \\frac{1065804202}{47456640997} z_{1}^{3} \\\\\n",
      "%%%%%%%%%%%%%%%%%%%\n",
      "\\phi_{ 10 }&= z_{5} \\\\\n",
      "%%%%%%%%%%%%%%%%%%%\n",
      "\\phi_{ 11 }&= -\\frac{57782437641}{3826380737242} + \\frac{11938337955}{273312909803} z_{1} - \\frac{104612734507}{7652761474484} z_{2} - \\frac{26591627361}{3826380737242} z_{3} - \\frac{297444961164}{1913190368621} z_{1}^{2} + \\frac{93107415729}{3826380737242} z_{1} z_{2} + \\frac{3107272575}{273312909803} z_{1} z_{3} + \\frac{2696615824995}{7652761474484} z_{2}^{2} + \\frac{728921063778}{1913190368621} z_{1}^{3} + z_{1}^{2} z_{2} \\\\\n",
      "%%%%%%%%%%%%%%%%%%%\n",
      "\\phi_{ 12 }&= z_{6} \\\\\n",
      "%%%%%%%%%%%%%%%%%%%\n",
      "\\phi_{ 13 }&= -\\frac{6}{35} z_{4} + z_{1} z_{4} \\\\\n",
      "%%%%%%%%%%%%%%%%%%%\n",
      "\\phi_{ 14 }&= \\frac{163038568377}{33042704261575} - \\frac{663170010486}{46259785966205} z_{1} + \\frac{658615051964}{231298929831025} z_{2} - \\frac{34642087364631}{231298929831025} z_{3} + \\frac{9408300822723}{925195719324100} z_{1}^{2} + \\frac{5664193298093}{462597859662050} z_{1} z_{2} + \\frac{3427348256202}{9251957193241} z_{1} z_{3} - \\frac{3074693753778}{46259785966205} z_{2}^{2} + z_{2} z_{3} + \\frac{1036720972131}{27211638803650} z_{1}^{3} + \\frac{5896003235679}{132170817046300} z_{1}^{2} z_{2} \\\\\n",
      "%%%%%%%%%%%%%%%%%%%\n",
      "\\end{align*}\n",
      "\\begin{align*}\n",
      "\\norm{\\phi_{ 1 }}^2&= \\frac{2378}{35} \\\\\n",
      "%%%%%%%%%%%%%%%%%%%\n",
      "\\norm{\\phi_{ 2 }}^2&= \\frac{71656}{1189} \\\\\n",
      "%%%%%%%%%%%%%%%%%%%\n",
      "\\norm{\\phi_{ 3 }}^2&= \\frac{550164}{8957} \\\\\n",
      "%%%%%%%%%%%%%%%%%%%\n",
      "\\norm{\\phi_{ 4 }}^2&= \\frac{140939}{2032} \\\\\n",
      "%%%%%%%%%%%%%%%%%%%\n",
      "\\norm{\\phi_{ 5 }}^2&= \\frac{8337680}{140939} \\\\\n",
      "%%%%%%%%%%%%%%%%%%%\n",
      "\\norm{\\phi_{ 6 }}^2&= 70 \\\\\n",
      "%%%%%%%%%%%%%%%%%%%\n",
      "\\norm{\\phi_{ 7 }}^2&= \\frac{883601423}{14470685} \\\\\n",
      "%%%%%%%%%%%%%%%%%%%\n",
      "\\norm{\\phi_{ 8 }}^2&= \\frac{664392973958}{11486818499} \\\\\n",
      "%%%%%%%%%%%%%%%%%%%\n",
      "\\norm{\\phi_{ 9 }}^2&= \\frac{9565951843105}{142369922991} \\\\\n",
      "%%%%%%%%%%%%%%%%%%%\n",
      "\\norm{\\phi_{ 10 }}^2&= 70 \\\\\n",
      "%%%%%%%%%%%%%%%%%%%\n",
      "\\norm{\\phi_{ 11 }}^2&= \\frac{99128112784725}{1913190368621} \\\\\n",
      "%%%%%%%%%%%%%%%%%%%\n",
      "\\norm{\\phi_{ 12 }}^2&= 70 \\\\\n",
      "%%%%%%%%%%%%%%%%%%%\n",
      "\\norm{\\phi_{ 13 }}^2&= \\frac{2378}{35} \\\\\n",
      "%%%%%%%%%%%%%%%%%%%\n",
      "\\norm{\\phi_{ 14 }}^2&= \\frac{13782481003455449}{231298929831025} \\\\\n",
      "%%%%%%%%%%%%%%%%%%%\n",
      "\\end{align*}\n",
      "\n",
      "\n",
      "\n",
      "\n"
     ]
    },
    {
     "data": {
      "text/html": [
       "<html><script type=\"math/tex; mode=display\">\\newcommand{\\Bold}[1]{\\mathbf{#1}}1 - 5 z_{1} + 10 z_{2} + 5 z_{3} - 10 z_{1}^{2} - z_{1} z_{2}</script></html>"
      ],
      "text/latex": [
       "\\begin{math}\n",
       "\\newcommand{\\Bold}[1]{\\mathbf{#1}}1 - 5 z_{1} + 10 z_{2} + 5 z_{3} - 10 z_{1}^{2} - z_{1} z_{2}\n",
       "\\end{math}"
      ],
      "text/plain": [
       "1 - 5*z1 + 10*z2 + 5*z3 - 10*z1^2 - z1*z2"
      ]
     },
     "metadata": {},
     "output_type": "display_data"
    },
    {
     "name": "stdout",
     "output_type": "stream",
     "text": [
      "test function\n",
      "\\begin{equation*}\n",
      "\\scalebox{2}{\\ensuremath{f= 1 - 5 z_{1} + 10 z_{2} + 5 z_{3} - 10 z_{1}^{2} - z_{1} z_{2} }}\n",
      "\\end{equation*}\n",
      "\\begin{align*}\n",
      "\\phi_{ 0 }&= 1 \\\\\n",
      "%%%%%%%%%%%%%%%%%%%\n",
      "\\phi_{ 1 }&= -\\frac{5}{36} + z_{1} \\\\\n",
      "%%%%%%%%%%%%%%%%%%%\n",
      "\\phi_{ 2 }&= -\\frac{740}{8897} + \\frac{1515}{8897} z_{1} + z_{2} \\\\\n",
      "%%%%%%%%%%%%%%%%%%%\n",
      "\\phi_{ 3 }&= \\frac{35895}{1266034} - \\frac{416155}{5064136} z_{1} + \\frac{276425}{723448} z_{2} + z_{1}^{2} \\\\\n",
      "%%%%%%%%%%%%%%%%%%%\n",
      "\\phi_{ 4 }&= -\\frac{15960930}{1066663547} + \\frac{65205550}{1066663547} z_{1} - \\frac{142666325}{1066663547} z_{2} + z_{3} + \\frac{145336275}{1066663547} z_{1}^{2} \\\\\n",
      "%%%%%%%%%%%%%%%%%%%\n",
      "\\phi_{ 5 }&= \\frac{1779306218}{63172285111} - \\frac{5985284685}{63172285111} z_{1} - \\frac{14114740805}{126344570222} z_{2} + \\frac{7573022965}{126344570222} z_{3} + \\frac{17759983845}{126344570222} z_{1}^{2} + z_{1} z_{2} \\\\\n",
      "%%%%%%%%%%%%%%%%%%%\n",
      "\\phi_{ 6 }&= z_{4} \\\\\n",
      "%%%%%%%%%%%%%%%%%%%\n",
      "\\phi_{ 7 }&= \\frac{7742134125}{30413434146158} + \\frac{266185807745}{15206717073079} z_{1} - \\frac{1510651270600}{15206717073079} z_{2} + \\frac{179110739625}{30413434146158} z_{3} - \\frac{3573311197215}{30413434146158} z_{1}^{2} + \\frac{11893151893925}{30413434146158} z_{1} z_{2} + z_{1}^{3} \\\\\n",
      "%%%%%%%%%%%%%%%%%%%\n",
      "\\phi_{ 8 }&= \\frac{12848962905815}{1409884579418198} - \\frac{11069987180375}{488036969798607} z_{1} - \\frac{1275494206527415}{12688961214763782} z_{2} + \\frac{40879403465525}{2114826869127297} z_{3} - \\frac{24043853756800}{2114826869127297} z_{1}^{2} + \\frac{2604359767709695}{12688961214763782} z_{1} z_{2} + z_{2}^{2} + \\frac{521045613875000}{6344480607381891} z_{1}^{3} \\\\\n",
      "%%%%%%%%%%%%%%%%%%%\n",
      "\\phi_{ 9 }&= \\frac{8227282296691250}{3074311422314174039} - \\frac{52558656538679035}{3074311422314174039} z_{1} + \\frac{224082794260255800}{3074311422314174039} z_{2} - \\frac{450155603303427245}{3074311422314174039} z_{3} + \\frac{182000817262317600}{3074311422314174039} z_{1}^{2} - \\frac{475822115324046450}{3074311422314174039} z_{1} z_{2} + z_{1} z_{3} - \\frac{88865581455816250}{3074311422314174039} z_{2}^{2} + \\frac{393800573070381550}{3074311422314174039} z_{1}^{3} \\\\\n",
      "%%%%%%%%%%%%%%%%%%%\n",
      "\\phi_{ 10 }&= z_{5} \\\\\n",
      "%%%%%%%%%%%%%%%%%%%\n",
      "\\phi_{ 11 }&= -\\frac{6459480886012669510}{1066015626260368753617} + \\frac{7888421505378602982}{355338542086789584539} z_{1} - \\frac{8064985581602474120}{1066015626260368753617} z_{2} - \\frac{8206381098756609125}{355338542086789584539} z_{3} - \\frac{33504535394823152990}{355338542086789584539} z_{1}^{2} - \\frac{12813121190377020795}{355338542086789584539} z_{1} z_{2} + \\frac{19174526476137623955}{355338542086789584539} z_{1} z_{3} + \\frac{139133548765761468225}{355338542086789584539} z_{2}^{2} + \\frac{60089281119497455890}{355338542086789584539} z_{1}^{3} + z_{1}^{2} z_{2} \\\\\n",
      "%%%%%%%%%%%%%%%%%%%\n",
      "\\phi_{ 12 }&= z_{6} \\\\\n",
      "%%%%%%%%%%%%%%%%%%%\n",
      "\\phi_{ 13 }&= -\\frac{5}{36} z_{4} + z_{1} z_{4} \\\\\n",
      "%%%%%%%%%%%%%%%%%%%\n",
      "\\phi_{ 14 }&= \\frac{83145359564583386450}{27075180541243248280261} - \\frac{569919040268958778725}{54150361082486496560522} z_{1} - \\frac{65153111092663379590}{27075180541243248280261} z_{2} - \\frac{2334876701187699797495}{27075180541243248280261} z_{3} - \\frac{307047220580939109625}{27075180541243248280261} z_{1}^{2} + \\frac{2795678878098352345275}{54150361082486496560522} z_{1} z_{2} + \\frac{4846171357151394784570}{27075180541243248280261} z_{1} z_{3} - \\frac{6901699609458325175575}{54150361082486496560522} z_{2}^{2} + z_{2} z_{3} + \\frac{2225758611501182576000}{27075180541243248280261} z_{1}^{3} + \\frac{8545080040841128885825}{54150361082486496560522} z_{1}^{2} z_{2} \\\\\n",
      "%%%%%%%%%%%%%%%%%%%\n",
      "\\end{align*}\n",
      "\\begin{align*}\n",
      "\\norm{\\phi_{ 1 }}^2&= \\frac{8897}{36} \\\\\n",
      "%%%%%%%%%%%%%%%%%%%\n",
      "\\norm{\\phi_{ 2 }}^2&= \\frac{2170344}{8897} \\\\\n",
      "%%%%%%%%%%%%%%%%%%%\n",
      "\\norm{\\phi_{ 3 }}^2&= \\frac{1066663547}{5064136} \\\\\n",
      "%%%%%%%%%%%%%%%%%%%\n",
      "\\norm{\\phi_{ 4 }}^2&= \\frac{252689140444}{1066663547} \\\\\n",
      "%%%%%%%%%%%%%%%%%%%\n",
      "\\norm{\\phi_{ 5 }}^2&= \\frac{15206717073079}{63172285111} \\\\\n",
      "%%%%%%%%%%%%%%%%%%%\n",
      "\\norm{\\phi_{ 6 }}^2&= 252 \\\\\n",
      "%%%%%%%%%%%%%%%%%%%\n",
      "\\norm{\\phi_{ 7 }}^2&= \\frac{6344480607381891}{30413434146158} \\\\\n",
      "%%%%%%%%%%%%%%%%%%%\n",
      "\\norm{\\phi_{ 8 }}^2&= \\frac{3074311422314174039}{12688961214763782} \\\\\n",
      "%%%%%%%%%%%%%%%%%%%\n",
      "\\norm{\\phi_{ 9 }}^2&= \\frac{710677084173579169078}{3074311422314174039} \\\\\n",
      "%%%%%%%%%%%%%%%%%%%\n",
      "\\norm{\\phi_{ 10 }}^2&= 252 \\\\\n",
      "%%%%%%%%%%%%%%%%%%%\n",
      "\\norm{\\phi_{ 11 }}^2&= \\frac{216601444329945986242088}{1066015626260368753617} \\\\\n",
      "%%%%%%%%%%%%%%%%%%%\n",
      "\\norm{\\phi_{ 12 }}^2&= 252 \\\\\n",
      "%%%%%%%%%%%%%%%%%%%\n",
      "\\norm{\\phi_{ 13 }}^2&= \\frac{8897}{36} \\\\\n",
      "%%%%%%%%%%%%%%%%%%%\n",
      "\\norm{\\phi_{ 14 }}^2&= \\frac{12345268497600496411063319}{54150361082486496560522} \\\\\n",
      "%%%%%%%%%%%%%%%%%%%\n",
      "\\end{align*}\n",
      "\n",
      "\n",
      "\n",
      "\n"
     ]
    }
   ],
   "source": [
    "alltheOGs=[]\n",
    "for f in [N4L1,N5L1]:\n",
    "    show(f)\n",
    "    #\n",
    "    DSOGs=[f]\n",
    "    DSOGs=DSOGs+GS_UpTo(monomslist,f,15,monomslist,varseval)\n",
    "    alltheOGs=alltheOGs+[DSOGs]\n",
    "    #\n",
    "    #\n",
    "    print(\"test function\")\n",
    "    print(\"\\\\begin{equation*}\")\n",
    "    print(\"\\\\scalebox{2}{\\\\ensuremath{f=\",latex(f),\"}}\")\n",
    "    print(\"\\\\end{equation*}\")\n",
    "    #\n",
    "    print(\"\\\\begin{align*}\")\n",
    "    for deg in range(1,len(DSOGs)):\n",
    "        print('\\\\phi_{',deg-1,'}&=',latex(DSOGs[deg]),'\\\\\\\\')\n",
    "        print('%%%%%%%%%%%%%%%%%%%')\n",
    "    print(\"\\\\end{align*}\")\n",
    "    #\n",
    "    #norms of the OGs\n",
    "    print(\"\\\\begin{align*}\")\n",
    "    for deg in range(2,len(DSOGs)):\n",
    "        OGnorm=InnerProd(DSOGs[deg]*f,DSOGs[deg]*f,monomslist,varseval)\n",
    "        print(\"\\\\norm{\\\\phi_{\",deg-1,\"}}^2&=\",latex(OGnorm),'\\\\\\\\')\n",
    "        print('%%%%%%%%%%%%%%%%%%%')\n",
    "    print(\"\\\\end{align*}\")\n",
    "    print(\"\")\n",
    "    print(\"\")    \n",
    "    print(\"\")    \n",
    "    print(\"\")    "
   ]
  },
  {
   "cell_type": "code",
   "execution_count": null,
   "metadata": {},
   "outputs": [],
   "source": []
  }
 ],
 "metadata": {
  "kernelspec": {
   "display_name": "SageMath 9.2",
   "language": "sage",
   "name": "sagemath"
  },
  "language_info": {
   "codemirror_mode": {
    "name": "ipython",
    "version": 3
   },
   "file_extension": ".py",
   "mimetype": "text/x-python",
   "name": "python",
   "nbconvert_exporter": "python",
   "pygments_lexer": "ipython3",
   "version": "3.7.7"
  }
 },
 "nbformat": 4,
 "nbformat_minor": 4
}
